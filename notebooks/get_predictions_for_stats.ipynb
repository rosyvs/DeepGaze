{
 "cells": [
  {
   "cell_type": "code",
   "execution_count": 13,
   "metadata": {},
   "outputs": [],
   "source": [
    "import pandas as pd\n",
    "import yaml\n",
    "import torch\n",
    "import os\n",
    "from pytorch_lightning import Trainer, seed_everything\n",
    "from eyemind.trainer.loops import KFoldLoop\n",
    "import eyemind\n",
    "from eyemind.models.transformers import InformerEncoderDecoderModel, InformerEncoderFixationModel, InformerMultiTaskEncoderDecoder\n",
    "from eyemind.dataloading.informer_data import InformerDataModule, InformerMultiLabelDatamodule,  InformerVariableLengthDataModule\n",
    "import matplotlib.pyplot as plt\n",
    "from eyemind.analysis.visualize import plot_scanpath_labels, viz_coding, fixation_image, plot_scanpath_pc"
   ]
  },
  {
   "cell_type": "markdown",
   "metadata": {},
   "source": [
    "# Overview\n",
    "Simply load in already-trained models and generate predictions\n",
    "\n",
    "This shouldn't be this difficult!\n",
    "\n",
    "# Notes\n",
    "\n",
    "\n",
    "in the original informer code, there is a command line option\n",
    "`parser.add_argument('--do_predict', action='store_true', help='whether to predict unseen future data')`\n",
    "Check what this does\n",
    "\n",
    "## encoder only\n",
    "I have managed to get logits from the encoder, but model(batch) does not work when mdoel is the entire multitask enc-decoder stack.\n",
    "\n",
    "## fixation decoder\n",
    "How to load this? \n",
    "A: model.fi_decoder\n",
    "\n",
    "# TODO ideas\n",
    "[x] try loading encoder and fi decoder separately\n",
    "\n",
    "[x] get predictions for other tasks\n",
    "\n",
    "[x] plot predictions\n",
    "\n",
    "[ ] plot attention\n",
    "\n",
    "\n"
   ]
  },
  {
   "cell_type": "code",
   "execution_count": 14,
   "metadata": {},
   "outputs": [
    {
     "name": "stderr",
     "output_type": "stream",
     "text": [
      "Global seed set to 303\n"
     ]
    }
   ],
   "source": [
    "# Load our trained encoder decoder from checkpoint for each fold\n",
    "# this shouold load the encoder and its 4 decoders\n",
    "\n",
    "# using pytorch lightning module\n",
    "# https://lightning.ai/docs/pytorch/stable/deploy/production_basic.html\n",
    "\n",
    "repodir = os.path.dirname(os.path.dirname(eyemind.__file__))\n",
    "test_data_dir = os.path.join(repodir,\"data/EML/gaze+fix+reg\")\n",
    "test_label_file =  os.path.join(repodir,\"./data/EML/EML1_pageLevel_500+_matchEDMinstances.csv\")\n",
    "save_dir_base = f\"{repodir}/lightning_logs/2024/cluster/new_multitask_informer_pretraining\"\n",
    "is_old_version=False\n",
    "fold=0\n",
    "save_dir = os.path.join(save_dir_base, f'fold{fold}/')\n",
    "config_path=os.path.join(save_dir,\"config.yaml\")\n",
    "ckpt_path = os.path.join(save_dir,\"checkpoints\",\"last.ckpt\")\n",
    "# ckpt_path = os.path.join(save_dir,\"checkpoints\",\"epoch=168-step=8619.ckpt\")\n",
    "\n",
    "\n",
    "with open(config_path, \"r\") as f:\n",
    "    config = yaml.safe_load(f)\n",
    "seed_everything(config[\"seed_everything\"], workers=True) # not sure if this is needed\n",
    "\n",
    "model = InformerMultiTaskEncoderDecoder.load_from_checkpoint(ckpt_path,\n",
    "                                                # encoder_weights_path=None\n",
    "                                                )\n",
    "encoder=model.encoder\n",
    "# decoder=model.fi_decoder\n",
    "model.eval()\n",
    "encoder.eval()\n",
    "# decoder.eval()\n",
    "\n",
    "# set up an InformerDataModule to load the same data as used in training\n",
    "# trainer = Trainer(**config[\"trainer\"])\n",
    "# data_dir = os.path.join(repodir,config[\"data\"][\"data_dir\"])\n",
    "# label_file = os.path.join(repodir,config[\"data\"][\"label_filepath\"])\n",
    "config[\"data\"][\"data_dir\"]=test_data_dir\n",
    "config[\"data\"][\"label_filepath\"]=test_label_file\n",
    "\n",
    "# edit config for consistency woth the new version of the datamodule\n",
    "if is_old_version:\n",
    "    config[\"data\"][\"min_sequence_length\"] = config[\"data\"][\"min_scanpath_length\"]\n",
    "    config[\"data\"].pop(\"min_scanpath_length\")\n",
    "    config[\"data\"][\"sample_label_col\"]=\"fixation_label\"\n",
    "    config[\"data\"][\"file_label_col\"]=None\n",
    "\n"
   ]
  },
  {
   "cell_type": "code",
   "execution_count": 15,
   "metadata": {},
   "outputs": [
    {
     "name": "stdout",
     "output_type": "stream",
     "text": [
      "batch: 0\n",
      "length of batch: 5\n"
     ]
    },
    {
     "ename": "AttributeError",
     "evalue": "'list' object has no attribute 'shape'",
     "output_type": "error",
     "traceback": [
      "\u001b[0;31m---------------------------------------------------------------------------\u001b[0m",
      "\u001b[0;31mAttributeError\u001b[0m                            Traceback (most recent call last)",
      "Cell \u001b[0;32mIn[15], line 10\u001b[0m\n\u001b[1;32m      7\u001b[0m \u001b[38;5;28mprint\u001b[39m(\u001b[38;5;124mf\u001b[39m\u001b[38;5;124m\"\u001b[39m\u001b[38;5;124mlength of batch: \u001b[39m\u001b[38;5;132;01m{\u001b[39;00m\u001b[38;5;28mlen\u001b[39m(batch)\u001b[38;5;132;01m}\u001b[39;00m\u001b[38;5;124m\"\u001b[39m)\n\u001b[1;32m      8\u001b[0m \u001b[38;5;28;01mwith\u001b[39;00m torch\u001b[38;5;241m.\u001b[39mno_grad():\n\u001b[1;32m      9\u001b[0m     \u001b[38;5;66;03m# preds = model(batch) # this step fails\u001b[39;00m\n\u001b[0;32m---> 10\u001b[0m     logits\u001b[38;5;241m=\u001b[39m\u001b[43mencoder\u001b[49m\u001b[43m(\u001b[49m\u001b[43mbatch\u001b[49m\u001b[43m[\u001b[49m\u001b[38;5;241;43m0\u001b[39;49m\u001b[43m]\u001b[49m\u001b[43m,\u001b[49m\u001b[43m \u001b[49m\u001b[38;5;28;43;01mNone\u001b[39;49;00m\u001b[43m)\u001b[49m\n\u001b[1;32m     11\u001b[0m     \u001b[38;5;66;03m# fixation_logits = model.fi_decoder.forward(logits)\u001b[39;00m\n\u001b[1;32m     12\u001b[0m     \u001b[38;5;66;03m# fixation_preds=fixation_logits.max(2).indices\u001b[39;00m\n\u001b[1;32m     13\u001b[0m     \u001b[38;5;66;03m# fixation_targets = batch[1]\u001b[39;00m\n\u001b[1;32m     15\u001b[0m \u001b[38;5;28;01mif\u001b[39;00m i\u001b[38;5;241m==\u001b[39m\u001b[38;5;241m0\u001b[39m: \u001b[38;5;66;03m# just run a couple to check\u001b[39;00m\n",
      "File \u001b[0;32m~/miniconda3/envs/dg/lib/python3.10/site-packages/torch/nn/modules/module.py:1194\u001b[0m, in \u001b[0;36mModule._call_impl\u001b[0;34m(self, *input, **kwargs)\u001b[0m\n\u001b[1;32m   1190\u001b[0m \u001b[38;5;66;03m# If we don't have any hooks, we want to skip the rest of the logic in\u001b[39;00m\n\u001b[1;32m   1191\u001b[0m \u001b[38;5;66;03m# this function, and just call forward.\u001b[39;00m\n\u001b[1;32m   1192\u001b[0m \u001b[38;5;28;01mif\u001b[39;00m \u001b[38;5;129;01mnot\u001b[39;00m (\u001b[38;5;28mself\u001b[39m\u001b[38;5;241m.\u001b[39m_backward_hooks \u001b[38;5;129;01mor\u001b[39;00m \u001b[38;5;28mself\u001b[39m\u001b[38;5;241m.\u001b[39m_forward_hooks \u001b[38;5;129;01mor\u001b[39;00m \u001b[38;5;28mself\u001b[39m\u001b[38;5;241m.\u001b[39m_forward_pre_hooks \u001b[38;5;129;01mor\u001b[39;00m _global_backward_hooks\n\u001b[1;32m   1193\u001b[0m         \u001b[38;5;129;01mor\u001b[39;00m _global_forward_hooks \u001b[38;5;129;01mor\u001b[39;00m _global_forward_pre_hooks):\n\u001b[0;32m-> 1194\u001b[0m     \u001b[38;5;28;01mreturn\u001b[39;00m \u001b[43mforward_call\u001b[49m\u001b[43m(\u001b[49m\u001b[38;5;241;43m*\u001b[39;49m\u001b[38;5;28;43minput\u001b[39;49m\u001b[43m,\u001b[49m\u001b[43m \u001b[49m\u001b[38;5;241;43m*\u001b[39;49m\u001b[38;5;241;43m*\u001b[39;49m\u001b[43mkwargs\u001b[49m\u001b[43m)\u001b[49m\n\u001b[1;32m   1195\u001b[0m \u001b[38;5;66;03m# Do not call functions when jit is used\u001b[39;00m\n\u001b[1;32m   1196\u001b[0m full_backward_hooks, non_full_backward_hooks \u001b[38;5;241m=\u001b[39m [], []\n",
      "File \u001b[0;32m~/DeepGaze/eyemind/models/transformers.py:61\u001b[0m, in \u001b[0;36mInformerEncoder.forward\u001b[0;34m(self, x_enc, enc_self_mask)\u001b[0m\n\u001b[1;32m     60\u001b[0m \u001b[38;5;28;01mdef\u001b[39;00m \u001b[38;5;21mforward\u001b[39m(\u001b[38;5;28mself\u001b[39m, x_enc, enc_self_mask\u001b[38;5;241m=\u001b[39m\u001b[38;5;28;01mNone\u001b[39;00m):\n\u001b[0;32m---> 61\u001b[0m     enc_out \u001b[38;5;241m=\u001b[39m \u001b[38;5;28;43mself\u001b[39;49m\u001b[38;5;241;43m.\u001b[39;49m\u001b[43menc_embedding\u001b[49m\u001b[43m(\u001b[49m\u001b[43mx_enc\u001b[49m\u001b[43m)\u001b[49m\n\u001b[1;32m     62\u001b[0m     enc_out, attns \u001b[38;5;241m=\u001b[39m \u001b[38;5;28mself\u001b[39m\u001b[38;5;241m.\u001b[39mencoder(enc_out, attn_mask\u001b[38;5;241m=\u001b[39menc_self_mask)\n\u001b[1;32m     63\u001b[0m     \u001b[38;5;28;01mif\u001b[39;00m \u001b[38;5;28mself\u001b[39m\u001b[38;5;241m.\u001b[39moutput_attention:\n",
      "File \u001b[0;32m~/miniconda3/envs/dg/lib/python3.10/site-packages/torch/nn/modules/module.py:1194\u001b[0m, in \u001b[0;36mModule._call_impl\u001b[0;34m(self, *input, **kwargs)\u001b[0m\n\u001b[1;32m   1190\u001b[0m \u001b[38;5;66;03m# If we don't have any hooks, we want to skip the rest of the logic in\u001b[39;00m\n\u001b[1;32m   1191\u001b[0m \u001b[38;5;66;03m# this function, and just call forward.\u001b[39;00m\n\u001b[1;32m   1192\u001b[0m \u001b[38;5;28;01mif\u001b[39;00m \u001b[38;5;129;01mnot\u001b[39;00m (\u001b[38;5;28mself\u001b[39m\u001b[38;5;241m.\u001b[39m_backward_hooks \u001b[38;5;129;01mor\u001b[39;00m \u001b[38;5;28mself\u001b[39m\u001b[38;5;241m.\u001b[39m_forward_hooks \u001b[38;5;129;01mor\u001b[39;00m \u001b[38;5;28mself\u001b[39m\u001b[38;5;241m.\u001b[39m_forward_pre_hooks \u001b[38;5;129;01mor\u001b[39;00m _global_backward_hooks\n\u001b[1;32m   1193\u001b[0m         \u001b[38;5;129;01mor\u001b[39;00m _global_forward_hooks \u001b[38;5;129;01mor\u001b[39;00m _global_forward_pre_hooks):\n\u001b[0;32m-> 1194\u001b[0m     \u001b[38;5;28;01mreturn\u001b[39;00m \u001b[43mforward_call\u001b[49m\u001b[43m(\u001b[49m\u001b[38;5;241;43m*\u001b[39;49m\u001b[38;5;28;43minput\u001b[39;49m\u001b[43m,\u001b[49m\u001b[43m \u001b[49m\u001b[38;5;241;43m*\u001b[39;49m\u001b[38;5;241;43m*\u001b[39;49m\u001b[43mkwargs\u001b[49m\u001b[43m)\u001b[49m\n\u001b[1;32m   1195\u001b[0m \u001b[38;5;66;03m# Do not call functions when jit is used\u001b[39;00m\n\u001b[1;32m   1196\u001b[0m full_backward_hooks, non_full_backward_hooks \u001b[38;5;241m=\u001b[39m [], []\n",
      "File \u001b[0;32m~/DeepGaze/eyemind/models/informer/models/embed.py:122\u001b[0m, in \u001b[0;36mGazeEmbedding.forward\u001b[0;34m(self, x)\u001b[0m\n\u001b[1;32m    121\u001b[0m \u001b[38;5;28;01mdef\u001b[39;00m \u001b[38;5;21mforward\u001b[39m(\u001b[38;5;28mself\u001b[39m, x):\n\u001b[0;32m--> 122\u001b[0m     x \u001b[38;5;241m=\u001b[39m \u001b[38;5;28;43mself\u001b[39;49m\u001b[38;5;241;43m.\u001b[39;49m\u001b[43mvalue_embedding\u001b[49m\u001b[43m(\u001b[49m\u001b[43mx\u001b[49m\u001b[43m)\u001b[49m \u001b[38;5;241m+\u001b[39m \u001b[38;5;28mself\u001b[39m\u001b[38;5;241m.\u001b[39mposition_embedding(x)\n\u001b[1;32m    123\u001b[0m     \u001b[38;5;28;01mreturn\u001b[39;00m \u001b[38;5;28mself\u001b[39m\u001b[38;5;241m.\u001b[39mdropout(x)\n",
      "File \u001b[0;32m~/miniconda3/envs/dg/lib/python3.10/site-packages/torch/nn/modules/module.py:1194\u001b[0m, in \u001b[0;36mModule._call_impl\u001b[0;34m(self, *input, **kwargs)\u001b[0m\n\u001b[1;32m   1190\u001b[0m \u001b[38;5;66;03m# If we don't have any hooks, we want to skip the rest of the logic in\u001b[39;00m\n\u001b[1;32m   1191\u001b[0m \u001b[38;5;66;03m# this function, and just call forward.\u001b[39;00m\n\u001b[1;32m   1192\u001b[0m \u001b[38;5;28;01mif\u001b[39;00m \u001b[38;5;129;01mnot\u001b[39;00m (\u001b[38;5;28mself\u001b[39m\u001b[38;5;241m.\u001b[39m_backward_hooks \u001b[38;5;129;01mor\u001b[39;00m \u001b[38;5;28mself\u001b[39m\u001b[38;5;241m.\u001b[39m_forward_hooks \u001b[38;5;129;01mor\u001b[39;00m \u001b[38;5;28mself\u001b[39m\u001b[38;5;241m.\u001b[39m_forward_pre_hooks \u001b[38;5;129;01mor\u001b[39;00m _global_backward_hooks\n\u001b[1;32m   1193\u001b[0m         \u001b[38;5;129;01mor\u001b[39;00m _global_forward_hooks \u001b[38;5;129;01mor\u001b[39;00m _global_forward_pre_hooks):\n\u001b[0;32m-> 1194\u001b[0m     \u001b[38;5;28;01mreturn\u001b[39;00m \u001b[43mforward_call\u001b[49m\u001b[43m(\u001b[49m\u001b[38;5;241;43m*\u001b[39;49m\u001b[38;5;28;43minput\u001b[39;49m\u001b[43m,\u001b[49m\u001b[43m \u001b[49m\u001b[38;5;241;43m*\u001b[39;49m\u001b[38;5;241;43m*\u001b[39;49m\u001b[43mkwargs\u001b[49m\u001b[43m)\u001b[49m\n\u001b[1;32m   1195\u001b[0m \u001b[38;5;66;03m# Do not call functions when jit is used\u001b[39;00m\n\u001b[1;32m   1196\u001b[0m full_backward_hooks, non_full_backward_hooks \u001b[38;5;241m=\u001b[39m [], []\n",
      "File \u001b[0;32m~/DeepGaze/eyemind/models/informer/models/embed.py:37\u001b[0m, in \u001b[0;36mTokenEmbedding.forward\u001b[0;34m(self, x)\u001b[0m\n\u001b[1;32m     36\u001b[0m \u001b[38;5;28;01mdef\u001b[39;00m \u001b[38;5;21mforward\u001b[39m(\u001b[38;5;28mself\u001b[39m, x):\n\u001b[0;32m---> 37\u001b[0m     \u001b[38;5;28;01mif\u001b[39;00m \u001b[38;5;28mlen\u001b[39m(\u001b[43mx\u001b[49m\u001b[38;5;241;43m.\u001b[39;49m\u001b[43mshape\u001b[49m) \u001b[38;5;241m==\u001b[39m \u001b[38;5;241m2\u001b[39m:\n\u001b[1;32m     38\u001b[0m         x \u001b[38;5;241m=\u001b[39m torch\u001b[38;5;241m.\u001b[39munsqueeze(x,\u001b[38;5;241m-\u001b[39m\u001b[38;5;241m1\u001b[39m)\n\u001b[1;32m     39\u001b[0m     x \u001b[38;5;241m=\u001b[39m \u001b[38;5;28mself\u001b[39m\u001b[38;5;241m.\u001b[39mtokenConv(x\u001b[38;5;241m.\u001b[39mpermute(\u001b[38;5;241m0\u001b[39m, \u001b[38;5;241m2\u001b[39m, \u001b[38;5;241m1\u001b[39m))\u001b[38;5;241m.\u001b[39mtranspose(\u001b[38;5;241m1\u001b[39m,\u001b[38;5;241m2\u001b[39m)\n",
      "\u001b[0;31mAttributeError\u001b[0m: 'list' object has no attribute 'shape'"
     ]
    }
   ],
   "source": [
    "\n",
    "datamodule = InformerMultiLabelDatamodule(**config[\"data\"])\n",
    "datamodule.setup()\n",
    "\n",
    "test_dl = datamodule.get_dataloader(datamodule.test_dataset) # this is the held out fold's dataloader\n",
    "for i,batch in enumerate(test_dl):\n",
    "    print(f\"batch: {i}\")\n",
    "    print(f\"length of batch: {len(batch)}\")\n",
    "    with torch.no_grad():\n",
    "        # preds = model(batch) # this step fails\n",
    "        logits=encoder(batch[0], None)\n",
    "        # fixation_logits = model.fi_decoder.forward(logits)\n",
    "        # fixation_preds=fixation_logits.max(2).indices\n",
    "        # fixation_targets = batch[1]\n",
    "\n",
    "    if i==0: # just run a couple to check\n",
    "        break\n"
   ]
  },
  {
   "cell_type": "code",
   "execution_count": 6,
   "metadata": {},
   "outputs": [
    {
     "data": {
      "text/plain": [
       "{'data_dir': '/home/rosy/DeepGaze/data/EML/gaze+fix+reg',\n",
       " 'label_filepath': '/home/rosy/DeepGaze/./data/EML/EML1_pageLevel_500+_matchEDMinstances.csv',\n",
       " 'sample_label_col': 'regression_label',\n",
       " 'file_label_col': 'readWPM',\n",
       " 'load_setup_path': None,\n",
       " 'test_dir': None,\n",
       " 'train_dataset': None,\n",
       " 'val_dataset': None,\n",
       " 'test_dataset': None,\n",
       " 'train_fold': None,\n",
       " 'val_fold': None,\n",
       " 'sequence_length': 500,\n",
       " 'num_workers': 16,\n",
       " 'batch_size': 32,\n",
       " 'pin_memory': True,\n",
       " 'drop_last': True,\n",
       " 'label_length': 48,\n",
       " 'pred_length': None,\n",
       " 'min_sequence_length': 500,\n",
       " 'contrastive': True,\n",
       " 'scale_file_label': True,\n",
       " 'scale_sample_label': False,\n",
       " 'scale_gaze': True,\n",
       " 'mean_gaze_xy': [-0.698, -1.94],\n",
       " 'std_gaze_xy': [4.15, 3.286],\n",
       " 'mean_sample_label': 0.0,\n",
       " 'std_sample_label': 1.0,\n",
       " 'usecols': [1, 2]}"
      ]
     },
     "execution_count": 6,
     "metadata": {},
     "output_type": "execute_result"
    }
   ],
   "source": [
    "config[\"data\"]"
   ]
  },
  {
   "cell_type": "code",
   "execution_count": 17,
   "metadata": {},
   "outputs": [
    {
     "name": "stdout",
     "output_type": "stream",
     "text": [
      "5\n",
      "torch.Size([32, 500, 2])\n",
      "torch.Size([32, 500])\n",
      "torch.Size([32, 1])\n",
      "torch.Size([32, 500, 2])\n",
      "torch.Size([32])\n",
      "percentage of nans in  encoder logits: 0.0\n",
      "logits shape: torch.Size([32, 500, 512])\n"
     ]
    }
   ],
   "source": [
    "# Try running encoder on batch\n",
    "# batch size is 32\n",
    "# but batch contains 4 elements each of length 32\n",
    "\n",
    "with torch.no_grad():\n",
    "    print((len(batch)))\n",
    "    if len(batch) == 4:\n",
    "        X, yi, X2, CL_y = batch\n",
    "    elif len(batch) == 5:\n",
    "        X, yi,file_labels , X2, CL_y= batch\n",
    "    print(batch[0].shape) # <- sequence\n",
    "    print(batch[1].shape) # <- fixation targets, but we want to pretend we don't know these!\n",
    "    print(batch[2].shape) # <- second sequence for contrastive\n",
    "    print(batch[3].shape) # <- Some binary label per instance = contrastive label\n",
    "    if len(batch)>4:\n",
    "        print(batch[4].shape)\n",
    "    with torch.no_grad():\n",
    "        logits = encoder.forward(X, None)\n",
    "    perc_nan = torch.isnan(logits).sum() / torch.numel(logits)\n",
    "    print(f'percentage of nans in  encoder logits: {100*perc_nan}')\n",
    "    # if torch.equal(logits2, logits):\n",
    "    #     print('providing labels made no difference')\n",
    "    # else:\n",
    "    #     print('removing labels changed the predicitons')\n",
    "\n",
    "    print(f'logits shape: {logits.shape}')\n"
   ]
  },
  {
   "cell_type": "code",
   "execution_count": 18,
   "metadata": {},
   "outputs": [
    {
     "name": "stdout",
     "output_type": "stream",
     "text": [
      "tensor([-0.0097, -0.0097, -0.0097, -0.0097, -0.0097, -0.0097, -0.0097, -0.0097,\n",
      "        -0.0097, -0.0097, -0.0097, -0.0097, -0.0097, -0.0097, -0.0097, -0.0097,\n",
      "        -0.0097, -0.0097, -0.0097, -0.0097, -0.0097, -0.0097, -0.0097, -0.0097,\n",
      "        -0.0097, -0.0097, -0.0097, -0.0097, -0.0097, -0.0097, -0.0097, -0.0097,\n",
      "        -0.0097, -0.0097, -0.0097, -0.0097, -0.0097, -0.0097, -0.0097, -0.0097,\n",
      "        -0.0097, -0.0097, -0.0097, -0.0097, -0.0097, -0.0097, -0.0097, -0.0097,\n",
      "        -0.0097, -0.0097, -0.0097, -0.0097, -0.0097, -0.0097, -0.0097, -0.0097,\n",
      "        -0.0097, -0.0097, -0.0097, -0.0097, -0.0097, -0.0097, -0.0097, -0.0097,\n",
      "        -0.0097, -0.0097, -0.0097, -0.0097, -0.0097, -0.0097, -0.0097, -0.0097,\n",
      "        -0.0097, -0.0097, -0.0097, -0.0097, -0.0097, -0.0097, -0.0097, -0.0097,\n",
      "        -0.0097, -0.0097, -0.0097, -0.0097, -0.0097, -0.0097, -0.0097, -0.0097,\n",
      "        -0.0097, -0.0097, -0.0097, -0.0097, -0.0097, -0.0097, -0.0097, -0.0097,\n",
      "        -0.0097, -0.0097, -0.0097, -0.0097, -0.0097, -0.0097, -0.0097, -0.0097,\n",
      "        -0.0097, -0.0097, -0.0097, -0.0097, -0.0097, -0.0097, -0.0097, -0.0097,\n",
      "        -0.0097, -0.0097, -0.0097, -0.0097, -0.0097, -0.0097, -0.0097, -0.0097,\n",
      "        -0.0097, -0.0097, -0.0097, -0.0097, -0.0097, -0.0097, -0.0097, -0.0097,\n",
      "        -0.0097, -0.0097, -0.0097, -0.0097, -0.0097, -0.0097, -0.0097, -0.0097,\n",
      "        -0.0097, -0.0097, -0.0097, -0.0097, -0.0097, -0.0097, -0.0097, -0.0097,\n",
      "        -0.0097, -0.0097, -0.0097, -0.0097, -0.0097, -0.0097, -0.0097, -0.0097,\n",
      "        -0.0097, -0.0097, -0.0097, -0.0097, -0.0097, -0.0097, -0.0097, -0.0097,\n",
      "        -0.0097, -0.0097, -0.0097, -0.0097, -0.0097, -0.0097, -0.0097, -0.0097,\n",
      "        -0.0097, -0.0097, -0.0097, -0.0097, -0.0097, -0.0097, -0.0097, -0.0097,\n",
      "        -0.0097, -0.0097, -0.0097, -0.0097, -0.0097, -0.0097, -0.0097, -0.0097,\n",
      "        -0.0097, -0.0097, -0.0097, -0.0097, -0.0097, -0.0097, -0.0097, -0.0097,\n",
      "        -0.0097, -0.0097, -0.0097, -0.0097, -0.0097, -0.0097, -0.0097, -0.0097,\n",
      "        -0.0097, -0.0097, -0.0097, -0.0097, -0.0097, -0.0097, -0.0097, -0.0097,\n",
      "        -0.0097, -0.0097, -0.0097, -0.0097, -0.0097, -0.0097, -0.0097, -0.0097,\n",
      "        -0.0097, -0.0097, -0.0097, -0.0097, -0.0097, -0.0097, -0.0097, -0.0097,\n",
      "        -0.0097, -0.0097, -0.0097, -0.0097, -0.0097, -0.0097, -0.0097, -0.0097,\n",
      "        -0.0097, -0.0097, -0.0097, -0.0097, -0.0097, -0.0097, -0.0097, -0.0097,\n",
      "        -0.0097, -0.0097, -0.0097, -0.0097, -0.0097, -0.0097, -0.0097, -0.0097,\n",
      "        -0.0097, -0.0097, -0.0097, -0.0097, -0.0097, -0.0097, -0.0097, -0.0097,\n",
      "        -0.0097, -0.0097, -0.0097, -0.0097, -0.0097, -0.0097, -0.0097, -0.0097,\n",
      "        -0.0097, -0.0097, -0.0097, -0.0097, -0.0097, -0.0097, -0.0097, -0.0097,\n",
      "        -0.0097, -0.0097, -0.0097, -0.0097, -0.0097, -0.0097, -0.0097, -0.0097,\n",
      "        -0.0097, -0.0097, -0.0097, -0.0097, -0.0097, -0.0097, -0.0097, -0.0097,\n",
      "        -0.0097, -0.0097, -0.0097, -0.0097, -0.0097, -0.0097, -0.0097, -0.0097,\n",
      "        -0.0097, -0.0097, -0.0097, -0.0097, -0.0097, -0.0097, -0.0097, -0.0097,\n",
      "        -0.0097, -0.0097, -0.0097, -0.0097, -0.0097, -0.0097, -0.0097, -0.0097,\n",
      "        -0.0097, -0.0097, -0.0097, -0.0097, -0.0097, -0.0097, -0.0097, -0.0097,\n",
      "        -0.0097, -0.0097, -0.0097, -0.0097, -0.0097, -0.0097, -0.0097, -0.0097,\n",
      "        -0.0097, -0.0097, -0.0097, -0.0097, -0.0097, -0.0097, -0.0097, -0.0097,\n",
      "        -0.0097, -0.0097, -0.0097, -0.0097, -0.0097, -0.0097, -0.0097, -0.0097,\n",
      "        -0.0097, -0.0097, -0.0097, -0.0097, -0.0097, -0.0097, -0.0097, -0.0097,\n",
      "        -0.0097, -0.0097, -0.0097, -0.0097, -0.0097, -0.0097, -0.0097, -0.0097,\n",
      "        -0.0097, -0.0097, -0.0097, -0.0097, -0.0097, -0.0097, -0.0097, -0.0097,\n",
      "        -0.0097, -0.0097, -0.0097, -0.0097, -0.0097, -0.0097, -0.0097, -0.0097,\n",
      "        -0.0097, -0.0097, -0.0097, -0.0097, -0.0097, -0.0097, -0.0097, -0.0097,\n",
      "        -0.0097, -0.0097, -0.0097, -0.0097, -0.0097, -0.0097, -0.0097, -0.0097,\n",
      "        -0.0097, -0.0097, -0.0097, -0.0097, -0.0097, -0.0097, -0.0097, -0.0097,\n",
      "        -0.0097, -0.0097, -0.0097, -0.0097, -0.0097, -0.0097, -0.0097, -0.0097,\n",
      "        -0.0097, -0.0097, -0.0097, -0.0097, -0.0097, -0.0097, -0.0097, -0.0097,\n",
      "        -0.0097, -0.0097, -0.0097, -0.0097, -0.0097, -0.0097, -0.0097, -0.0097,\n",
      "        -0.0097, -0.0097, -0.0097, -0.0097, -0.0097, -0.0097, -0.0097, -0.0097,\n",
      "        -0.0097, -0.0097, -0.0097, -0.0097, -0.0097, -0.0097, -0.0097, -0.0097,\n",
      "        -0.0097, -0.0097, -0.0097, -0.0097, -0.0097, -0.0097, -0.0097, -0.0097,\n",
      "        -0.0097, -0.0097, -0.0097, -0.0097, -0.0097, -0.0097, -0.0097, -0.0097,\n",
      "        -0.0097, -0.0097, -0.0097, -0.0097, -0.0097, -0.0097, -0.0097, -0.0097,\n",
      "        -0.0097, -0.0097, -0.0097, -0.0097, -0.0097, -0.0097, -0.0097, -0.0097,\n",
      "        -0.0097, -0.0097, -0.0097, -0.0097, -0.0097, -0.0097, -0.0097, -0.0097,\n",
      "        -0.0097, -0.0097, -0.0097, -0.0097, -0.0097, -0.0097, -0.0097, -0.0097,\n",
      "        -0.0097, -0.0097, -0.0097, -0.0097, -0.0097, -0.0097, -0.0097, -0.0097,\n",
      "        -0.0097, -0.0097, -0.0097, -0.0097])\n"
     ]
    },
    {
     "data": {
      "text/plain": [
       "tensor([[[-0.0072, -0.0097, -0.0057,  ..., -0.0750, -0.0208, -0.0031],\n",
       "         [-0.0072, -0.0097, -0.0057,  ..., -0.0750, -0.0208, -0.0031],\n",
       "         [-0.0072, -0.0097, -0.0057,  ..., -0.0750, -0.0208, -0.0031],\n",
       "         ...,\n",
       "         [-0.0072, -0.0097, -0.0057,  ..., -0.0750, -0.0208, -0.0031],\n",
       "         [-0.0072, -0.0097, -0.0057,  ..., -0.0750, -0.0208, -0.0031],\n",
       "         [-0.0072, -0.0097, -0.0057,  ..., -0.0750, -0.0208, -0.0031]],\n",
       "\n",
       "        [[-0.0072, -0.0097, -0.0057,  ..., -0.0750, -0.0208, -0.0031],\n",
       "         [-0.0072, -0.0097, -0.0057,  ..., -0.0750, -0.0208, -0.0031],\n",
       "         [-0.0072, -0.0097, -0.0057,  ..., -0.0750, -0.0208, -0.0031],\n",
       "         ...,\n",
       "         [-0.0072, -0.0097, -0.0057,  ..., -0.0750, -0.0208, -0.0031],\n",
       "         [-0.0072, -0.0097, -0.0057,  ..., -0.0750, -0.0208, -0.0031],\n",
       "         [-0.0072, -0.0097, -0.0057,  ..., -0.0750, -0.0208, -0.0031]],\n",
       "\n",
       "        [[-0.0072, -0.0097, -0.0057,  ..., -0.0750, -0.0208, -0.0031],\n",
       "         [-0.0072, -0.0097, -0.0057,  ..., -0.0750, -0.0208, -0.0031],\n",
       "         [-0.0072, -0.0097, -0.0057,  ..., -0.0750, -0.0208, -0.0031],\n",
       "         ...,\n",
       "         [-0.0072, -0.0097, -0.0057,  ..., -0.0750, -0.0208, -0.0031],\n",
       "         [-0.0072, -0.0097, -0.0057,  ..., -0.0750, -0.0208, -0.0031],\n",
       "         [-0.0072, -0.0097, -0.0057,  ..., -0.0750, -0.0208, -0.0031]],\n",
       "\n",
       "        ...,\n",
       "\n",
       "        [[-0.0072, -0.0097, -0.0057,  ..., -0.0750, -0.0208, -0.0031],\n",
       "         [-0.0072, -0.0097, -0.0057,  ..., -0.0750, -0.0208, -0.0031],\n",
       "         [-0.0072, -0.0097, -0.0057,  ..., -0.0750, -0.0208, -0.0031],\n",
       "         ...,\n",
       "         [-0.0072, -0.0097, -0.0057,  ..., -0.0750, -0.0208, -0.0031],\n",
       "         [-0.0072, -0.0097, -0.0057,  ..., -0.0750, -0.0208, -0.0031],\n",
       "         [-0.0072, -0.0097, -0.0057,  ..., -0.0750, -0.0208, -0.0031]],\n",
       "\n",
       "        [[-0.0072, -0.0097, -0.0057,  ..., -0.0750, -0.0208, -0.0031],\n",
       "         [-0.0072, -0.0097, -0.0057,  ..., -0.0750, -0.0208, -0.0031],\n",
       "         [-0.0072, -0.0097, -0.0057,  ..., -0.0750, -0.0208, -0.0031],\n",
       "         ...,\n",
       "         [-0.0072, -0.0097, -0.0057,  ..., -0.0750, -0.0208, -0.0031],\n",
       "         [-0.0072, -0.0097, -0.0057,  ..., -0.0750, -0.0208, -0.0031],\n",
       "         [-0.0072, -0.0097, -0.0057,  ..., -0.0750, -0.0208, -0.0031]],\n",
       "\n",
       "        [[-0.0072, -0.0097, -0.0057,  ..., -0.0750, -0.0208, -0.0031],\n",
       "         [-0.0072, -0.0097, -0.0057,  ..., -0.0750, -0.0208, -0.0031],\n",
       "         [-0.0072, -0.0097, -0.0057,  ..., -0.0750, -0.0208, -0.0031],\n",
       "         ...,\n",
       "         [-0.0072, -0.0097, -0.0057,  ..., -0.0750, -0.0208, -0.0031],\n",
       "         [-0.0072, -0.0097, -0.0057,  ..., -0.0750, -0.0208, -0.0031],\n",
       "         [-0.0072, -0.0097, -0.0057,  ..., -0.0750, -0.0208, -0.0031]]])"
      ]
     },
     "execution_count": 18,
     "metadata": {},
     "output_type": "execute_result"
    }
   ],
   "source": [
    "    print(logits[0,:,1])\n",
    "logits"
   ]
  },
  {
   "cell_type": "code",
   "execution_count": 19,
   "metadata": {},
   "outputs": [
    {
     "name": "stdout",
     "output_type": "stream",
     "text": [
      "model has fm_decoder\n",
      "FI decoder: Linear(in_features=512, out_features=3, bias=True)\n",
      "RC decoder: InformerDecoder(\n",
      "  (dec_embedding): GazeEmbedding(\n",
      "    (value_embedding): TokenEmbedding(\n",
      "      (tokenConv): Conv1d(2, 512, kernel_size=(3,), stride=(1,), padding=(1,), padding_mode=circular)\n",
      "    )\n",
      "    (position_embedding): PositionalEmbedding()\n",
      "    (dropout): Dropout(p=0.1, inplace=False)\n",
      "  )\n",
      "  (decoder): Decoder(\n",
      "    (layers): ModuleList(\n",
      "      (0): DecoderLayer(\n",
      "        (self_attention): AttentionLayer(\n",
      "          (inner_attention): ProbAttention(\n",
      "            (dropout): Dropout(p=0.1, inplace=False)\n",
      "          )\n",
      "          (query_projection): Linear(in_features=512, out_features=512, bias=True)\n",
      "          (key_projection): Linear(in_features=512, out_features=512, bias=True)\n",
      "          (value_projection): Linear(in_features=512, out_features=512, bias=True)\n",
      "          (out_projection): Linear(in_features=512, out_features=512, bias=True)\n",
      "        )\n",
      "        (cross_attention): AttentionLayer(\n",
      "          (inner_attention): FullAttention(\n",
      "            (dropout): Dropout(p=0.1, inplace=False)\n",
      "          )\n",
      "          (query_projection): Linear(in_features=512, out_features=512, bias=True)\n",
      "          (key_projection): Linear(in_features=512, out_features=512, bias=True)\n",
      "          (value_projection): Linear(in_features=512, out_features=512, bias=True)\n",
      "          (out_projection): Linear(in_features=512, out_features=512, bias=True)\n",
      "        )\n",
      "        (conv1): Conv1d(512, 512, kernel_size=(1,), stride=(1,))\n",
      "        (conv2): Conv1d(512, 512, kernel_size=(1,), stride=(1,))\n",
      "        (norm1): LayerNorm((512,), eps=1e-05, elementwise_affine=True)\n",
      "        (norm2): LayerNorm((512,), eps=1e-05, elementwise_affine=True)\n",
      "        (norm3): LayerNorm((512,), eps=1e-05, elementwise_affine=True)\n",
      "        (dropout): Dropout(p=0.1, inplace=False)\n",
      "      )\n",
      "      (1): DecoderLayer(\n",
      "        (self_attention): AttentionLayer(\n",
      "          (inner_attention): ProbAttention(\n",
      "            (dropout): Dropout(p=0.1, inplace=False)\n",
      "          )\n",
      "          (query_projection): Linear(in_features=512, out_features=512, bias=True)\n",
      "          (key_projection): Linear(in_features=512, out_features=512, bias=True)\n",
      "          (value_projection): Linear(in_features=512, out_features=512, bias=True)\n",
      "          (out_projection): Linear(in_features=512, out_features=512, bias=True)\n",
      "        )\n",
      "        (cross_attention): AttentionLayer(\n",
      "          (inner_attention): FullAttention(\n",
      "            (dropout): Dropout(p=0.1, inplace=False)\n",
      "          )\n",
      "          (query_projection): Linear(in_features=512, out_features=512, bias=True)\n",
      "          (key_projection): Linear(in_features=512, out_features=512, bias=True)\n",
      "          (value_projection): Linear(in_features=512, out_features=512, bias=True)\n",
      "          (out_projection): Linear(in_features=512, out_features=512, bias=True)\n",
      "        )\n",
      "        (conv1): Conv1d(512, 512, kernel_size=(1,), stride=(1,))\n",
      "        (conv2): Conv1d(512, 512, kernel_size=(1,), stride=(1,))\n",
      "        (norm1): LayerNorm((512,), eps=1e-05, elementwise_affine=True)\n",
      "        (norm2): LayerNorm((512,), eps=1e-05, elementwise_affine=True)\n",
      "        (norm3): LayerNorm((512,), eps=1e-05, elementwise_affine=True)\n",
      "        (dropout): Dropout(p=0.1, inplace=False)\n",
      "      )\n",
      "    )\n",
      "    (norm): LayerNorm((512,), eps=1e-05, elementwise_affine=True)\n",
      "  )\n",
      "  (projection): Linear(in_features=512, out_features=2, bias=True)\n",
      ")\n",
      "CL decoder: MLP(\n",
      "  (mlp): Sequential(\n",
      "    (0): Linear(in_features=512, out_features=128, bias=True)\n",
      "    (1): ReLU()\n",
      "    (2): BatchNorm1d(128, eps=1e-05, momentum=0.1, affine=True, track_running_stats=True)\n",
      "    (3): Linear(in_features=128, out_features=2, bias=True)\n",
      "  )\n",
      ")\n"
     ]
    }
   ],
   "source": [
    "# # We can see the attributes of the full model using dir\n",
    "# dir(model)\n",
    "# # it has a module list of decoders\n",
    "# dir(model.decoders)\n",
    "if hasattr(model, \"fi_decoder\"):\n",
    "    print(\"model has fi_decoder\")\n",
    "elif hasattr(model, \"fm_decoder\"):\n",
    "    model.fi_decoder = model.fm_decoder\n",
    "    print(\"model has fm_decoder\")\n",
    "else:\n",
    "    print(\"model has no fixation decoder\")\n",
    "# Apart from pc we can access each task's decoder like so:\n",
    "print(f'FI decoder: {model.fi_decoder}')\n",
    "print(f'RC decoder: {model.rc_decoder}')\n",
    "print(f'CL decoder: {model.cl_decoder}')"
   ]
  },
  {
   "cell_type": "code",
   "execution_count": 20,
   "metadata": {},
   "outputs": [
    {
     "name": "stdout",
     "output_type": "stream",
     "text": [
      "tensor([[[-0.0435, -0.0375,  0.0340],\n",
      "         [-0.0435, -0.0375,  0.0340],\n",
      "         [-0.0435, -0.0375,  0.0340],\n",
      "         ...,\n",
      "         [-0.0435, -0.0375,  0.0340],\n",
      "         [-0.0435, -0.0375,  0.0340],\n",
      "         [-0.0435, -0.0375,  0.0340]],\n",
      "\n",
      "        [[-0.0435, -0.0375,  0.0340],\n",
      "         [-0.0435, -0.0375,  0.0340],\n",
      "         [-0.0435, -0.0375,  0.0340],\n",
      "         ...,\n",
      "         [-0.0435, -0.0375,  0.0340],\n",
      "         [-0.0435, -0.0375,  0.0340],\n",
      "         [-0.0435, -0.0375,  0.0340]],\n",
      "\n",
      "        [[-0.0435, -0.0375,  0.0340],\n",
      "         [-0.0435, -0.0375,  0.0340],\n",
      "         [-0.0435, -0.0375,  0.0340],\n",
      "         ...,\n",
      "         [-0.0435, -0.0375,  0.0340],\n",
      "         [-0.0435, -0.0375,  0.0340],\n",
      "         [-0.0435, -0.0375,  0.0340]],\n",
      "\n",
      "        ...,\n",
      "\n",
      "        [[-0.0435, -0.0375,  0.0340],\n",
      "         [-0.0435, -0.0375,  0.0340],\n",
      "         [-0.0435, -0.0375,  0.0340],\n",
      "         ...,\n",
      "         [-0.0435, -0.0375,  0.0340],\n",
      "         [-0.0435, -0.0375,  0.0340],\n",
      "         [-0.0435, -0.0375,  0.0340]],\n",
      "\n",
      "        [[-0.0435, -0.0375,  0.0340],\n",
      "         [-0.0435, -0.0375,  0.0340],\n",
      "         [-0.0435, -0.0375,  0.0340],\n",
      "         ...,\n",
      "         [-0.0435, -0.0375,  0.0340],\n",
      "         [-0.0435, -0.0375,  0.0340],\n",
      "         [-0.0435, -0.0375,  0.0340]],\n",
      "\n",
      "        [[-0.0435, -0.0375,  0.0340],\n",
      "         [-0.0435, -0.0375,  0.0340],\n",
      "         [-0.0435, -0.0375,  0.0340],\n",
      "         ...,\n",
      "         [-0.0435, -0.0375,  0.0340],\n",
      "         [-0.0435, -0.0375,  0.0340],\n",
      "         [-0.0435, -0.0375,  0.0340]]], grad_fn=<ViewBackward0>)\n",
      "unique preds: tensor([2])\n",
      "unique targets: tensor([0., 1., 2.])\n"
     ]
    }
   ],
   "source": [
    "# Great! Let's use the logits from the encoder as input to the fi decoder...\n",
    "\n",
    "fixation_logits = model.fi_decoder.forward(logits)\n",
    "# this is of shape n, len, 2. I assume the 2 dimensions here are prob(fix) and prob(sacc)? \n",
    "# do we need to just take one dimension? And softmax then threshold >/5?\n",
    "fixation_preds=fixation_logits.max(2).indices\n",
    "print(fixation_logits)\n",
    "fixation_targets = batch[1]\n",
    "# how many unique values are there in the targets?\n",
    "print(f\"unique preds: {torch.unique(fixation_preds)}\")\n",
    "print(f\"unique targets: {torch.unique(fixation_targets)}\")\n",
    "# or reshape batch into one long vector in Ricks's code, to get batch-wisemetric:\n",
    "logits_long = fixation_logits.squeeze().reshape(-1,2)\n",
    "targets_long = fixation_targets.reshape(-1).long()\n"
   ]
  },
  {
   "cell_type": "code",
   "execution_count": 21,
   "metadata": {},
   "outputs": [
    {
     "name": "stdout",
     "output_type": "stream",
     "text": [
      "torch.Size([500])\n",
      "torch.Size([500])\n",
      "sequence length: 500\n"
     ]
    },
    {
     "data": {
      "image/png": "[encoded data removed]",
      "text/plain": [
       "<Figure size 640x480 with 1 Axes>"
      ]
     },
     "metadata": {},
     "output_type": "display_data"
    }
   ],
   "source": [
    "\n",
    "# pick one from batch to plot\n",
    "ix=7\n",
    "one_pred = fixation_preds[ix,:]\n",
    "one_target = fixation_targets[ix,:]\n",
    "print(one_pred.shape)\n",
    "print(one_target.shape)\n",
    "fixation_image(one_pred, one_target, \"Fixation Identification - Informer (top:pred, bottom:target)\")\n",
    "\n",
    "# SUCCESS!!\n"
   ]
  },
  {
   "cell_type": "code",
   "execution_count": 22,
   "metadata": {},
   "outputs": [
    {
     "ename": "AttributeError",
     "evalue": "'InformerMultiTaskEncoderDecoder' object has no attribute 'fi_criterion'",
     "output_type": "error",
     "traceback": [
      "\u001b[0;31m---------------------------------------------------------------------------\u001b[0m",
      "\u001b[0;31mAttributeError\u001b[0m                            Traceback (most recent call last)",
      "Cell \u001b[0;32mIn[22], line 4\u001b[0m\n\u001b[1;32m      1\u001b[0m \u001b[38;5;66;03m# evaluate FI \u001b[39;00m\n\u001b[1;32m      2\u001b[0m \n\u001b[1;32m      3\u001b[0m \u001b[38;5;66;03m#mask = torch.any(X == -180, dim=1)\u001b[39;00m\n\u001b[0;32m----> 4\u001b[0m loss \u001b[38;5;241m=\u001b[39m \u001b[43mmodel\u001b[49m\u001b[38;5;241;43m.\u001b[39;49m\u001b[43mfi_criterion\u001b[49m(logits_long, targets_long)\n\u001b[1;32m      5\u001b[0m preds \u001b[38;5;241m=\u001b[39m model\u001b[38;5;241m.\u001b[39m_get_preds(logits)\n\u001b[1;32m      6\u001b[0m probs \u001b[38;5;241m=\u001b[39m model\u001b[38;5;241m.\u001b[39m_get_probs(logits)\n",
      "File \u001b[0;32m~/miniconda3/envs/dg/lib/python3.10/site-packages/torch/nn/modules/module.py:1269\u001b[0m, in \u001b[0;36mModule.__getattr__\u001b[0;34m(self, name)\u001b[0m\n\u001b[1;32m   1267\u001b[0m     \u001b[38;5;28;01mif\u001b[39;00m name \u001b[38;5;129;01min\u001b[39;00m modules:\n\u001b[1;32m   1268\u001b[0m         \u001b[38;5;28;01mreturn\u001b[39;00m modules[name]\n\u001b[0;32m-> 1269\u001b[0m \u001b[38;5;28;01mraise\u001b[39;00m \u001b[38;5;167;01mAttributeError\u001b[39;00m(\u001b[38;5;124m\"\u001b[39m\u001b[38;5;124m'\u001b[39m\u001b[38;5;132;01m{}\u001b[39;00m\u001b[38;5;124m'\u001b[39m\u001b[38;5;124m object has no attribute \u001b[39m\u001b[38;5;124m'\u001b[39m\u001b[38;5;132;01m{}\u001b[39;00m\u001b[38;5;124m'\u001b[39m\u001b[38;5;124m\"\u001b[39m\u001b[38;5;241m.\u001b[39mformat(\n\u001b[1;32m   1270\u001b[0m     \u001b[38;5;28mtype\u001b[39m(\u001b[38;5;28mself\u001b[39m)\u001b[38;5;241m.\u001b[39m\u001b[38;5;18m__name__\u001b[39m, name))\n",
      "\u001b[0;31mAttributeError\u001b[0m: 'InformerMultiTaskEncoderDecoder' object has no attribute 'fi_criterion'"
     ]
    }
   ],
   "source": [
    "# evaluate FI \n",
    "\n",
    "#mask = torch.any(X == -180, dim=1)\n",
    "loss = model.fi_criterion(logits_long, targets_long)\n",
    "preds = model._get_preds(logits)\n",
    "probs = model._get_probs(logits)\n",
    "fixation_targets = fixation_targets.int()\n",
    "auprc = model.fi_metric(probs, fixation_targets)"
   ]
  },
  {
   "cell_type": "code",
   "execution_count": 23,
   "metadata": {},
   "outputs": [
    {
     "name": "stdout",
     "output_type": "stream",
     "text": [
      "PC logits: torch.Size([32, 150, 2])\n",
      "Percentage of nan in PC logits: 0.00\n"
     ]
    }
   ],
   "source": [
    "# predictive coding one batch\n",
    "from eyemind.dataloading.batch_loading import predictive_coding_batch\n",
    "\n",
    "pred_length = 150\n",
    "label_length = 100\n",
    "pc_seq_length = 350\n",
    "X_pc, Y_pc = predictive_coding_batch(X, pc_seq_length=pc_seq_length, label_length=label_length, pred_length=pred_length)\n",
    "with torch.no_grad():\n",
    "    pc_logits = model.pc_decoder.forward(logits, Y_pc, pred_length=pred_length).squeeze()\n",
    "pc_target=Y_pc[:,:-pred_length] # take just the predicted part as target\n",
    "# coutn how many nan in pc_logits\n",
    "nan_count = torch.isnan(pc_logits).sum()\n",
    "# print(f\"Number of nan in pc_logits: {nan_count} / {pc_logits.numel()}\")\n",
    "print(f\"PC logits: {pc_logits.shape}\")\n",
    "perc_nan = nan_count/pc_logits.numel()\n",
    "print(f\"Percentage of nan in PC logits: {100*perc_nan:.2f}\")\n",
    "pc_logits = model.scaler.inverse_transform(pc_logits)\n",
    "# pc_target = model.scaler.inverse_transform(target)\n",
    "# X = model.scaler.inverse_transform(X)"
   ]
  },
  {
   "cell_type": "code",
   "execution_count": null,
   "metadata": {},
   "outputs": [
    {
     "data": {
      "image/png": "[encoded data removed]",
      "text/plain": [
       "<Figure size 640x480 with 1 Axes>"
      ]
     },
     "metadata": {},
     "output_type": "display_data"
    }
   ],
   "source": [
    "ix=4\n",
    "\n",
    "handle = plot_scanpath_pc(X[ix,:,0], X[ix,:,1], pc_logits[ix,:,0].cpu().detach().numpy(), pc_logits[ix,:,1].cpu().detach().numpy())\n"
   ]
  },
  {
   "cell_type": "code",
   "execution_count": null,
   "metadata": {},
   "outputs": [
    {
     "name": "stdout",
     "output_type": "stream",
     "text": [
      "Percentage of nan in recon_logits: 6.25\n"
     ]
    },
    {
     "data": {
      "image/png": "[encoded data removed]",
      "text/plain": [
       "<Figure size 640x480 with 1 Axes>"
      ]
     },
     "metadata": {},
     "output_type": "display_data"
    }
   ],
   "source": [
    "# reconstruction\n",
    "with torch.no_grad():\n",
    "    recon_logits = model.rc_decoder.forward(logits, X)\n",
    "recon_targets = X\n",
    "\n",
    "perc_nan = torch.isnan(recon_logits).sum()/recon_logits.numel()\n",
    "print(f\"Percentage of nan in recon_logits: {100*perc_nan:.2f}\")\n",
    "\n",
    "# plot using pc function\n",
    "ix=2\n",
    "handle = plot_scanpath_pc(recon_targets[ix,:,0], recon_targets[ix,:,1], recon_logits[ix,:,0].cpu().detach().numpy(), recon_logits[ix,:,1].cpu().detach().numpy())\n"
   ]
  },
  {
   "cell_type": "code",
   "execution_count": 6,
   "metadata": {},
   "outputs": [
    {
     "ename": "TypeError",
     "evalue": "eyemind.dataloading.informer_data.InformerVariableLengthDataModule() argument after ** must be a mapping, not NoneType",
     "output_type": "error",
     "traceback": [
      "\u001b[0;31m---------------------------------------------------------------------------\u001b[0m",
      "\u001b[0;31mTypeError\u001b[0m                                 Traceback (most recent call last)",
      "Cell \u001b[0;32mIn[6], line 6\u001b[0m\n\u001b[1;32m      4\u001b[0m \u001b[38;5;28;01mfrom\u001b[39;00m \u001b[38;5;21;01meyemind\u001b[39;00m\u001b[38;5;21;01m.\u001b[39;00m\u001b[38;5;21;01mdataloading\u001b[39;00m\u001b[38;5;21;01m.\u001b[39;00m\u001b[38;5;21;01minformer_data\u001b[39;00m \u001b[38;5;28;01mimport\u001b[39;00m InformerVariableLengthDataModule\n\u001b[1;32m      5\u001b[0m var_data_config \u001b[38;5;241m=\u001b[39m config[\u001b[38;5;124m\"\u001b[39m\u001b[38;5;124mdata\u001b[39m\u001b[38;5;124m\"\u001b[39m]\u001b[38;5;241m.\u001b[39mupdate({\u001b[38;5;124m\"\u001b[39m\u001b[38;5;124mmin_sequence_length\u001b[39m\u001b[38;5;124m\"\u001b[39m:\u001b[38;5;241m10\u001b[39m, \u001b[38;5;124m'\u001b[39m\u001b[38;5;124mmax_sequence_length\u001b[39m\u001b[38;5;124m'\u001b[39m:\u001b[38;5;241m2000\u001b[39m})\n\u001b[0;32m----> 6\u001b[0m datamodule \u001b[38;5;241m=\u001b[39m InformerVariableLengthDataModule(\u001b[38;5;241m*\u001b[39m\u001b[38;5;241m*\u001b[39mvar_data_config)\n\u001b[1;32m      7\u001b[0m datamodule\u001b[38;5;241m.\u001b[39msetup()\n\u001b[1;32m      9\u001b[0m test_dl \u001b[38;5;241m=\u001b[39m datamodule\u001b[38;5;241m.\u001b[39mget_dataloader(datamodule\u001b[38;5;241m.\u001b[39mtest_dataset) \u001b[38;5;66;03m# this is the held out fold's dataloader\u001b[39;00m\n",
      "\u001b[0;31mTypeError\u001b[0m: eyemind.dataloading.informer_data.InformerVariableLengthDataModule() argument after ** must be a mapping, not NoneType"
     ]
    }
   ],
   "source": [
    "# make a dataloader with variable sequence length and padding \n",
    "\n",
    "\n",
    "from eyemind.dataloading.informer_data import InformerVariableLengthDataModule\n",
    "var_data_config = config[\"data\"].update({\"min_sequence_length\":10, 'max_sequence_length':2000})\n",
    "datamodule = InformerVariableLengthDataModule(**var_data_config)\n",
    "datamodule.setup()\n",
    "\n",
    "test_dl = datamodule.get_dataloader(datamodule.test_dataset) # this is the held out fold's dataloader\n",
    "for i,batch in enumerate(test_dl):\n",
    "    print(f\"batch: {i}\")\n",
    "    print(f\"length of batch: {len(batch)}\")\n",
    "    with torch.no_grad():\n",
    "        # preds = model(batch) # this step fails\n",
    "        logits=encoder(batch[0], None)\n",
    "        # fixation_logits = model.fi_decoder.forward(logits)\n",
    "        # fixation_preds=fixation_logits.max(2).indices\n",
    "        # fixation_targets = batch[1]\n",
    "\n",
    "    if i==0: # just run a couple to check\n",
    "        break"
   ]
  }
 ],
 "metadata": {
  "kernelspec": {
   "display_name": "dg",
   "language": "python",
   "name": "python3"
  },
  "language_info": {
   "codemirror_mode": {
    "name": "ipython",
    "version": 3
   },
   "file_extension": ".py",
   "mimetype": "text/x-python",
   "name": "python",
   "nbconvert_exporter": "python",
   "pygments_lexer": "ipython3",
   "version": "3.10.14"
  },
  "orig_nbformat": 4
 },
 "nbformat": 4,
 "nbformat_minor": 2
}
