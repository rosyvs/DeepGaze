{
 "cells": [
  {
   "cell_type": "code",
   "execution_count": 105,
   "metadata": {},
   "outputs": [],
   "source": [
    "from tensorboard.backend.event_processing import event_accumulator\n",
    "import pandas as pd\n",
    "from tbparse import SummaryReader\n"
   ]
  },
  {
   "cell_type": "code",
   "execution_count": 106,
   "metadata": {},
   "outputs": [],
   "source": [
    "SAVE_PATH = f\"../results/scanEZ_results.md\"\n",
    "OVERWRITE=True\n",
    "if OVERWRITE:\n",
    "     open(SAVE_PATH, 'w').close()\n"
   ]
  },
  {
   "cell_type": "code",
   "execution_count": 107,
   "metadata": {},
   "outputs": [],
   "source": [
    "def get_metric_results_from_eventfile(dirpath, metrics, SAVE_PATH=\"\", title=\"\", select=\"latest\"):\n",
    "    # select = \"latest\", or \"lowest\" or \"highest\"\n",
    "    reader = SummaryReader(dirpath, pivot=False, extra_columns={'dir_name','wall_time'})\n",
    "    df = reader.scalars\n",
    "    df = df.rename(columns={\"tag\": \"metric\", \"dir_name\": \"fold\"})\n",
    "    grouped = df.groupby([\"fold\",\"metric\"])\n",
    "    # ['step'].max().reset_index() # this is choosing the max AUROC but we want the latest!!\n",
    "    if select=='latest':\n",
    "        df = df.loc[grouped['wall_time'].idxmax()].reset_index(drop=True)\n",
    "    elif select=='highest':\n",
    "        df = df.loc[grouped['value'].idxmax()].reset_index(drop=True)\n",
    "    elif select=='lowest':\n",
    "        df = df.loc[grouped['value'].idxmin()].reset_index(drop=True)\n",
    "    \n",
    "    df = df[df[\"metric\"].isin(metrics)].set_index([\"fold\"]).sort_values(\"metric\").reset_index()\n",
    "\n",
    "    res = df.pivot(index='fold', columns='metric', values='value')#.rename_axis(columns=None)\n",
    "    if SAVE_PATH:\n",
    "        with open(SAVE_PATH,'a') as f:\n",
    "            f.write(\"\\n\\n\")\n",
    "            f.write(title)\n",
    "            f.write(\"\\n\")\n",
    "        res.to_markdown(SAVE_PATH, mode=\"a\", tablefmt=\"github\", index=True,floatfmt='.3f')\n",
    "    return res"
   ]
  },
  {
   "cell_type": "code",
   "execution_count": 108,
   "metadata": {},
   "outputs": [],
   "source": [
    "metrics = [\"train_auroc\", \"val_auroc\", \"train_accuracy_epoch\", \"val_accuracy_epoch\"]\n",
    "pooling_methods = [\"mean\", \"final_pos\", \"masked_mean\"]\n",
    "versions = [\"ptEZftEML\",\"ptEZ\", \"ptEML\"]\n",
    "labels = ['SVT','Rote_X', 'Rote_Y', \"Rote_Z\",\n",
    "          'Inference_X', \"Inference_Y\",\"Inference_Z\",\n",
    "          \"Deep_X\", \"Deep_Z\",\n",
    "          \"Rote_D\",\"Inference_D\",\n",
    "          \"MW\"]\n",
    "# labels=[\"Rote_X\"]\n",
    "classifier_names = [f\"{version}_{pooling}\" for version in versions for pooling in pooling_methods]\n",
    "mean_aurocs=[]\n",
    "for classifier in classifier_names:\n",
    "    val_aurocs = []\n",
    "    for label in labels:\n",
    "        res=get_metric_results_from_eventfile(f\"../lightning_logs/2025/classifiers/scanez/{label}_scanez_{classifier}\", metrics, SAVE_PATH=None, select=\"latest\")\n",
    "        res['label']=label\n",
    "        val_aurocs.append({\"label\":label, \n",
    "                        \"mean AUROC\": res[['val_auroc']].mean().item(),\n",
    "                        \"min AUROC\": res[['val_auroc']].min().item(),\n",
    "                        \"max AUROC\": res[['val_auroc']].max().item()\n",
    "                        })\n",
    "        mean_aurocs.append({\"label\":label, \"classifier\":classifier, \"mean AUROC\": res[['val_auroc']].mean().item()})\n",
    "    tit=f\"Held-out AUROCs: {classifier}\"\n",
    "    with open(SAVE_PATH, \"a\") as f:\n",
    "        f.write(\"\\n\\n\")\n",
    "        f.write(tit)\n",
    "        f.write(\"\\n\")\n",
    "    tb = pd.DataFrame.from_records(val_aurocs)\n",
    "    tb.to_markdown(SAVE_PATH, mode=\"a\", tablefmt=\"github\", index=False,floatfmt='.3f')\n"
   ]
  },
  {
   "cell_type": "code",
   "execution_count": 109,
   "metadata": {},
   "outputs": [],
   "source": [
    "\n",
    "tb_all = pd.DataFrame.from_records(mean_aurocs)\n",
    "tb_all = tb_all.pivot(index='label', columns='classifier', values='mean AUROC')\n",
    "# # transpose to have label in  columns and one row per classifier\n",
    "tb_all = tb_all.T\n",
    "# make bold the highest val per row\n",
    "def highlight_max(s):\n",
    "    is_max = s == s.max()\n",
    "    return ['**{:.3f}**'.format(v) if is_max else '{:.3f}'.format(v) for v, is_max in zip(s, is_max)]\n",
    "\n",
    "tb_all_fmt = tb_all.apply(highlight_max, axis=0)\n",
    "tb_all_fmt = tb_all_fmt.T\n",
    "\n",
    "# make it have 2 row header - split current header on first underscore\n",
    "# tb_all.columns = pd.MultiIndex.from_tuples([col.split('_', 1) for col in tb_all.columns])\n",
    "# Display the column headers split across 2 rows\n",
    "multiheader = pd.MultiIndex.from_tuples([(col.split('_')[0], col.split('_')[1]) for col in tb_all_fmt.columns], names=['model', 'pooling']).to_frame().T\n",
    "\n",
    "# Prepend multiheader to tb_all and ignore dtypes\n",
    "with open(SAVE_PATH, \"a\") as f:\n",
    "    f.write(\"\\n\\n\")\n",
    "    f.write(\"# OVERALL RESULTS\")\n",
    "    f.write(\"\\n\")\n",
    "    f.write(\"mean AUROC over folds per classifier\")\n",
    "    f.write(\"\\n\")\n",
    "# multiheader.to_markdown(SAVE_PATH, mode=\"a\", tablefmt=\"plain, index=True)\n",
    "# with open(SAVE_PATH, \"a\") as f:\n",
    "#     f.write(\"\\n\")\n",
    "#     f.write(\"|\")\n",
    "#     for i in range(len(multiheader.columns)):\n",
    "#         f.write(\"----|\")\n",
    "#     f.write(\"\\n\")\n",
    "multiheader.to_markdown(SAVE_PATH, mode=\"a\", tablefmt=\"github\", index=True)\n",
    "tb_all_fmt.to_markdown(SAVE_PATH, mode=\"a\", tablefmt=\"github\", index=True, floatfmt='.3f')\n"
   ]
  },
  {
   "cell_type": "code",
   "execution_count": 110,
   "metadata": {},
   "outputs": [],
   "source": [
    "\n",
    "# Calculate the mean AUROC for each classifier\n",
    "summary_table = tb_all.mean(axis=1).to_frame(name='mean AUROC').T\n",
    "\n",
    "# Save the summary table to the markdown file\n",
    "with open(SAVE_PATH, \"a\") as f:\n",
    "    f.write(\"\\n\\n\")\n",
    "    f.write(\"# SUMMARY TABLE\")\n",
    "    f.write(\"\\n\")\n",
    "    f.write(\"Average AUROC over all labels per classifier\")\n",
    "    f.write(\"\\n\")\n",
    "\n",
    "# Display the summary table\n",
    "summary_table.to_markdown(SAVE_PATH, mode=\"a\", tablefmt=\"github\", index=True, floatfmt='.3f')\n"
   ]
  },
  {
   "cell_type": "code",
   "execution_count": null,
   "metadata": {},
   "outputs": [],
   "source": []
  }
 ],
 "metadata": {
  "kernelspec": {
   "display_name": "dg",
   "language": "python",
   "name": "python3"
  },
  "language_info": {
   "codemirror_mode": {
    "name": "ipython",
    "version": 3
   },
   "file_extension": ".py",
   "mimetype": "text/x-python",
   "name": "python",
   "nbconvert_exporter": "python",
   "pygments_lexer": "ipython3",
   "version": "3.10.14"
  },
  "orig_nbformat": 4
 },
 "nbformat": 4,
 "nbformat_minor": 2
}
