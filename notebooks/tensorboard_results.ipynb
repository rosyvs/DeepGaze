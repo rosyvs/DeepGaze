{
 "cells": [
  {
   "cell_type": "code",
   "execution_count": 2,
   "metadata": {},
   "outputs": [],
   "source": [
    "from tensorboard.backend.event_processing import event_accumulator\n",
    "import pandas as pd\n",
    "from pathlib import Path\n"
   ]
  },
  {
   "cell_type": "code",
   "execution_count": 8,
   "metadata": {},
   "outputs": [],
   "source": [
    "from tbparse import SummaryReader\n",
    "\n",
    "\n",
    "def get_metric_results_from_eventfile(dirpath, metrics, save_path=\"\", title=\"\"):\n",
    "    reader = SummaryReader(dirpath, pivot=False, extra_columns={'dir_name'})\n",
    "    df = reader.scalars\n",
    "    df = df.rename(columns={\"tag\": \"metric\", \"dir_name\": \"fold\"})\n",
    "    df = df.groupby([\"fold\",\"metric\"])['value'].max().reset_index()\n",
    "    df = df[df[\"metric\"].isin(metrics)].set_index([\"fold\"]).sort_values(\"metric\").reset_index()\n",
    "    res = df.pivot(index='fold', columns='metric', values='value').rename_axis(columns=None)\n",
    "    if save_path:\n",
    "        res.to_markdown(save_path, mode=\"a\", tablefmt=\"github\", index=True,floatfmt='.3f')\n",
    "    return res"
   ]
  },
  {
   "cell_type": "code",
   "execution_count": 10,
   "metadata": {},
   "outputs": [],
   "source": [
    "labels = ['Rote_X', 'Rote_Y', \"Rote_Z\",\n",
    "          'Inference_X', \"Inference_Y\",\"Inference_Z\",\n",
    "          \"Deep_X\", \"Deep_Z\",\n",
    "          \"MW\"]"
   ]
  },
  {
   "cell_type": "code",
   "execution_count": 30,
   "metadata": {},
   "outputs": [],
   "source": [
    "metrics = [\"train_auroc\", \"val_auroc\", \"train_accuracy_epoch\", \"val_accuracy_epoch\"]\n",
    "save_path = \"../results/comprehension_results.md\"\n",
    "val_aurocs = []\n",
    "for label in labels:\n",
    "    tit=f\"# {label}\"\n",
    "    with open(save_path, \"a\") as f:\n",
    "        f.write(\"\\n\\n\")\n",
    "        f.write(tit)\n",
    "        f.write(\"\\n\")\n",
    "    res=get_metric_results_from_eventfile(f\"../lightning_logs/from_alpine/informer_{label}\", metrics, save_path)\n",
    "    res['label']=label\n",
    "    val_aurocs.append({\"label\":label, \"mean val AUROC\": res[['val_auroc']].mean().item()})"
   ]
  },
  {
   "cell_type": "code",
   "execution_count": 32,
   "metadata": {},
   "outputs": [
    {
     "ename": "KeyError",
     "evalue": "False",
     "output_type": "error",
     "traceback": [
      "\u001b[0;31m---------------------------------------------------------------------------\u001b[0m",
      "\u001b[0;31mKeyError\u001b[0m                                  Traceback (most recent call last)",
      "File \u001b[0;32m/usr/local/Caskroom/miniconda/base/envs/dg/lib/python3.10/site-packages/pandas/core/indexes/base.py:3621\u001b[0m, in \u001b[0;36mIndex.get_loc\u001b[0;34m(self, key, method, tolerance)\u001b[0m\n\u001b[1;32m   3620\u001b[0m \u001b[39mtry\u001b[39;00m:\n\u001b[0;32m-> 3621\u001b[0m     \u001b[39mreturn\u001b[39;00m \u001b[39mself\u001b[39;49m\u001b[39m.\u001b[39;49m_engine\u001b[39m.\u001b[39;49mget_loc(casted_key)\n\u001b[1;32m   3622\u001b[0m \u001b[39mexcept\u001b[39;00m \u001b[39mKeyError\u001b[39;00m \u001b[39mas\u001b[39;00m err:\n",
      "File \u001b[0;32m/usr/local/Caskroom/miniconda/base/envs/dg/lib/python3.10/site-packages/pandas/_libs/index.pyx:136\u001b[0m, in \u001b[0;36mpandas._libs.index.IndexEngine.get_loc\u001b[0;34m()\u001b[0m\n",
      "File \u001b[0;32m/usr/local/Caskroom/miniconda/base/envs/dg/lib/python3.10/site-packages/pandas/_libs/index.pyx:163\u001b[0m, in \u001b[0;36mpandas._libs.index.IndexEngine.get_loc\u001b[0;34m()\u001b[0m\n",
      "File \u001b[0;32mpandas/_libs/hashtable_class_helper.pxi:5198\u001b[0m, in \u001b[0;36mpandas._libs.hashtable.PyObjectHashTable.get_item\u001b[0;34m()\u001b[0m\n",
      "File \u001b[0;32mpandas/_libs/hashtable_class_helper.pxi:5206\u001b[0m, in \u001b[0;36mpandas._libs.hashtable.PyObjectHashTable.get_item\u001b[0;34m()\u001b[0m\n",
      "\u001b[0;31mKeyError\u001b[0m: False",
      "\nThe above exception was the direct cause of the following exception:\n",
      "\u001b[0;31mKeyError\u001b[0m                                  Traceback (most recent call last)",
      "Cell \u001b[0;32mIn[32], line 1\u001b[0m\n\u001b[0;32m----> 1\u001b[0m tb \u001b[39m=\u001b[39m pd\u001b[39m.\u001b[39;49mDataFrame\u001b[39m.\u001b[39;49mfrom_records(val_aurocs, index\u001b[39m=\u001b[39;49m\u001b[39mFalse\u001b[39;49;00m)\n\u001b[1;32m      2\u001b[0m tb\u001b[39m.\u001b[39mto_markdown(save_path, mode\u001b[39m=\u001b[39m\u001b[39m\"\u001b[39m\u001b[39ma\u001b[39m\u001b[39m\"\u001b[39m, tablefmt\u001b[39m=\u001b[39m\u001b[39m\"\u001b[39m\u001b[39mgithub\u001b[39m\u001b[39m\"\u001b[39m, index\u001b[39m=\u001b[39m\u001b[39mTrue\u001b[39;00m,floatfmt\u001b[39m=\u001b[39m\u001b[39m'\u001b[39m\u001b[39m.3f\u001b[39m\u001b[39m'\u001b[39m)\n",
      "File \u001b[0;32m/usr/local/Caskroom/miniconda/base/envs/dg/lib/python3.10/site-packages/pandas/core/frame.py:2249\u001b[0m, in \u001b[0;36mDataFrame.from_records\u001b[0;34m(cls, data, index, exclude, columns, coerce_float, nrows)\u001b[0m\n\u001b[1;32m   2247\u001b[0m \u001b[39mif\u001b[39;00m index \u001b[39mis\u001b[39;00m \u001b[39mnot\u001b[39;00m \u001b[39mNone\u001b[39;00m:\n\u001b[1;32m   2248\u001b[0m     \u001b[39mif\u001b[39;00m \u001b[39misinstance\u001b[39m(index, \u001b[39mstr\u001b[39m) \u001b[39mor\u001b[39;00m \u001b[39mnot\u001b[39;00m \u001b[39mhasattr\u001b[39m(index, \u001b[39m\"\u001b[39m\u001b[39m__iter__\u001b[39m\u001b[39m\"\u001b[39m):\n\u001b[0;32m-> 2249\u001b[0m         i \u001b[39m=\u001b[39m columns\u001b[39m.\u001b[39;49mget_loc(index)\n\u001b[1;32m   2250\u001b[0m         exclude\u001b[39m.\u001b[39madd(index)\n\u001b[1;32m   2251\u001b[0m         \u001b[39mif\u001b[39;00m \u001b[39mlen\u001b[39m(arrays) \u001b[39m>\u001b[39m \u001b[39m0\u001b[39m:\n",
      "File \u001b[0;32m/usr/local/Caskroom/miniconda/base/envs/dg/lib/python3.10/site-packages/pandas/core/indexes/base.py:3623\u001b[0m, in \u001b[0;36mIndex.get_loc\u001b[0;34m(self, key, method, tolerance)\u001b[0m\n\u001b[1;32m   3621\u001b[0m     \u001b[39mreturn\u001b[39;00m \u001b[39mself\u001b[39m\u001b[39m.\u001b[39m_engine\u001b[39m.\u001b[39mget_loc(casted_key)\n\u001b[1;32m   3622\u001b[0m \u001b[39mexcept\u001b[39;00m \u001b[39mKeyError\u001b[39;00m \u001b[39mas\u001b[39;00m err:\n\u001b[0;32m-> 3623\u001b[0m     \u001b[39mraise\u001b[39;00m \u001b[39mKeyError\u001b[39;00m(key) \u001b[39mfrom\u001b[39;00m \u001b[39merr\u001b[39;00m\n\u001b[1;32m   3624\u001b[0m \u001b[39mexcept\u001b[39;00m \u001b[39mTypeError\u001b[39;00m:\n\u001b[1;32m   3625\u001b[0m     \u001b[39m# If we have a listlike key, _check_indexing_error will raise\u001b[39;00m\n\u001b[1;32m   3626\u001b[0m     \u001b[39m#  InvalidIndexError. Otherwise we fall through and re-raise\u001b[39;00m\n\u001b[1;32m   3627\u001b[0m     \u001b[39m#  the TypeError.\u001b[39;00m\n\u001b[1;32m   3628\u001b[0m     \u001b[39mself\u001b[39m\u001b[39m.\u001b[39m_check_indexing_error(key)\n",
      "\u001b[0;31mKeyError\u001b[0m: False"
     ]
    }
   ],
   "source": [
    "tb = pd.DataFrame.from_records(val_aurocs)\n",
    "tb.to_markdown(save_path, mode=\"a\", tablefmt=\"github\", index=False,floatfmt='.3f')\n"
   ]
  }
 ],
 "metadata": {
  "kernelspec": {
   "display_name": "eyemind_arm",
   "language": "python",
   "name": "python3"
  },
  "language_info": {
   "codemirror_mode": {
    "name": "ipython",
    "version": 3
   },
   "file_extension": ".py",
   "mimetype": "text/x-python",
   "name": "python",
   "nbconvert_exporter": "python",
   "pygments_lexer": "ipython3",
   "version": "3.10.9"
  },
  "orig_nbformat": 4,
  "vscode": {
   "interpreter": {
    "hash": "c1499b27fd6353fe811f6c3b1d5c11b5c4e6658fe4f557f45649495283ca3391"
   }
  }
 },
 "nbformat": 4,
 "nbformat_minor": 2
}
