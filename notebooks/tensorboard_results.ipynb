{
 "cells": [
  {
   "cell_type": "code",
   "execution_count": 6,
   "metadata": {},
   "outputs": [],
   "source": [
    "from tensorboard.backend.event_processing import event_accumulator\n",
    "import pandas as pd\n",
    "from pathlib import Path\n"
   ]
  },
  {
   "cell_type": "code",
   "execution_count": 130,
   "metadata": {},
   "outputs": [],
   "source": [
    "from tbparse import SummaryReader\n",
    "\n",
    "\n",
    "def get_metric_results_from_eventfile(dirpath, metrics, save_path=\"\"):\n",
    "    reader = SummaryReader(dirpath, pivot=False, extra_columns={'dir_name'})\n",
    "    df = reader.scalars\n",
    "    df = df.rename(columns={\"tag\": \"metric\", \"dir_name\": \"fold\"})\n",
    "    df = df.groupby([\"fold\",\"metric\"])['value'].max().reset_index()\n",
    "    df = df[df[\"metric\"].isin(metrics)].set_index([\"fold\"]).sort_values(\"metric\").reset_index()\n",
    "    res = df.pivot(index='fold', columns='metric', values='value').rename_axis(columns=None)\n",
    "    if save_path:\n",
    "        res.to_markdown(save_path, mode=\"a\", tablefmt=\"github\", index=True)\n",
    "    return res"
   ]
  },
  {
   "cell_type": "code",
   "execution_count": 135,
   "metadata": {},
   "outputs": [
    {
     "data": {
      "text/html": [
       "<div>\n",
       "<style scoped>\n",
       "    .dataframe tbody tr th:only-of-type {\n",
       "        vertical-align: middle;\n",
       "    }\n",
       "\n",
       "    .dataframe tbody tr th {\n",
       "        vertical-align: top;\n",
       "    }\n",
       "\n",
       "    .dataframe thead th {\n",
       "        text-align: right;\n",
       "    }\n",
       "</style>\n",
       "<table border=\"1\" class=\"dataframe\">\n",
       "  <thead>\n",
       "    <tr style=\"text-align: right;\">\n",
       "      <th></th>\n",
       "      <th>train_accuracy_epoch</th>\n",
       "      <th>train_auroc</th>\n",
       "      <th>val_accuracy_epoch</th>\n",
       "      <th>val_auroc</th>\n",
       "    </tr>\n",
       "    <tr>\n",
       "      <th>fold</th>\n",
       "      <th></th>\n",
       "      <th></th>\n",
       "      <th></th>\n",
       "      <th></th>\n",
       "    </tr>\n",
       "  </thead>\n",
       "  <tbody>\n",
       "    <tr>\n",
       "      <th>fold0</th>\n",
       "      <td>0.658333</td>\n",
       "      <td>0.628079</td>\n",
       "      <td>0.59375</td>\n",
       "      <td>0.559117</td>\n",
       "    </tr>\n",
       "    <tr>\n",
       "      <th>fold1</th>\n",
       "      <td>0.727083</td>\n",
       "      <td>0.819805</td>\n",
       "      <td>0.65000</td>\n",
       "      <td>0.634706</td>\n",
       "    </tr>\n",
       "    <tr>\n",
       "      <th>fold2</th>\n",
       "      <td>0.700000</td>\n",
       "      <td>0.679229</td>\n",
       "      <td>0.59375</td>\n",
       "      <td>0.565297</td>\n",
       "    </tr>\n",
       "    <tr>\n",
       "      <th>fold3</th>\n",
       "      <td>0.664583</td>\n",
       "      <td>0.633819</td>\n",
       "      <td>0.60000</td>\n",
       "      <td>0.542477</td>\n",
       "    </tr>\n",
       "  </tbody>\n",
       "</table>\n",
       "</div>"
      ],
      "text/plain": [
       "       train_accuracy_epoch  train_auroc  val_accuracy_epoch  val_auroc\n",
       "fold                                                                   \n",
       "fold0              0.658333     0.628079             0.59375   0.559117\n",
       "fold1              0.727083     0.819805             0.65000   0.634706\n",
       "fold2              0.700000     0.679229             0.59375   0.565297\n",
       "fold3              0.664583     0.633819             0.60000   0.542477"
      ]
     },
     "execution_count": 135,
     "metadata": {},
     "output_type": "execute_result"
    }
   ],
   "source": [
    "metrics = [\"train_auroc\", \"val_auroc\", \"train_accuracy_epoch\", \"val_accuracy_epoch\"]\n",
    "save_path = \"/Users/rickgentry/emotive_lab/eyemind/results/comprehension_results.md\"\n",
    "get_metric_results_from_eventfile(\"/Users/rickgentry/emotive_lab/eyemind/lightning_logs/comprehension/seed42/informer_Rote_Z\", metrics, save_path)"
   ]
  },
  {
   "cell_type": "code",
   "execution_count": null,
   "metadata": {},
   "outputs": [],
   "source": []
  }
 ],
 "metadata": {
  "kernelspec": {
   "display_name": "eyemind_arm",
   "language": "python",
   "name": "python3"
  },
  "language_info": {
   "codemirror_mode": {
    "name": "ipython",
    "version": 3
   },
   "file_extension": ".py",
   "mimetype": "text/x-python",
   "name": "python",
   "nbconvert_exporter": "python",
   "pygments_lexer": "ipython3",
   "version": "3.10.4"
  },
  "orig_nbformat": 4,
  "vscode": {
   "interpreter": {
    "hash": "c1499b27fd6353fe811f6c3b1d5c11b5c4e6658fe4f557f45649495283ca3391"
   }
  }
 },
 "nbformat": 4,
 "nbformat_minor": 2
}
