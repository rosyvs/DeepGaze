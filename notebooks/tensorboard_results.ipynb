{
 "cells": [
  {
   "cell_type": "code",
   "execution_count": 27,
   "metadata": {},
   "outputs": [],
   "source": [
    "from tensorboard.backend.event_processing import event_accumulator\n",
    "import pandas as pd\n",
    "from pathlib import Path\n",
    "from tbparse import SummaryReader\n"
   ]
  },
  {
   "cell_type": "code",
   "execution_count": 28,
   "metadata": {},
   "outputs": [],
   "source": [
    "MODEL_TYPE='GRU' # or informer\n",
    "\n",
    "SAVE_PATH = f\"../results/{MODEL_TYPE}_results.md\"\n",
    "SEED=21\n",
    "OVERWRITE=True\n",
    "if OVERWRITE:\n",
    "     open(SAVE_PATH, 'w').close()"
   ]
  },
  {
   "cell_type": "code",
   "execution_count": 29,
   "metadata": {},
   "outputs": [],
   "source": [
    "def get_metric_results_from_eventfile(dirpath, metrics, SAVE_PATH=\"\", title=\"\"):\n",
    "    reader = SummaryReader(dirpath, pivot=False, extra_columns={'dir_name'})\n",
    "    df = reader.scalars\n",
    "    df = df.rename(columns={\"tag\": \"metric\", \"dir_name\": \"fold\"})\n",
    "    df = df.groupby([\"fold\",\"metric\"])['value'].max().reset_index()\n",
    "    df = df[df[\"metric\"].isin(metrics)].set_index([\"fold\"]).sort_values(\"metric\").reset_index()\n",
    "    res = df.pivot(index='fold', columns='metric', values='value').rename_axis(columns=None)\n",
    "    if SAVE_PATH:\n",
    "        res.to_markdown(SAVE_PATH, mode=\"a\", tablefmt=\"github\", index=True,floatfmt='.3f')\n",
    "    return res"
   ]
  },
  {
   "cell_type": "code",
   "execution_count": 30,
   "metadata": {},
   "outputs": [],
   "source": [
    "labels = ['Rote_X', 'Rote_Y', \"Rote_Z\",\n",
    "          'Inference_X', \"Inference_Y\",\"Inference_Z\",\n",
    "          \"Deep_X\", \"Deep_Z\",\n",
    "          \"MW\"]"
   ]
  },
  {
   "cell_type": "code",
   "execution_count": 31,
   "metadata": {},
   "outputs": [
    {
     "ename": "ValueError",
     "evalue": "File or directory not found: ../lightning_logs/GRU_Rote_X",
     "output_type": "error",
     "traceback": [
      "\u001b[0;31m---------------------------------------------------------------------------\u001b[0m",
      "\u001b[0;31mValueError\u001b[0m                                Traceback (most recent call last)",
      "Cell \u001b[0;32mIn[31], line 9\u001b[0m\n\u001b[1;32m      7\u001b[0m     f\u001b[39m.\u001b[39mwrite(tit)\n\u001b[1;32m      8\u001b[0m     f\u001b[39m.\u001b[39mwrite(\u001b[39m\"\u001b[39m\u001b[39m\\n\u001b[39;00m\u001b[39m\"\u001b[39m)\n\u001b[0;32m----> 9\u001b[0m res\u001b[39m=\u001b[39mget_metric_results_from_eventfile(\u001b[39mf\u001b[39;49m\u001b[39m\"\u001b[39;49m\u001b[39m../lightning_logs/\u001b[39;49m\u001b[39m{\u001b[39;49;00mMODEL_TYPE\u001b[39m}\u001b[39;49;00m\u001b[39m_\u001b[39;49m\u001b[39m{\u001b[39;49;00mlabel\u001b[39m}\u001b[39;49;00m\u001b[39m\"\u001b[39;49m, metrics, SAVE_PATH)\n\u001b[1;32m     10\u001b[0m res[\u001b[39m'\u001b[39m\u001b[39mlabel\u001b[39m\u001b[39m'\u001b[39m]\u001b[39m=\u001b[39mlabel\n\u001b[1;32m     11\u001b[0m val_aurocs\u001b[39m.\u001b[39mappend({\u001b[39m\"\u001b[39m\u001b[39mlabel\u001b[39m\u001b[39m\"\u001b[39m:label, \n\u001b[1;32m     12\u001b[0m                    \u001b[39m\"\u001b[39m\u001b[39mmean AUROC\u001b[39m\u001b[39m\"\u001b[39m: res[[\u001b[39m'\u001b[39m\u001b[39mval_auroc\u001b[39m\u001b[39m'\u001b[39m]]\u001b[39m.\u001b[39mmean()\u001b[39m.\u001b[39mitem(),\n\u001b[1;32m     13\u001b[0m                    \u001b[39m\"\u001b[39m\u001b[39mmin AUROC\u001b[39m\u001b[39m\"\u001b[39m: res[[\u001b[39m'\u001b[39m\u001b[39mval_auroc\u001b[39m\u001b[39m'\u001b[39m]]\u001b[39m.\u001b[39mmin()\u001b[39m.\u001b[39mitem(),\n\u001b[1;32m     14\u001b[0m                    \u001b[39m\"\u001b[39m\u001b[39mmax AUROC\u001b[39m\u001b[39m\"\u001b[39m: res[[\u001b[39m'\u001b[39m\u001b[39mval_auroc\u001b[39m\u001b[39m'\u001b[39m]]\u001b[39m.\u001b[39mmax()\u001b[39m.\u001b[39mitem()\n\u001b[1;32m     15\u001b[0m                    })\n",
      "Cell \u001b[0;32mIn[29], line 2\u001b[0m, in \u001b[0;36mget_metric_results_from_eventfile\u001b[0;34m(dirpath, metrics, SAVE_PATH, title)\u001b[0m\n\u001b[1;32m      1\u001b[0m \u001b[39mdef\u001b[39;00m \u001b[39mget_metric_results_from_eventfile\u001b[39m(dirpath, metrics, SAVE_PATH\u001b[39m=\u001b[39m\u001b[39m\"\u001b[39m\u001b[39m\"\u001b[39m, title\u001b[39m=\u001b[39m\u001b[39m\"\u001b[39m\u001b[39m\"\u001b[39m):\n\u001b[0;32m----> 2\u001b[0m     reader \u001b[39m=\u001b[39m SummaryReader(dirpath, pivot\u001b[39m=\u001b[39;49m\u001b[39mFalse\u001b[39;49;00m, extra_columns\u001b[39m=\u001b[39;49m{\u001b[39m'\u001b[39;49m\u001b[39mdir_name\u001b[39;49m\u001b[39m'\u001b[39;49m})\n\u001b[1;32m      3\u001b[0m     df \u001b[39m=\u001b[39m reader\u001b[39m.\u001b[39mscalars\n\u001b[1;32m      4\u001b[0m     df \u001b[39m=\u001b[39m df\u001b[39m.\u001b[39mrename(columns\u001b[39m=\u001b[39m{\u001b[39m\"\u001b[39m\u001b[39mtag\u001b[39m\u001b[39m\"\u001b[39m: \u001b[39m\"\u001b[39m\u001b[39mmetric\u001b[39m\u001b[39m\"\u001b[39m, \u001b[39m\"\u001b[39m\u001b[39mdir_name\u001b[39m\u001b[39m\"\u001b[39m: \u001b[39m\"\u001b[39m\u001b[39mfold\u001b[39m\u001b[39m\"\u001b[39m})\n",
      "File \u001b[0;32m/usr/local/Caskroom/miniconda/base/envs/dg/lib/python3.10/site-packages/tbparse/summary_reader.py:140\u001b[0m, in \u001b[0;36mSummaryReader.__init__\u001b[0;34m(self, log_path, pivot, extra_columns, event_types)\u001b[0m\n\u001b[1;32m    137\u001b[0m \u001b[39m\u001b[39m\u001b[39m\"\"\"Stores a `pandas.DataFrame` containing all events.\"\"\"\u001b[39;00m\n\u001b[1;32m    139\u001b[0m \u001b[39mif\u001b[39;00m \u001b[39mnot\u001b[39;00m os\u001b[39m.\u001b[39mpath\u001b[39m.\u001b[39mexists(\u001b[39mself\u001b[39m\u001b[39m.\u001b[39mlog_path):\n\u001b[0;32m--> 140\u001b[0m     \u001b[39mraise\u001b[39;00m \u001b[39mValueError\u001b[39;00m(\u001b[39mf\u001b[39m\u001b[39m\"\u001b[39m\u001b[39mFile or directory not found: \u001b[39m\u001b[39m{\u001b[39;00m\u001b[39mself\u001b[39m\u001b[39m.\u001b[39mlog_path\u001b[39m}\u001b[39;00m\u001b[39m\"\u001b[39m)\n\u001b[1;32m    141\u001b[0m \u001b[39mif\u001b[39;00m os\u001b[39m.\u001b[39mpath\u001b[39m.\u001b[39misfile(\u001b[39mself\u001b[39m\u001b[39m.\u001b[39mlog_path):\n\u001b[1;32m    142\u001b[0m     \u001b[39m# Note: tensorflow.python.summary.summary_iterator is less\u001b[39;00m\n\u001b[1;32m    143\u001b[0m     \u001b[39m#       straightforward, so we use EventAccumulator instead.\u001b[39;00m\n\u001b[1;32m    144\u001b[0m     size_guidance \u001b[39m=\u001b[39m MINIMUM_SIZE_GUIDANCE\u001b[39m.\u001b[39mcopy()\n",
      "\u001b[0;31mValueError\u001b[0m: File or directory not found: ../lightning_logs/GRU_Rote_X"
     ]
    }
   ],
   "source": [
    "metrics = [\"train_auroc\", \"val_auroc\", \"train_accuracy_epoch\", \"val_accuracy_epoch\"]\n",
    "val_aurocs = []\n",
    "for label in labels:\n",
    "    tit=f\"# {label}\"\n",
    "    with open(SAVE_PATH, \"a\") as f:\n",
    "        f.write(\"\\n\\n\")\n",
    "        f.write(tit)\n",
    "        f.write(\"\\n\")\n",
    "    res=get_metric_results_from_eventfile(f\"../lightning_logs/{MODEL_TYPE}_{label}\", metrics, SAVE_PATH)\n",
    "    res['label']=label\n",
    "    val_aurocs.append({\"label\":label, \n",
    "                       \"mean AUROC\": res[['val_auroc']].mean().item(),\n",
    "                       \"min AUROC\": res[['val_auroc']].min().item(),\n",
    "                       \"max AUROC\": res[['val_auroc']].max().item()\n",
    "                       })"
   ]
  },
  {
   "cell_type": "code",
   "execution_count": null,
   "metadata": {},
   "outputs": [],
   "source": [
    "tit=\"Held-out AUROCs\"\n",
    "with open(SAVE_PATH, \"a\") as f:\n",
    "    f.write(\"\\n\\n\")\n",
    "    f.write(tit)\n",
    "    f.write(\"\\n\")\n",
    "tb = pd.DataFrame.from_records(val_aurocs)\n",
    "tb.to_markdown(SAVE_PATH, mode=\"a\", tablefmt=\"github\", index=False,floatfmt='.3f')\n"
   ]
  },
  {
   "cell_type": "code",
   "execution_count": 32,
   "metadata": {},
   "outputs": [],
   "source": [
    "# Get pretraining task val metrics \n",
    "tasks=['fi','cl','pc','rc']\n",
    "metric_types=['FI: AUROC','CL: Accuracy','PC: MSE (deg)','RC: MSE (deg)']\n",
    "varname = 'val_{task}_metric'\n",
    "metrics=[varname.format(**locals()) for task in tasks]\n",
    "res=get_metric_results_from_eventfile(f\"../lightning_logs/{MODEL_TYPE}_pretraining_seed{SEED}\", metrics, SAVE_PATH)\n",
    "\n",
    "pretrain_summary=[]\n",
    "for metric in metrics:\n",
    "    pretrain_summary.append({\"metric\":metric, \n",
    "                       \"mean\": res[[metric]].mean().item(),\n",
    "                       \"min\": res[[metric]].min().item(),\n",
    "                       \"max\": res[[metric]].max().item()\n",
    "                       })\n",
    "    \n",
    "tit=\"Pretraining validation metrics\"\n",
    "with open(SAVE_PATH, \"a\") as f:\n",
    "    f.write(\"\\n\\n\")\n",
    "    f.write(tit)\n",
    "    f.write(\"\\n\")\n",
    "tb = pd.DataFrame.from_records(pretrain_summary)\n",
    "tb.to_markdown(SAVE_PATH, mode=\"a\", tablefmt=\"github\", index=False,floatfmt='.3f')\n"
   ]
  }
 ],
 "metadata": {
  "kernelspec": {
   "display_name": "eyemind_arm",
   "language": "python",
   "name": "python3"
  },
  "language_info": {
   "codemirror_mode": {
    "name": "ipython",
    "version": 3
   },
   "file_extension": ".py",
   "mimetype": "text/x-python",
   "name": "python",
   "nbconvert_exporter": "python",
   "pygments_lexer": "ipython3",
   "version": "3.10.9"
  },
  "orig_nbformat": 4,
  "vscode": {
   "interpreter": {
    "hash": "c1499b27fd6353fe811f6c3b1d5c11b5c4e6658fe4f557f45649495283ca3391"
   }
  }
 },
 "nbformat": 4,
 "nbformat_minor": 2
}
