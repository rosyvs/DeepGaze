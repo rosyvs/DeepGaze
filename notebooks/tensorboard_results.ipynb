{
 "cells": [
  {
   "cell_type": "code",
   "execution_count": 6,
   "metadata": {},
   "outputs": [],
   "source": [
    "from tensorboard.backend.event_processing import event_accumulator\n",
    "import pandas as pd\n",
    "from pathlib import Path\n"
   ]
  },
  {
   "cell_type": "code",
   "execution_count": 126,
   "metadata": {},
   "outputs": [],
   "source": [
    "from tbparse import SummaryReader\n",
    "\n",
    "\n",
    "def get_metric_results_from_eventfile(dirpath, metrics, save_path=\"\"):\n",
    "    reader = SummaryReader(dirpath, pivot=False, extra_columns={'dir_name'})\n",
    "    df = reader.scalars\n",
    "    df = df.rename(columns={\"tag\": \"metric\", \"dir_name\": \"fold\"})\n",
    "    df = df.groupby([\"fold\",\"metric\"])['value'].max().reset_index()\n",
    "    df = df[df[\"metric\"].isin(metrics)].set_index([\"fold\"]).sort_values(\"metric\").reset_index()\n",
    "    res = df.pivot(index='fold', columns='metric', values='value').rename_axis(columns=None)\n",
    "    if save_path:\n",
    "        res.to_markdown(save_path, mode=\"a\", tablefmt=\"github\", index=True)\n",
    "    return res"
   ]
  },
  {
   "cell_type": "code",
   "execution_count": 129,
   "metadata": {},
   "outputs": [
    {
     "data": {
      "text/html": [
       "<div>\n",
       "<style scoped>\n",
       "    .dataframe tbody tr th:only-of-type {\n",
       "        vertical-align: middle;\n",
       "    }\n",
       "\n",
       "    .dataframe tbody tr th {\n",
       "        vertical-align: top;\n",
       "    }\n",
       "\n",
       "    .dataframe thead th {\n",
       "        text-align: right;\n",
       "    }\n",
       "</style>\n",
       "<table border=\"1\" class=\"dataframe\">\n",
       "  <thead>\n",
       "    <tr style=\"text-align: right;\">\n",
       "      <th></th>\n",
       "      <th>train_accuracy_epoch</th>\n",
       "      <th>train_auroc</th>\n",
       "      <th>val_accuracy_epoch</th>\n",
       "      <th>val_auroc</th>\n",
       "    </tr>\n",
       "    <tr>\n",
       "      <th>fold</th>\n",
       "      <th></th>\n",
       "      <th></th>\n",
       "      <th></th>\n",
       "      <th></th>\n",
       "    </tr>\n",
       "  </thead>\n",
       "  <tbody>\n",
       "    <tr>\n",
       "      <th>fold0</th>\n",
       "      <td>0.616071</td>\n",
       "      <td>0.663869</td>\n",
       "      <td>0.585938</td>\n",
       "      <td>0.568236</td>\n",
       "    </tr>\n",
       "    <tr>\n",
       "      <th>fold1</th>\n",
       "      <td>0.741071</td>\n",
       "      <td>0.814575</td>\n",
       "      <td>0.679688</td>\n",
       "      <td>0.725127</td>\n",
       "    </tr>\n",
       "    <tr>\n",
       "      <th>fold2</th>\n",
       "      <td>0.625000</td>\n",
       "      <td>0.661614</td>\n",
       "      <td>0.593750</td>\n",
       "      <td>0.554024</td>\n",
       "    </tr>\n",
       "    <tr>\n",
       "      <th>fold3</th>\n",
       "      <td>0.604911</td>\n",
       "      <td>0.617771</td>\n",
       "      <td>0.609375</td>\n",
       "      <td>0.567321</td>\n",
       "    </tr>\n",
       "  </tbody>\n",
       "</table>\n",
       "</div>"
      ],
      "text/plain": [
       "       train_accuracy_epoch  train_auroc  val_accuracy_epoch  val_auroc\n",
       "fold                                                                   \n",
       "fold0              0.616071     0.663869            0.585938   0.568236\n",
       "fold1              0.741071     0.814575            0.679688   0.725127\n",
       "fold2              0.625000     0.661614            0.593750   0.554024\n",
       "fold3              0.604911     0.617771            0.609375   0.567321"
      ]
     },
     "execution_count": 129,
     "metadata": {},
     "output_type": "execute_result"
    }
   ],
   "source": [
    "metrics = [\"train_auroc\", \"val_auroc\", \"train_accuracy_epoch\", \"val_accuracy_epoch\"]\n",
    "save_path = \"/Users/rickgentry/emotive_lab/eyemind/results/comprehension_results.md\"\n",
    "get_metric_results_from_eventfile(\"/Users/rickgentry/emotive_lab/eyemind/lightning_logs/informer_MW\", metrics, save_path)"
   ]
  }
 ],
 "metadata": {
  "kernelspec": {
   "display_name": "eyemind_arm",
   "language": "python",
   "name": "python3"
  },
  "language_info": {
   "codemirror_mode": {
    "name": "ipython",
    "version": 3
   },
   "file_extension": ".py",
   "mimetype": "text/x-python",
   "name": "python",
   "nbconvert_exporter": "python",
   "pygments_lexer": "ipython3",
   "version": "3.10.4"
  },
  "orig_nbformat": 4,
  "vscode": {
   "interpreter": {
    "hash": "c1499b27fd6353fe811f6c3b1d5c11b5c4e6658fe4f557f45649495283ca3391"
   }
  }
 },
 "nbformat": 4,
 "nbformat_minor": 2
}
