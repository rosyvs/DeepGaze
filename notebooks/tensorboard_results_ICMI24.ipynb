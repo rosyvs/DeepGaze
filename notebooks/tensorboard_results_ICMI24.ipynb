{
 "cells": [
  {
   "cell_type": "code",
   "execution_count": 34,
   "metadata": {},
   "outputs": [],
   "source": [
    "from tensorboard.backend.event_processing import event_accumulator\n",
    "import pandas as pd\n",
    "from pathlib import Path\n",
    "from tbparse import SummaryReader\n"
   ]
  },
  {
   "cell_type": "code",
   "execution_count": 35,
   "metadata": {},
   "outputs": [],
   "source": [
    "MODEL_TYPE='informer' # GRU or informer\n",
    "SAVE_PATH = f\"../results/ICMI24_{MODEL_TYPE}_results.md\"\n",
    "SEED=21\n",
    "OVERWRITE=True\n",
    "if OVERWRITE:\n",
    "     open(SAVE_PATH, 'w').close()\n"
   ]
  },
  {
   "cell_type": "code",
   "execution_count": 36,
   "metadata": {},
   "outputs": [],
   "source": [
    "def get_metric_results_from_eventfile(dirpath, metrics, SAVE_PATH=\"\", title=\"\", select=\"latest\"):\n",
    "    # select = \"latest\", or \"lowest\" or \"highest\"\n",
    "    reader = SummaryReader(dirpath, pivot=False, extra_columns={'dir_name'})\n",
    "    df = reader.scalars\n",
    "    df = df.rename(columns={\"tag\": \"metric\", \"dir_name\": \"fold\"})\n",
    "    grouped = df.groupby([\"fold\",\"metric\"])\n",
    "    # ['step'].max().reset_index() # this is choosing the max AUROC but we want the latest!!\n",
    "    if select=='latest':\n",
    "        df = df.loc[grouped['step'].idxmax()].reset_index(drop=True)\n",
    "    elif select=='highest':\n",
    "        df = df.loc[grouped['value'].idxmax()].reset_index(drop=True)\n",
    "    elif select=='lowest':\n",
    "        df = df.loc[grouped['value'].idxmin()].reset_index(drop=True)\n",
    "    \n",
    "    df = df[df[\"metric\"].isin(metrics)].set_index([\"fold\"]).sort_values(\"metric\").reset_index()\n",
    "\n",
    "    res = df.pivot(index='fold', columns='metric', values='value')#.rename_axis(columns=None)\n",
    "    if SAVE_PATH:\n",
    "        with open(SAVE_PATH,'a') as f:\n",
    "            f.write(\"\\n\\n\")\n",
    "            f.write(title)\n",
    "            f.write(\"\\n\")\n",
    "        res.to_markdown(SAVE_PATH, mode=\"a\", tablefmt=\"github\", index=True,floatfmt='.3f')\n",
    "    return res"
   ]
  },
  {
   "cell_type": "code",
   "execution_count": 37,
   "metadata": {},
   "outputs": [],
   "source": [
    "\n",
    "# Get pretraining task val metrics \n",
    "tasks=['fi','cl','pc','rc']\n",
    "metric_names=['FI: AUROC','CL: Accuracy','PC: MSE (deg)','RC: MSE (deg)']\n",
    "metric_select=['highest','highest','lowest','lowest'] # which value to use when multiple checkpoints avail\n",
    "varname = 'val_{task}_metric'\n",
    "metrics=[varname.format(**locals()) for task in tasks]\n",
    "\n",
    "pretrain_summary=[]\n",
    "for i,metric in enumerate(metrics):\n",
    "    name=metric_names[i]\n",
    "    res=get_metric_results_from_eventfile(f\"../lightning_logs/2023/{MODEL_TYPE}_pretraining_seed{SEED}\", [metric], SAVE_PATH=None, title=name, select=\"latest\")\n",
    "    pretrain_summary.append({\"metric\":name, \n",
    "                       \"mean\": res[[metric]].mean().item(),\n",
    "                       \"min\": res[[metric]].min().item(),\n",
    "                       \"max\": res[[metric]].max().item()\n",
    "                       })\n",
    "    \n"
   ]
  },
  {
   "cell_type": "code",
   "execution_count": 38,
   "metadata": {},
   "outputs": [],
   "source": [
    "    \n",
    "tit=\"Pretraining validation metrics: summarized\"\n",
    "with open(SAVE_PATH, \"a\") as f:\n",
    "    f.write(\"\\n\\n\")\n",
    "    f.write(tit)\n",
    "    f.write(\"\\n\")\n",
    "tb = pd.DataFrame.from_records(pretrain_summary)\n",
    "tb.to_markdown(SAVE_PATH, mode=\"a\", tablefmt=\"github\", index=False,floatfmt='.3f')"
   ]
  },
  {
   "cell_type": "code",
   "execution_count": 39,
   "metadata": {},
   "outputs": [],
   "source": [
    "labels = ['SVT',\n",
    "'Rote_X', 'Rote_Y', \"Rote_Z\", \"Rote_D\",\n",
    "          'Inference_X', \"Inference_Y\",\"Inference_Z\", \"Inference_D\", \n",
    "          \"Deep_X\", \"Deep_Z\",\n",
    "          \"MW\"]"
   ]
  },
  {
   "cell_type": "code",
   "execution_count": 40,
   "metadata": {},
   "outputs": [],
   "source": [
    "metrics = [\"train_auroc\", \"val_auroc\", \"train_accuracy_epoch\", \"val_accuracy_epoch\"]\n",
    "val_aurocs = []\n",
    "tit=f\"Held-out AUROCs: informer with fixed sequence length 500\"\n",
    "\n",
    "with open(SAVE_PATH, \"a\") as f:\n",
    "    f.write(\"\\n\\n\")\n",
    "    f.write(tit)\n",
    "    f.write(\"\\n\")\n",
    "\n",
    "for label in labels:\n",
    "    # if label=='SVT':\n",
    "    #     continue\n",
    "    res=get_metric_results_from_eventfile(f\"../lightning_logs/2023/informer_{label}\", metrics, SAVE_PATH=None, select=\"latest\")\n",
    "    res['label']=label\n",
    "    val_aurocs.append({\"label\":label, \n",
    "                       \"mean AUROC\": res[['val_auroc']].mean().item(),\n",
    "                       \"min AUROC\": res[['val_auroc']].min().item(),\n",
    "                       \"max AUROC\": res[['val_auroc']].max().item()\n",
    "                       })\n",
    "tb = pd.DataFrame.from_records(val_aurocs)\n",
    "tb.to_markdown(SAVE_PATH, mode=\"a\", tablefmt=\"github\", index=False,floatfmt='.3f')"
   ]
  },
  {
   "cell_type": "code",
   "execution_count": 41,
   "metadata": {},
   "outputs": [
    {
     "ename": "ValueError",
     "evalue": "File or directory not found: ../lightning_logs/2024/classifiers/limu_125_masked/Rote_D_limu",
     "output_type": "error",
     "traceback": [
      "\u001b[0;31m---------------------------------------------------------------------------\u001b[0m",
      "\u001b[0;31mValueError\u001b[0m                                Traceback (most recent call last)",
      "Cell \u001b[0;32mIn[41], line 14\u001b[0m\n\u001b[1;32m      7\u001b[0m MODEL_TYPE\u001b[38;5;241m=\u001b[39m\u001b[38;5;124m'\u001b[39m\u001b[38;5;124mlimu\u001b[39m\u001b[38;5;124m'\u001b[39m \u001b[38;5;28;01mif\u001b[39;00m \u001b[38;5;124m'\u001b[39m\u001b[38;5;124mlimu\u001b[39m\u001b[38;5;124m'\u001b[39m \u001b[38;5;129;01min\u001b[39;00m classifier \u001b[38;5;28;01melse\u001b[39;00m \u001b[38;5;124m'\u001b[39m\u001b[38;5;124minformer\u001b[39m\u001b[38;5;124m'\u001b[39m\n\u001b[1;32m      8\u001b[0m \u001b[38;5;28;01mfor\u001b[39;00m label \u001b[38;5;129;01min\u001b[39;00m labels:\n\u001b[1;32m      9\u001b[0m     \u001b[38;5;66;03m# tit=f\"# {label}\"\u001b[39;00m\n\u001b[1;32m     10\u001b[0m     \u001b[38;5;66;03m# with open(SAVE_PATH, \"a\") as f:\u001b[39;00m\n\u001b[1;32m     11\u001b[0m     \u001b[38;5;66;03m#     f.write(\"\\n\\n\")\u001b[39;00m\n\u001b[1;32m     12\u001b[0m     \u001b[38;5;66;03m#     f.write(tit)\u001b[39;00m\n\u001b[1;32m     13\u001b[0m     \u001b[38;5;66;03m#     f.write(\"\\n\")\u001b[39;00m\n\u001b[0;32m---> 14\u001b[0m     res\u001b[38;5;241m=\u001b[39m\u001b[43mget_metric_results_from_eventfile\u001b[49m\u001b[43m(\u001b[49m\u001b[38;5;124;43mf\u001b[39;49m\u001b[38;5;124;43m\"\u001b[39;49m\u001b[38;5;124;43m../lightning_logs/2024/classifiers/\u001b[39;49m\u001b[38;5;132;43;01m{\u001b[39;49;00m\u001b[43mclassifier\u001b[49m\u001b[38;5;132;43;01m}\u001b[39;49;00m\u001b[38;5;124;43m/\u001b[39;49m\u001b[38;5;132;43;01m{\u001b[39;49;00m\u001b[43mlabel\u001b[49m\u001b[38;5;132;43;01m}\u001b[39;49;00m\u001b[38;5;124;43m_\u001b[39;49m\u001b[38;5;132;43;01m{\u001b[39;49;00m\u001b[43mMODEL_TYPE\u001b[49m\u001b[38;5;132;43;01m}\u001b[39;49;00m\u001b[38;5;124;43m\"\u001b[39;49m\u001b[43m,\u001b[49m\u001b[43m \u001b[49m\u001b[43mmetrics\u001b[49m\u001b[43m,\u001b[49m\u001b[43m \u001b[49m\u001b[43mSAVE_PATH\u001b[49m\u001b[38;5;241;43m=\u001b[39;49m\u001b[38;5;28;43;01mNone\u001b[39;49;00m\u001b[43m,\u001b[49m\u001b[43m \u001b[49m\u001b[43mselect\u001b[49m\u001b[38;5;241;43m=\u001b[39;49m\u001b[38;5;124;43m\"\u001b[39;49m\u001b[38;5;124;43mlatest\u001b[39;49m\u001b[38;5;124;43m\"\u001b[39;49m\u001b[43m)\u001b[49m\n\u001b[1;32m     15\u001b[0m     res[\u001b[38;5;124m'\u001b[39m\u001b[38;5;124mlabel\u001b[39m\u001b[38;5;124m'\u001b[39m]\u001b[38;5;241m=\u001b[39mlabel\n\u001b[1;32m     16\u001b[0m     val_aurocs\u001b[38;5;241m.\u001b[39mappend({\u001b[38;5;124m\"\u001b[39m\u001b[38;5;124mlabel\u001b[39m\u001b[38;5;124m\"\u001b[39m:label, \n\u001b[1;32m     17\u001b[0m                     \u001b[38;5;124m\"\u001b[39m\u001b[38;5;124mmean AUROC\u001b[39m\u001b[38;5;124m\"\u001b[39m: res[[\u001b[38;5;124m'\u001b[39m\u001b[38;5;124mval_auroc\u001b[39m\u001b[38;5;124m'\u001b[39m]]\u001b[38;5;241m.\u001b[39mmean()\u001b[38;5;241m.\u001b[39mitem(),\n\u001b[1;32m     18\u001b[0m                     \u001b[38;5;124m\"\u001b[39m\u001b[38;5;124mmin AUROC\u001b[39m\u001b[38;5;124m\"\u001b[39m: res[[\u001b[38;5;124m'\u001b[39m\u001b[38;5;124mval_auroc\u001b[39m\u001b[38;5;124m'\u001b[39m]]\u001b[38;5;241m.\u001b[39mmin()\u001b[38;5;241m.\u001b[39mitem(),\n\u001b[1;32m     19\u001b[0m                     \u001b[38;5;124m\"\u001b[39m\u001b[38;5;124mmax AUROC\u001b[39m\u001b[38;5;124m\"\u001b[39m: res[[\u001b[38;5;124m'\u001b[39m\u001b[38;5;124mval_auroc\u001b[39m\u001b[38;5;124m'\u001b[39m]]\u001b[38;5;241m.\u001b[39mmax()\u001b[38;5;241m.\u001b[39mitem()\n\u001b[1;32m     20\u001b[0m                     })\n",
      "Cell \u001b[0;32mIn[36], line 3\u001b[0m, in \u001b[0;36mget_metric_results_from_eventfile\u001b[0;34m(dirpath, metrics, SAVE_PATH, title, select)\u001b[0m\n\u001b[1;32m      1\u001b[0m \u001b[38;5;28;01mdef\u001b[39;00m \u001b[38;5;21mget_metric_results_from_eventfile\u001b[39m(dirpath, metrics, SAVE_PATH\u001b[38;5;241m=\u001b[39m\u001b[38;5;124m\"\u001b[39m\u001b[38;5;124m\"\u001b[39m, title\u001b[38;5;241m=\u001b[39m\u001b[38;5;124m\"\u001b[39m\u001b[38;5;124m\"\u001b[39m, select\u001b[38;5;241m=\u001b[39m\u001b[38;5;124m\"\u001b[39m\u001b[38;5;124mlatest\u001b[39m\u001b[38;5;124m\"\u001b[39m):\n\u001b[1;32m      2\u001b[0m     \u001b[38;5;66;03m# select = \"latest\", or \"lowest\" or \"highest\"\u001b[39;00m\n\u001b[0;32m----> 3\u001b[0m     reader \u001b[38;5;241m=\u001b[39m \u001b[43mSummaryReader\u001b[49m\u001b[43m(\u001b[49m\u001b[43mdirpath\u001b[49m\u001b[43m,\u001b[49m\u001b[43m \u001b[49m\u001b[43mpivot\u001b[49m\u001b[38;5;241;43m=\u001b[39;49m\u001b[38;5;28;43;01mFalse\u001b[39;49;00m\u001b[43m,\u001b[49m\u001b[43m \u001b[49m\u001b[43mextra_columns\u001b[49m\u001b[38;5;241;43m=\u001b[39;49m\u001b[43m{\u001b[49m\u001b[38;5;124;43m'\u001b[39;49m\u001b[38;5;124;43mdir_name\u001b[39;49m\u001b[38;5;124;43m'\u001b[39;49m\u001b[43m}\u001b[49m\u001b[43m)\u001b[49m\n\u001b[1;32m      4\u001b[0m     df \u001b[38;5;241m=\u001b[39m reader\u001b[38;5;241m.\u001b[39mscalars\n\u001b[1;32m      5\u001b[0m     df \u001b[38;5;241m=\u001b[39m df\u001b[38;5;241m.\u001b[39mrename(columns\u001b[38;5;241m=\u001b[39m{\u001b[38;5;124m\"\u001b[39m\u001b[38;5;124mtag\u001b[39m\u001b[38;5;124m\"\u001b[39m: \u001b[38;5;124m\"\u001b[39m\u001b[38;5;124mmetric\u001b[39m\u001b[38;5;124m\"\u001b[39m, \u001b[38;5;124m\"\u001b[39m\u001b[38;5;124mdir_name\u001b[39m\u001b[38;5;124m\"\u001b[39m: \u001b[38;5;124m\"\u001b[39m\u001b[38;5;124mfold\u001b[39m\u001b[38;5;124m\"\u001b[39m})\n",
      "File \u001b[0;32m~/miniconda3/envs/dg/lib/python3.10/site-packages/tbparse/summary_reader.py:140\u001b[0m, in \u001b[0;36mSummaryReader.__init__\u001b[0;34m(self, log_path, pivot, extra_columns, event_types)\u001b[0m\n\u001b[1;32m    137\u001b[0m \u001b[38;5;250m\u001b[39m\u001b[38;5;124;03m\"\"\"Stores a `pandas.DataFrame` containing all events.\"\"\"\u001b[39;00m\n\u001b[1;32m    139\u001b[0m \u001b[38;5;28;01mif\u001b[39;00m \u001b[38;5;129;01mnot\u001b[39;00m os\u001b[38;5;241m.\u001b[39mpath\u001b[38;5;241m.\u001b[39mexists(\u001b[38;5;28mself\u001b[39m\u001b[38;5;241m.\u001b[39mlog_path):\n\u001b[0;32m--> 140\u001b[0m     \u001b[38;5;28;01mraise\u001b[39;00m \u001b[38;5;167;01mValueError\u001b[39;00m(\u001b[38;5;124mf\u001b[39m\u001b[38;5;124m\"\u001b[39m\u001b[38;5;124mFile or directory not found: \u001b[39m\u001b[38;5;132;01m{\u001b[39;00m\u001b[38;5;28mself\u001b[39m\u001b[38;5;241m.\u001b[39mlog_path\u001b[38;5;132;01m}\u001b[39;00m\u001b[38;5;124m\"\u001b[39m)\n\u001b[1;32m    141\u001b[0m \u001b[38;5;28;01mif\u001b[39;00m os\u001b[38;5;241m.\u001b[39mpath\u001b[38;5;241m.\u001b[39misfile(\u001b[38;5;28mself\u001b[39m\u001b[38;5;241m.\u001b[39mlog_path):\n\u001b[1;32m    142\u001b[0m     \u001b[38;5;66;03m# Note: tensorflow.python.summary.summary_iterator is less\u001b[39;00m\n\u001b[1;32m    143\u001b[0m     \u001b[38;5;66;03m#       straightforward, so we use EventAccumulator instead.\u001b[39;00m\n\u001b[1;32m    144\u001b[0m     size_guidance \u001b[38;5;241m=\u001b[39m MINIMUM_SIZE_GUIDANCE\u001b[38;5;241m.\u001b[39mcopy()\n",
      "\u001b[0;31mValueError\u001b[0m: File or directory not found: ../lightning_logs/2024/classifiers/limu_125_masked/Rote_D_limu"
     ]
    }
   ],
   "source": [
    "metrics = [\"train_auroc\", \"val_auroc\", \"train_accuracy_epoch\", \"val_accuracy_epoch\"]\n",
    "classifier_names = ['informer_4task_encoder_varlen_meanpool', 'informer_4task_encoder_varlen_maskmeanpool','informer_4task_encoder_varlen_finalpos',\n",
    "'limu_125', 'limu_125_masked','limu_125_finalpos']\n",
    "\n",
    "for classifier in classifier_names:\n",
    "    val_aurocs = []\n",
    "    MODEL_TYPE='limu' if 'limu' in classifier else 'informer'\n",
    "    for label in labels:\n",
    "        # tit=f\"# {label}\"\n",
    "        # with open(SAVE_PATH, \"a\") as f:\n",
    "        #     f.write(\"\\n\\n\")\n",
    "        #     f.write(tit)\n",
    "        #     f.write(\"\\n\")\n",
    "        res=get_metric_results_from_eventfile(f\"../lightning_logs/2024/classifiers/{classifier}/{label}_{MODEL_TYPE}\", metrics, SAVE_PATH=None, select=\"latest\")\n",
    "        res['label']=label\n",
    "        val_aurocs.append({\"label\":label, \n",
    "                        \"mean AUROC\": res[['val_auroc']].mean().item(),\n",
    "                        \"min AUROC\": res[['val_auroc']].min().item(),\n",
    "                        \"max AUROC\": res[['val_auroc']].max().item()\n",
    "                        })\n",
    "    tit=f\"Held-out AUROCs: {classifier}\"\n",
    "    with open(SAVE_PATH, \"a\") as f:\n",
    "        f.write(\"\\n\\n\")\n",
    "        f.write(tit)\n",
    "        f.write(\"\\n\")\n",
    "    tb = pd.DataFrame.from_records(val_aurocs)\n",
    "    tb.to_markdown(SAVE_PATH, mode=\"a\", tablefmt=\"github\", index=False,floatfmt='.3f')\n"
   ]
  }
 ],
 "metadata": {
  "kernelspec": {
   "display_name": "eyemind_arm",
   "language": "python",
   "name": "python3"
  },
  "language_info": {
   "codemirror_mode": {
    "name": "ipython",
    "version": 3
   },
   "file_extension": ".py",
   "mimetype": "text/x-python",
   "name": "python",
   "nbconvert_exporter": "python",
   "pygments_lexer": "ipython3",
   "version": "3.10.14"
  },
  "orig_nbformat": 4,
  "vscode": {
   "interpreter": {
    "hash": "c1499b27fd6353fe811f6c3b1d5c11b5c4e6658fe4f557f45649495283ca3391"
   }
  }
 },
 "nbformat": 4,
 "nbformat_minor": 2
}
