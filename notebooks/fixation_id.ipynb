{
 "cells": [
  {
   "cell_type": "code",
   "execution_count": 1,
   "metadata": {},
   "outputs": [],
   "source": []
  },
  {
   "cell_type": "markdown",
   "metadata": {},
   "source": [
    "# Get percentage of fixations for us and for them AUPRC\n",
    "# Start at a fixed point\n",
    "# Shorten sequence length\n",
    "\n",
    "1. Results table \n",
    "2. Fine-tuning their model on fixations\n",
    "3. Regression \n",
    "4. Identify if it is the same text or participant\n",
    "4. Look at gaze papers "
   ]
  },
  {
   "cell_type": "markdown",
   "metadata": {},
   "source": [
    "## Imports"
   ]
  },
  {
   "cell_type": "code",
   "execution_count": 2,
   "metadata": {},
   "outputs": [],
   "source": [
    "# Import obf functionality\n",
    "import sys\n",
    "from pathlib import Path\n",
    "sys.path.append(str(Path(\"../../OBF\").resolve()))\n",
    "\n",
    "from obf.model import ae\n",
    "from obf.model import creator\n"
   ]
  },
  {
   "cell_type": "code",
   "execution_count": 2,
   "metadata": {},
   "outputs": [
    {
     "ename": "IndentationError",
     "evalue": "expected an indented block (gaze_data.py, line 66)",
     "output_type": "error",
     "traceback": [
      "Traceback \u001b[0;36m(most recent call last)\u001b[0m:\n",
      "  File \u001b[1;32m~/miniforge3/envs/eyemind/lib/python3.9/site-packages/IPython/core/interactiveshell.py:3369\u001b[0m in \u001b[1;35mrun_code\u001b[0m\n    exec(code_obj, self.user_global_ns, self.user_ns)\n",
      "\u001b[0;36m  Input \u001b[0;32mIn [2]\u001b[0;36m in \u001b[0;35m<cell line: 2>\u001b[0;36m\u001b[0m\n\u001b[0;31m    from eyemind.dataloading.gaze_data import GazeDataModule\u001b[0m\n",
      "\u001b[0;36m  File \u001b[0;32m~/emotive_lab/eyemind/eyemind/dataloading/gaze_data.py:66\u001b[0;36m\u001b[0m\n\u001b[0;31m    if self.transform_x:\u001b[0m\n\u001b[0m    ^\u001b[0m\n\u001b[0;31mIndentationError\u001b[0m\u001b[0;31m:\u001b[0m expected an indented block\n"
     ]
    }
   ],
   "source": [
    "from eyemind.dataloading.load_dataset import limit_sequence_len, get_label_mapper, get_filenames_for_dataset, create_filename_col, get_stratified_group_splits\n",
    "from eyemind.dataloading.gaze_data import GazeDataModule\n",
    "from eyemind.models.classifier import EncoderClassifierModel\n",
    "import pandas as pd\n",
    "import torch\n",
    "import numpy as np\n",
    "import matplotlib.pyplot as plt\n",
    "from torch.utils.data import SubsetRandomSampler, DataLoader\n",
    "from pytorch_lightning import Trainer\n"
   ]
  },
  {
   "cell_type": "markdown",
   "metadata": {},
   "source": [
    "## DataLoading"
   ]
  },
  {
   "cell_type": "code",
   "execution_count": 4,
   "metadata": {},
   "outputs": [],
   "source": [
    "data_folder = Path(\"/Users/rickgentry/emotive_lab/eyemind/data/processed/fixation\")"
   ]
  },
  {
   "cell_type": "code",
   "execution_count": 9,
   "metadata": {},
   "outputs": [],
   "source": [
    "def fixation_label_mapper(files):\n",
    "    labels = []\n",
    "    for f in files:\n",
    "        df = pd.read_csv(f)\n",
    "        label_array = df['fixation_label'].to_numpy(float)\n",
    "        labels.append(label_array)\n",
    "    return labels\n"
   ]
  },
  {
   "cell_type": "code",
   "execution_count": 10,
   "metadata": {},
   "outputs": [],
   "source": [
    "def limit_label_seq(y_data, sequence_length, pad_token=-1.):\n",
    "    if len(y_data) > sequence_length:\n",
    "        y_data = y_data[:sequence_length]\n",
    "    else:\n",
    "        pad_data = np.ones((sequence_length,)) * pad_token\n",
    "        pad_data[:len(y_data)] = y_data\n",
    "        y_data = pad_data\n",
    "    return y_data\n",
    "\n"
   ]
  },
  {
   "cell_type": "code",
   "execution_count": 11,
   "metadata": {},
   "outputs": [],
   "source": [
    "from functools import partial\n",
    "sequence_len = 500\n",
    "lim_seq_len = partial(limit_sequence_len, sequence_len=sequence_len, random_part=False)\n",
    "limit_labels = partial(limit_label_seq, sequence_length=sequence_len)"
   ]
  },
  {
   "cell_type": "markdown",
   "metadata": {},
   "source": []
  },
  {
   "cell_type": "code",
   "execution_count": 12,
   "metadata": {},
   "outputs": [],
   "source": [
    "transforms = [lim_seq_len,lambda data: torch.tensor(data).float()]\n",
    "dm = GazeDataModule(data_folder, label_mapper=fixation_label_mapper, transform_x=transforms, transform_y=[limit_labels,lambda data: torch.tensor(data).float()])"
   ]
  },
  {
   "cell_type": "code",
   "execution_count": 13,
   "metadata": {},
   "outputs": [
    {
     "name": "stdout",
     "output_type": "stream",
     "text": [
      "6279 6279\n"
     ]
    }
   ],
   "source": [
    "dm.setup(stage=\"test\")"
   ]
  },
  {
   "cell_type": "code",
   "execution_count": 14,
   "metadata": {},
   "outputs": [],
   "source": [
    "test_dl = dm.test_dataloader(shuffle=True)"
   ]
  },
  {
   "cell_type": "markdown",
   "metadata": {},
   "source": [
    "## Data Exploration"
   ]
  },
  {
   "cell_type": "markdown",
   "metadata": {},
   "source": [
    "### Standardizing"
   ]
  },
  {
   "cell_type": "code",
   "execution_count": 19,
   "metadata": {},
   "outputs": [
    {
     "name": "stdout",
     "output_type": "stream",
     "text": [
      "XAvg   -39.506278\n",
      "YAvg   -25.359353\n",
      "dtype: float64\n"
     ]
    }
   ],
   "source": [
    "from eyemind.preprocessing.standardizing import get_stats\n",
    "mean, std = get_stats(data_folder)\n"
   ]
  },
  {
   "cell_type": "code",
   "execution_count": 21,
   "metadata": {},
   "outputs": [],
   "source": [
    "mean = mean.tolist()\n",
    "std = std.tolist()"
   ]
  },
  {
   "cell_type": "code",
   "execution_count": 26,
   "metadata": {},
   "outputs": [
    {
     "data": {
      "text/plain": [
       "[-0.6976962861531173, -1.9397646765803653]"
      ]
     },
     "execution_count": 26,
     "metadata": {},
     "output_type": "execute_result"
    }
   ],
   "source": [
    "mean"
   ]
  },
  {
   "cell_type": "code",
   "execution_count": 23,
   "metadata": {},
   "outputs": [],
   "source": [
    "from eyemind.dataloading.transforms import StandardScaler\n",
    "import pandas as pd\n",
    "import numpy as np\n",
    "ss = StandardScaler(mean=mean,std=std)\n",
    "df = pd.read_csv(Path(data_folder,\"EML1_003-Hypotheses0.csv\"), usecols=[\"XAvg\", \"YAvg\"])\n",
    "data = df.to_numpy()\n",
    "standard_data = ss(data)"
   ]
  },
  {
   "cell_type": "code",
   "execution_count": 24,
   "metadata": {},
   "outputs": [],
   "source": [
    "standard_data[standard_data==-180] = np.nan"
   ]
  },
  {
   "cell_type": "code",
   "execution_count": 25,
   "metadata": {},
   "outputs": [
    {
     "data": {
      "text/plain": [
       "array([1.21236319, 1.15337974])"
      ]
     },
     "execution_count": 25,
     "metadata": {},
     "output_type": "execute_result"
    }
   ],
   "source": [
    "np.nanstd(standard_data, axis=0)"
   ]
  },
  {
   "cell_type": "markdown",
   "metadata": {},
   "source": [
    "### Fixation Counts"
   ]
  },
  {
   "cell_type": "code",
   "execution_count": 17,
   "metadata": {},
   "outputs": [],
   "source": [
    "# Get fixation counts\n",
    "def count_fixation_percentage_folder():\n",
    "    fixation_count = 0\n",
    "    total_labels = 0\n",
    "\n",
    "    for filepath in Path.glob(data_folder, \"*.csv\"):\n",
    "        df = pd.read_csv(filepath)\n",
    "        total_labels += len(df['fixation_label'])\n",
    "        fixation_count += df['fixation_label'].sum()\n",
    "    return fixation_count / total_labels, fixation_count, total_labels"
   ]
  },
  {
   "cell_type": "code",
   "execution_count": 26,
   "metadata": {},
   "outputs": [],
   "source": [
    "def get_inv_ratios(fixation_count, total_labels):\n",
    "    inv_ratio_fix = 1 / (fixation_count / (total_labels - fixation_count))\n",
    "    inv_ratio_sacc = 1 / ((total_labels - fixation_count)/ fixation_count)\n",
    "    return inv_ratio_sacc, inv_ratio_fix"
   ]
  },
  {
   "cell_type": "code",
   "execution_count": 29,
   "metadata": {},
   "outputs": [],
   "source": [
    "def fixation_label_counts(dl):\n",
    "    total_labels = 0\n",
    "    fixation_count = 0\n",
    "    for _, labels in dl:\n",
    "        fixation_count += labels.sum().numpy()\n",
    "        total_labels += torch.numel(labels)\n",
    "    return fixation_count, total_labels"
   ]
  },
  {
   "cell_type": "code",
   "execution_count": 34,
   "metadata": {},
   "outputs": [],
   "source": [
    "def get_class_weights(dl):\n",
    "    fixation_count, total_labels = fixation_label_counts(dl)\n",
    "    inv_ratio_sacc, inv_ratio_fix = get_inv_ratios(fixation_count, total_labels)\n",
    "    inv_ratios = np.array([inv_ratio_sacc, inv_ratio_fix])\n",
    "    print(inv_ratios)\n",
    "    class_weights = inv_ratios / inv_ratios.sum()\n",
    "    return class_weights\n"
   ]
  },
  {
   "cell_type": "markdown",
   "metadata": {},
   "source": [
    "### Fixation Data Visualization"
   ]
  },
  {
   "cell_type": "code",
   "execution_count": 55,
   "metadata": {},
   "outputs": [],
   "source": [
    "import matplotlib\n",
    "def plot_fix_signal(signal, labels):\n",
    "    sl = signal.shape[0]\n",
    "    x = signal[:,0]\n",
    "    y = signal[:,1]\n",
    "    labels = labels.astype(int)\n",
    "    label_colors ={0: 'green', 1: 'red'}\n",
    "    for l in np.unique(labels):\n",
    "        ix = np.where(labels == l)\n",
    "        plt.plot(list(range(sl)), x[ix], c = label_colors[l], label=l)\n",
    "        plt.plot(list(range(sl)), y[ix], c = label_colors[l], label=l)\n",
    "    plt.legend()\n",
    "    plt.show()"
   ]
  },
  {
   "cell_type": "code",
   "execution_count": 60,
   "metadata": {},
   "outputs": [],
   "source": [
    "from eyemind.obf.utils.signal_visualization import xy_t_fix_signal\n",
    "\n",
    "def visualize_random_example(dl, plot_fn, scale_fix=1):\n",
    "    for signals, labels in dl:\n",
    "        signal = signals[0].numpy()\n",
    "        label = labels[0].numpy() * scale_fix\n",
    "        plot_fn(signal, label)\n",
    "        break\n",
    "    \n",
    "\n"
   ]
  },
  {
   "cell_type": "code",
   "execution_count": 75,
   "metadata": {},
   "outputs": [
    {
     "name": "stdout",
     "output_type": "stream",
     "text": [
      "29.771588490882394\n",
      "17.088726202979693\n"
     ]
    }
   ],
   "source": [
    "from eyemind.preprocessing.signal_normalizing import get_pixels_per_degree, get_screen_limits\n",
    "\n",
    "# Stats of setup\n",
    "screen_res = (1920,1080)\n",
    "screen_size = (525.78,297.18)\n",
    "subject_dist = 989\n",
    "screen_center = (screen_res[0]//2,screen_res[1]//2)\n",
    "\n",
    "pixels_per_deg = get_pixels_per_degree(screen_res, screen_size, subject_dist)\n",
    "x_lims, y_lims = get_screen_limits(screen_res, pixels_per_deg)\n",
    "print(x_lims)\n",
    "print(y_lims)"
   ]
  },
  {
   "cell_type": "code",
   "execution_count": 130,
   "metadata": {},
   "outputs": [],
   "source": [
    "def vizualize_fix_signal(inputs, fixations, lims=(-10,10), title=\"Fixation ID Signal\"):\n",
    "\n",
    "    n1 = inputs.shape[0]\n",
    "    max_val = inputs.max()\n",
    "\n",
    "    # The input sequence\n",
    "    plt.plot(list(range(n1)),\n",
    "            inputs[:, 0],\n",
    "            label=\"x\",\n",
    "            color=\"orange\",\n",
    "            alpha=0.8)\n",
    "    plt.plot(list(range(n1)),\n",
    "            inputs[:, 1],\n",
    "            label=\"y\",\n",
    "            color=\"blue\",\n",
    "            alpha=0.8)\n",
    "\n",
    "    # The Ground truth sequence\n",
    "    saccade_gt_time = np.where(fixations == 0)[0]\n",
    "    plt.scatter(saccade_gt_time,\n",
    "                saccade_gt_time * 0,\n",
    "                label=\"GT Sac\",\n",
    "                color=\"green\",\n",
    "                alpha=0.2)\n",
    "    fix_gt_time = np.where(fixations == 1)[0]\n",
    "    plt.scatter(fix_gt_time,\n",
    "                np.ones((len(fix_gt_time),)) * max_val,\n",
    "                label=\"GT Fix\",\n",
    "                color=\"red\",\n",
    "                alpha=0.2)\n",
    "    plt.ylim(*lims)\n",
    "    plt.title(title)\n",
    "    plt.legend()\n",
    "    plt.show()\n",
    "                "
   ]
  },
  {
   "cell_type": "code",
   "execution_count": 162,
   "metadata": {},
   "outputs": [
    {
     "data": {
      "image/png": "[encoded data removed]",
      "text/plain": [
       "<Figure size 432x288 with 1 Axes>"
      ]
     },
     "metadata": {
      "needs_background": "light"
     },
     "output_type": "display_data"
    }
   ],
   "source": [
    "visualize_random_example(test_dl, vizualize_fix_signal)"
   ]
  },
  {
   "cell_type": "code",
   "execution_count": 113,
   "metadata": {},
   "outputs": [],
   "source": [
    "def show_signal_on_screen_with_fixations(\n",
    "                signal, \n",
    "                labels,\n",
    "                screen_width=29.77,\n",
    "                screen_height=17.09,\n",
    "                resolution_magnifier=10,\n",
    "                scatter_size = 5,\n",
    "                off_screen_factor = 2,\n",
    "                title=\"\"):\n",
    "  \"\"\"\n",
    "  \n",
    "  \n",
    "  Args:\n",
    "    signal: 2D signal\n",
    "    labels: 0 or 1 for saccade or fixation\n",
    "    screen_width: unit is visual degrees\n",
    "    screen_height: unit is visual degrees\n",
    "    resolution_magnifier (int): magnify visualization \n",
    "    \n",
    "  \"\"\"\n",
    "\n",
    "  # background image: * 2 for off-screen gazes\n",
    "  img = np.zeros((int(screen_height * off_screen_factor * resolution_magnifier), int(screen_width * off_screen_factor * resolution_magnifier), 3),\n",
    "                 dtype=np.float32)\n",
    "\n",
    "  for i,(x, y) in enumerate(signal):\n",
    "    xi = int(x * resolution_magnifier + screen_width * resolution_magnifier)\n",
    "    yi = int(y * resolution_magnifier + screen_height * resolution_magnifier)\n",
    "\n",
    "    try:\n",
    "      label = labels[i]\n",
    "      if label == 0:\n",
    "        img[yi - scatter_size:yi + scatter_size+1, xi - scatter_size:xi + scatter_size+1, 1] += 0.9\n",
    "      elif label == 1:\n",
    "        img[yi - scatter_size:yi + scatter_size+1, xi - scatter_size:xi + scatter_size+1, 0] += 0.9\n",
    "      else:\n",
    "        raise Exception(\"Label was not 0 or 1\")\n",
    "    except Exception as e:\n",
    "      print(e)\n",
    "\n",
    "  img = np.clip(img, 0, 1)\n",
    "  plt.imshow(img)\n",
    "\n",
    "  plt.title(title)\n",
    "  plt.show()"
   ]
  },
  {
   "cell_type": "code",
   "execution_count": 114,
   "metadata": {},
   "outputs": [],
   "source": [
    "def get_random_example_from_dataloader(dl):\n",
    "    x_batch, y_batch = next(iter(dl))\n",
    "    x, y = x_batch[0], y_batch[0]\n",
    "    return x, y"
   ]
  },
  {
   "cell_type": "code",
   "execution_count": 161,
   "metadata": {},
   "outputs": [
    {
     "data": {
      "image/png": "[encoded data removed]",
      "text/plain": [
       "<Figure size 432x288 with 1 Axes>"
      ]
     },
     "metadata": {
      "needs_background": "light"
     },
     "output_type": "display_data"
    }
   ],
   "source": [
    "signal, labels = get_random_example_from_dataloader(test_dl)\n",
    "show_signal_on_screen_with_fixations(signal, labels,resolution_magnifier=1,scatter_size=0, off_screen_factor=2)"
   ]
  },
  {
   "cell_type": "markdown",
   "metadata": {},
   "source": [
    "## Model"
   ]
  },
  {
   "cell_type": "code",
   "execution_count": 34,
   "metadata": {},
   "outputs": [],
   "source": [
    "pre_trained_weights_dir = Path(\"../OBF/pre_weights/sample_weights\")"
   ]
  },
  {
   "cell_type": "code",
   "execution_count": 35,
   "metadata": {},
   "outputs": [
    {
     "name": "stdout",
     "output_type": "stream",
     "text": [
      "Loading:  /Users/rickgentry/emotive_lab/eyemind/OBF/pre_weights/sample_weights/encoder_1633040995_gru.pt\n"
     ]
    }
   ],
   "source": [
    "encoder = creator.load_encoder(str(pre_trained_weights_dir.resolve()))"
   ]
  },
  {
   "cell_type": "code",
   "execution_count": 11,
   "metadata": {},
   "outputs": [
    {
     "name": "stdout",
     "output_type": "stream",
     "text": [
      "Sequential(\n",
      "  (0): CNNEncoder(\n",
      "    (cnn): Sequential(\n",
      "      (0): ConvBlock(\n",
      "        (conv): Conv1d(2, 14, kernel_size=(7,), stride=(1,), padding=(3,))\n",
      "        (pool_layer): AvgPool1d(kernel_size=(2,), stride=(2,), padding=(0,))\n",
      "        (bn): BatchNorm1d(14, eps=1e-05, momentum=0.1, affine=True, track_running_stats=True)\n",
      "        (activation): LeakyReLU(negative_slope=0.01)\n",
      "      )\n",
      "      (1): ConvBlock(\n",
      "        (conv): Conv1d(16, 16, kernel_size=(7,), stride=(1,), padding=(3,))\n",
      "        (bn): BatchNorm1d(16, eps=1e-05, momentum=0.1, affine=True, track_running_stats=True)\n",
      "        (activation): LeakyReLU(negative_slope=0.01)\n",
      "      )\n",
      "    )\n",
      "  )\n",
      "  (1): RNNEncoder(\n",
      "    (rnn): GRU(32, 128, num_layers=2, batch_first=True, dropout=0.1)\n",
      "  )\n",
      ")\n"
     ]
    }
   ],
   "source": [
    "print(encoder)"
   ]
  },
  {
   "cell_type": "code",
   "execution_count": 12,
   "metadata": {},
   "outputs": [],
   "source": [
    "fi_decoder = torch.load(str(Path(pre_trained_weights_dir, \"fi_1633040995_gru.pt\").resolve()),map_location=torch.device('cpu'))\n"
   ]
  },
  {
   "cell_type": "code",
   "execution_count": 13,
   "metadata": {},
   "outputs": [
    {
     "name": "stdout",
     "output_type": "stream",
     "text": [
      "RNNDecoder(\n",
      "  (rnn): GRU(128, 128, num_layers=2, batch_first=True, dropout=0.1)\n",
      "  (bn): BatchNorm1d(128, eps=1e-05, momentum=0.1, affine=True, track_running_stats=True)\n",
      "  (out_fc): Linear(in_features=128, out_features=2, bias=True)\n",
      ")\n"
     ]
    }
   ],
   "source": [
    "from torchsummary import summary\n",
    "print(fi_decoder)\n"
   ]
  },
  {
   "cell_type": "code",
   "execution_count": 14,
   "metadata": {},
   "outputs": [],
   "source": [
    "class FixationIdentifier(torch.nn.Module):\n",
    "    def __init__(self, encoder, decoder):\n",
    "        super().__init__()\n",
    "        self.encoder = encoder\n",
    "        self.decoder = decoder\n",
    "    \n",
    "    def forward(self, x):\n",
    "        embeddings = self.encoder(x)\n",
    "        output = self.decoder(embeddings)\n",
    "        return output\n",
    "        "
   ]
  },
  {
   "cell_type": "code",
   "execution_count": 15,
   "metadata": {},
   "outputs": [],
   "source": [
    "fid_model = FixationIdentifier(encoder, fi_decoder)"
   ]
  },
  {
   "cell_type": "code",
   "execution_count": 16,
   "metadata": {},
   "outputs": [
    {
     "name": "stdout",
     "output_type": "stream",
     "text": [
      "FixationIdentifier(\n",
      "  (encoder): Sequential(\n",
      "    (0): CNNEncoder(\n",
      "      (cnn): Sequential(\n",
      "        (0): ConvBlock(\n",
      "          (conv): Conv1d(2, 14, kernel_size=(7,), stride=(1,), padding=(3,))\n",
      "          (pool_layer): AvgPool1d(kernel_size=(2,), stride=(2,), padding=(0,))\n",
      "          (bn): BatchNorm1d(14, eps=1e-05, momentum=0.1, affine=True, track_running_stats=True)\n",
      "          (activation): LeakyReLU(negative_slope=0.01)\n",
      "        )\n",
      "        (1): ConvBlock(\n",
      "          (conv): Conv1d(16, 16, kernel_size=(7,), stride=(1,), padding=(3,))\n",
      "          (bn): BatchNorm1d(16, eps=1e-05, momentum=0.1, affine=True, track_running_stats=True)\n",
      "          (activation): LeakyReLU(negative_slope=0.01)\n",
      "        )\n",
      "      )\n",
      "    )\n",
      "    (1): RNNEncoder(\n",
      "      (rnn): GRU(32, 128, num_layers=2, batch_first=True, dropout=0.1)\n",
      "    )\n",
      "  )\n",
      "  (decoder): RNNDecoder(\n",
      "    (rnn): GRU(128, 128, num_layers=2, batch_first=True, dropout=0.1)\n",
      "    (bn): BatchNorm1d(128, eps=1e-05, momentum=0.1, affine=True, track_running_stats=True)\n",
      "    (out_fc): Linear(in_features=128, out_features=2, bias=True)\n",
      "  )\n",
      ")\n"
     ]
    }
   ],
   "source": [
    "print(fid_model)"
   ]
  },
  {
   "cell_type": "code",
   "execution_count": 38,
   "metadata": {},
   "outputs": [],
   "source": [
    "batch = next(iter(test_dl))"
   ]
  },
  {
   "cell_type": "code",
   "execution_count": 39,
   "metadata": {},
   "outputs": [],
   "source": [
    "x,y = batch"
   ]
  },
  {
   "cell_type": "code",
   "execution_count": 58,
   "metadata": {},
   "outputs": [],
   "source": [
    "logits = fid_model(x)"
   ]
  },
  {
   "cell_type": "code",
   "execution_count": 60,
   "metadata": {},
   "outputs": [
    {
     "data": {
      "text/plain": [
       "torch.Size([8, 500, 2])"
      ]
     },
     "execution_count": 60,
     "metadata": {},
     "output_type": "execute_result"
    }
   ],
   "source": [
    "logits.softmax(dim=2).shape"
   ]
  },
  {
   "cell_type": "code",
   "execution_count": 45,
   "metadata": {},
   "outputs": [],
   "source": [
    "preds = logits.argmax(dim=2).detach().cpu().numpy().reshape(-1)"
   ]
  },
  {
   "cell_type": "code",
   "execution_count": 61,
   "metadata": {},
   "outputs": [],
   "source": [
    "probs = logits.softmax(dim=2)[:,:,1].detach().cpu().numpy().reshape(-1)"
   ]
  },
  {
   "cell_type": "code",
   "execution_count": 64,
   "metadata": {},
   "outputs": [],
   "source": [
    "y = y.cpu().numpy().reshape(-1)"
   ]
  },
  {
   "cell_type": "code",
   "execution_count": 66,
   "metadata": {},
   "outputs": [],
   "source": [
    "auc = metrics.roc_auc_score(y, probs)"
   ]
  },
  {
   "cell_type": "code",
   "execution_count": 67,
   "metadata": {},
   "outputs": [
    {
     "data": {
      "text/plain": [
       "0.6506709492371336"
      ]
     },
     "execution_count": 67,
     "metadata": {},
     "output_type": "execute_result"
    }
   ],
   "source": [
    "auc"
   ]
  },
  {
   "cell_type": "code",
   "execution_count": 68,
   "metadata": {},
   "outputs": [],
   "source": [
    "acc = metrics.accuracy_score(y, preds)\n"
   ]
  },
  {
   "cell_type": "code",
   "execution_count": 69,
   "metadata": {},
   "outputs": [
    {
     "data": {
      "text/plain": [
       "0.73525"
      ]
     },
     "execution_count": 69,
     "metadata": {},
     "output_type": "execute_result"
    }
   ],
   "source": [
    "acc"
   ]
  },
  {
   "cell_type": "code",
   "execution_count": 93,
   "metadata": {},
   "outputs": [],
   "source": [
    "import sklearn.metrics as metrics\n",
    "import tqdm\n",
    "\n",
    "def evaluate(dl, model):\n",
    "    model.eval()\n",
    "    all_preds = []\n",
    "    all_labels = []\n",
    "    all_probs = []\n",
    "    for x, y in tqdm.tqdm(dl):\n",
    "        logits = model(x)\n",
    "        preds = logits.argmax(dim=2).detach().cpu().numpy().reshape(-1)\n",
    "        probs = logits.softmax(dim=2)[:,:,1].detach().cpu().numpy().reshape(-1)\n",
    "        y = y.cpu().numpy().reshape(-1)\n",
    "        all_preds += preds.tolist()\n",
    "        all_labels += y.tolist()\n",
    "        all_probs += probs.tolist()\n",
    "    all_labels = np.array(all_labels)\n",
    "    all_probs = np.array(all_probs)\n",
    "    all_preds = np.array(all_preds)\n",
    "    masked_indices = all_labels == -1\n",
    "    acc = metrics.accuracy_score(all_labels[~masked_indices], all_preds[~masked_indices])\n",
    "    auc = metrics.roc_auc_score(all_labels[~masked_indices], all_probs[~masked_indices])\n",
    "    return acc, auc\n",
    "\n",
    "\n",
    "\n"
   ]
  },
  {
   "cell_type": "code",
   "execution_count": 72,
   "metadata": {},
   "outputs": [
    {
     "name": "stderr",
     "output_type": "stream",
     "text": [
      "100%|██████████| 784/784 [08:00<00:00,  1.63it/s]\n"
     ]
    }
   ],
   "source": [
    "preds, labels, probs = evaluate(test_dl, fid_model)"
   ]
  },
  {
   "cell_type": "code",
   "execution_count": 91,
   "metadata": {},
   "outputs": [],
   "source": [
    "preds = np.array(preds)\n",
    "acc = metrics.accuracy_score(labels[~indices_masked], preds[~indices_masked])\n"
   ]
  },
  {
   "cell_type": "code",
   "execution_count": 92,
   "metadata": {},
   "outputs": [
    {
     "data": {
      "text/plain": [
       "0.7467187887901037"
      ]
     },
     "execution_count": 92,
     "metadata": {},
     "output_type": "execute_result"
    }
   ],
   "source": [
    "acc"
   ]
  },
  {
   "cell_type": "code",
   "execution_count": 81,
   "metadata": {},
   "outputs": [],
   "source": [
    "labels = np.array(labels)"
   ]
  },
  {
   "cell_type": "code",
   "execution_count": 86,
   "metadata": {},
   "outputs": [],
   "source": [
    "probs = np.array(probs)"
   ]
  },
  {
   "cell_type": "code",
   "execution_count": 88,
   "metadata": {},
   "outputs": [],
   "source": [
    "auc = metrics.roc_auc_score(labels[~indices_masked], probs[~indices_masked])"
   ]
  },
  {
   "cell_type": "code",
   "execution_count": 89,
   "metadata": {},
   "outputs": [
    {
     "data": {
      "text/plain": [
       "0.6525304778413941"
      ]
     },
     "execution_count": 89,
     "metadata": {},
     "output_type": "execute_result"
    }
   ],
   "source": [
    "auc"
   ]
  },
  {
   "cell_type": "code",
   "execution_count": null,
   "metadata": {},
   "outputs": [],
   "source": []
  }
 ],
 "metadata": {
  "kernelspec": {
   "display_name": "Python 3.9.12 ('eyemind')",
   "language": "python",
   "name": "python3"
  },
  "language_info": {
   "codemirror_mode": {
    "name": "ipython",
    "version": 3
   },
   "file_extension": ".py",
   "mimetype": "text/x-python",
   "name": "python",
   "nbconvert_exporter": "python",
   "pygments_lexer": "ipython3",
   "version": "3.9.12"
  },
  "orig_nbformat": 4,
  "vscode": {
   "interpreter": {
    "hash": "27febf39bfd259f69c2e36f15f94770a6426a2d8848f91fec23f21f64f7a227c"
   }
  }
 },
 "nbformat": 4,
 "nbformat_minor": 2
}
