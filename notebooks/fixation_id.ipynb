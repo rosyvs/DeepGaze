{
 "cells": [
  {
   "cell_type": "code",
   "execution_count": 1,
   "metadata": {},
   "outputs": [],
   "source": []
  },
  {
   "cell_type": "markdown",
   "metadata": {},
   "source": [
    "# Get percentage of fixations for us and for them AUPRC\n",
    "# Start at a fixed point\n",
    "# Shorten sequence length\n",
    "\n",
    "1. Results table \n",
    "2. Fine-tuning their model on fixations\n",
    "3. Regression \n",
    "4. Identify if it is the same text or participant\n",
    "4. Look at gaze papers "
   ]
  },
  {
   "cell_type": "markdown",
   "metadata": {},
   "source": [
    "## Imports"
   ]
  },
  {
   "cell_type": "code",
   "execution_count": 2,
   "metadata": {},
   "outputs": [
    {
     "name": "stderr",
     "output_type": "stream",
     "text": [
      "/usr/local/Caskroom/miniconda/base/envs/dg/lib/python3.10/site-packages/tqdm/auto.py:22: TqdmWarning: IProgress not found. Please update jupyter and ipywidgets. See https://ipywidgets.readthedocs.io/en/stable/user_install.html\n",
      "  from .autonotebook import tqdm as notebook_tqdm\n"
     ]
    }
   ],
   "source": [
    "# Import obf functionality\n",
    "import sys\n",
    "from pathlib import Path\n",
    "sys.path.append(str(Path(\"../../OBF\").resolve()))\n",
    "\n",
    "from eyemind.obf.model import ae\n",
    "from eyemind.obf.model import creator\n"
   ]
  },
  {
   "cell_type": "code",
   "execution_count": 3,
   "metadata": {},
   "outputs": [],
   "source": [
    "from eyemind.dataloading.load_dataset import limit_sequence_len, get_label_mapper, get_filenames_for_dataset, create_filename_col, get_stratified_group_splits\n",
    "from eyemind.dataloading.gaze_data import GazeDataModule\n",
    "from eyemind.models.classifier import EncoderClassifierModel\n",
    "import pandas as pd\n",
    "import torch\n",
    "import numpy as np\n",
    "import matplotlib.pyplot as plt\n",
    "from torch.utils.data import SubsetRandomSampler, DataLoader\n",
    "from pytorch_lightning import Trainer\n"
   ]
  },
  {
   "cell_type": "markdown",
   "metadata": {},
   "source": [
    "## DataLoading"
   ]
  },
  {
   "cell_type": "code",
   "execution_count": 41,
   "metadata": {},
   "outputs": [],
   "source": [
    "data_folder = Path(\"../data/processed/fixation\")"
   ]
  },
  {
   "cell_type": "code",
   "execution_count": 42,
   "metadata": {},
   "outputs": [],
   "source": [
    "def fixation_label_mapper(files):\n",
    "    labels = []\n",
    "    for f in files:\n",
    "        df = pd.read_csv(f)\n",
    "        label_array = df['fixation_label'].to_numpy(float)\n",
    "        labels.append(label_array)\n",
    "    return labels\n"
   ]
  },
  {
   "cell_type": "code",
   "execution_count": 43,
   "metadata": {},
   "outputs": [],
   "source": [
    "def limit_label_seq(y_data, sequence_length, pad_token=-1.):\n",
    "    if len(y_data) > sequence_length:\n",
    "        y_data = y_data[:sequence_length]\n",
    "    else:\n",
    "        pad_data = np.ones((sequence_length,)) * pad_token\n",
    "        pad_data[:len(y_data)] = y_data\n",
    "        y_data = pad_data\n",
    "    return y_data\n",
    "\n"
   ]
  },
  {
   "cell_type": "code",
   "execution_count": 44,
   "metadata": {},
   "outputs": [],
   "source": [
    "from functools import partial\n",
    "sequence_len = 500\n",
    "lim_seq_len = partial(limit_sequence_len, sequence_len=sequence_len, random_part=False)\n",
    "limit_labels = partial(limit_label_seq, sequence_length=sequence_len)"
   ]
  },
  {
   "cell_type": "markdown",
   "metadata": {},
   "source": []
  },
  {
   "cell_type": "code",
   "execution_count": 45,
   "metadata": {},
   "outputs": [],
   "source": [
    "transforms = [lim_seq_len,lambda data: torch.tensor(data).float()]\n",
    "dm = GazeDataModule(data_folder, label_mapper=fixation_label_mapper, transform_x=transforms, transform_y=[limit_labels,lambda data: torch.tensor(data).float()])"
   ]
  },
  {
   "cell_type": "code",
   "execution_count": 70,
   "metadata": {},
   "outputs": [
    {
     "ename": "AttributeError",
     "evalue": "'GazeDataModule' object has no attribute 'file_list'",
     "output_type": "error",
     "traceback": [
      "\u001b[0;31m---------------------------------------------------------------------------\u001b[0m",
      "\u001b[0;31mAttributeError\u001b[0m                            Traceback (most recent call last)",
      "Cell \u001b[0;32mIn[70], line 1\u001b[0m\n\u001b[0;32m----> 1\u001b[0m dm\u001b[39m.\u001b[39;49msetup(stage\u001b[39m=\u001b[39;49m\u001b[39m\"\u001b[39;49m\u001b[39mtest\u001b[39;49m\u001b[39m\"\u001b[39;49m)\n",
      "File \u001b[0;32m~/Dropbox (Emotive Computing)/EML Rosy/DeepGaze/eyemind/dataloading/gaze_data.py:729\u001b[0m, in \u001b[0;36mGazeDataModule.setup\u001b[0;34m(self, stage)\u001b[0m\n\u001b[1;32m    727\u001b[0m \u001b[39mif\u001b[39;00m stage \u001b[39m==\u001b[39m \u001b[39m\"\u001b[39m\u001b[39mtest\u001b[39m\u001b[39m\"\u001b[39m:\n\u001b[1;32m    728\u001b[0m     \u001b[39mdir\u001b[39m \u001b[39m=\u001b[39m \u001b[39mself\u001b[39m\u001b[39m.\u001b[39mtest_dir \u001b[39mif\u001b[39;00m \u001b[39mself\u001b[39m\u001b[39m.\u001b[39mtest_dir \u001b[39mis\u001b[39;00m \u001b[39mnot\u001b[39;00m \u001b[39mNone\u001b[39;00m \u001b[39melse\u001b[39;00m \u001b[39mself\u001b[39m\u001b[39m.\u001b[39mdata_dir \n\u001b[0;32m--> 729\u001b[0m     \u001b[39mself\u001b[39m\u001b[39m.\u001b[39mdataset_test \u001b[39m=\u001b[39m SequenceLabelDataset(\u001b[39mdir\u001b[39m, file_list\u001b[39m=\u001b[39m\u001b[39mself\u001b[39;49m\u001b[39m.\u001b[39;49mfile_list, label_mapper\u001b[39m=\u001b[39m\u001b[39mself\u001b[39m\u001b[39m.\u001b[39mlabel_mapper, transform_x\u001b[39m=\u001b[39m\u001b[39mself\u001b[39m\u001b[39m.\u001b[39mtransform_x, transform_y\u001b[39m=\u001b[39m\u001b[39mself\u001b[39m\u001b[39m.\u001b[39mtransform_y, usecols\u001b[39m=\u001b[39m\u001b[39mself\u001b[39m\u001b[39m.\u001b[39musecols, skiprows\u001b[39m=\u001b[39m\u001b[39mself\u001b[39m\u001b[39m.\u001b[39mskiprows)\n",
      "\u001b[0;31mAttributeError\u001b[0m: 'GazeDataModule' object has no attribute 'file_list'"
     ]
    }
   ],
   "source": [
    "dm.setup(stage=\"test\")"
   ]
  },
  {
   "cell_type": "code",
   "execution_count": 71,
   "metadata": {},
   "outputs": [
    {
     "ename": "TypeError",
     "evalue": "GazeDataModule.test_dataloader() got an unexpected keyword argument 'shuffle'",
     "output_type": "error",
     "traceback": [
      "\u001b[0;31m---------------------------------------------------------------------------\u001b[0m",
      "\u001b[0;31mTypeError\u001b[0m                                 Traceback (most recent call last)",
      "Cell \u001b[0;32mIn[71], line 1\u001b[0m\n\u001b[0;32m----> 1\u001b[0m test_dl \u001b[39m=\u001b[39m dm\u001b[39m.\u001b[39;49mtest_dataloader(shuffle\u001b[39m=\u001b[39;49m\u001b[39mTrue\u001b[39;49;00m)\n",
      "\u001b[0;31mTypeError\u001b[0m: GazeDataModule.test_dataloader() got an unexpected keyword argument 'shuffle'"
     ]
    }
   ],
   "source": [
    "test_dl = dm.test_dataloader(shuffle=True)"
   ]
  },
  {
   "cell_type": "markdown",
   "metadata": {},
   "source": [
    "## Data Exploration"
   ]
  },
  {
   "cell_type": "markdown",
   "metadata": {},
   "source": [
    "### Standardizing"
   ]
  },
  {
   "cell_type": "code",
   "execution_count": 48,
   "metadata": {},
   "outputs": [
    {
     "name": "stdout",
     "output_type": "stream",
     "text": [
      "XAvg   -39.506278\n",
      "YAvg   -25.359353\n",
      "dtype: float64\n"
     ]
    }
   ],
   "source": [
    "from eyemind.preprocessing.standardizing import get_stats\n",
    "mean, std = get_stats(data_folder)\n"
   ]
  },
  {
   "cell_type": "code",
   "execution_count": 49,
   "metadata": {},
   "outputs": [],
   "source": [
    "mean = mean.tolist()\n",
    "std = std.tolist()"
   ]
  },
  {
   "cell_type": "code",
   "execution_count": 50,
   "metadata": {},
   "outputs": [
    {
     "data": {
      "text/plain": [
       "[-0.6983440282868998, -1.9408488122606675]"
      ]
     },
     "execution_count": 50,
     "metadata": {},
     "output_type": "execute_result"
    }
   ],
   "source": [
    "mean"
   ]
  },
  {
   "cell_type": "code",
   "execution_count": 51,
   "metadata": {},
   "outputs": [],
   "source": [
    "from eyemind.dataloading.transforms import StandardScaler\n",
    "import pandas as pd\n",
    "import numpy as np\n",
    "ss = StandardScaler(mean=mean,std=std)\n",
    "df = pd.read_csv(Path(data_folder,\"EML1_003-Hypotheses0.csv\"), usecols=[\"XAvg\", \"YAvg\"])\n",
    "data = df.to_numpy()\n",
    "standard_data = ss(data)"
   ]
  },
  {
   "cell_type": "code",
   "execution_count": 52,
   "metadata": {},
   "outputs": [],
   "source": [
    "standard_data[standard_data==-180] = np.nan"
   ]
  },
  {
   "cell_type": "code",
   "execution_count": 53,
   "metadata": {},
   "outputs": [
    {
     "data": {
      "text/plain": [
       "array([1.21242255, 1.15307637])"
      ]
     },
     "execution_count": 53,
     "metadata": {},
     "output_type": "execute_result"
    }
   ],
   "source": [
    "np.nanstd(standard_data, axis=0)"
   ]
  },
  {
   "cell_type": "markdown",
   "metadata": {},
   "source": [
    "### Fixation Counts"
   ]
  },
  {
   "cell_type": "code",
   "execution_count": 54,
   "metadata": {},
   "outputs": [],
   "source": [
    "# Get fixation counts\n",
    "def count_fixation_percentage_folder(data_dir):\n",
    "    fixation_count = 0\n",
    "    total_labels = 0\n",
    "\n",
    "    for filepath in Path.glob(data_folder, \"*.csv\"):\n",
    "        df = pd.read_csv(filepath)\n",
    "        total_labels += len(df['fixation_label'])\n",
    "        fixation_count += df['fixation_label'].sum()\n",
    "    return fixation_count / total_labels, fixation_count, total_labels"
   ]
  },
  {
   "cell_type": "code",
   "execution_count": 55,
   "metadata": {},
   "outputs": [],
   "source": [
    "def labels(data_dir):\n",
    "    labels=[]\n",
    "\n",
    "    for filepath in Path.glob(data_folder, \"*.csv\"):\n",
    "        print(filepath)\n",
    "        df = pd.read_csv(filepath)\n",
    "        labels += df['fixation_label'].tolist()\n",
    "        # return labels"
   ]
  },
  {
   "cell_type": "code",
   "execution_count": 56,
   "metadata": {},
   "outputs": [],
   "source": [
    "fix_perc, fix_count, total_labels = count_fixation_percentage_folder(data_folder)\n",
    "\n",
    "print(fix_perc)"
   ]
  },
  {
   "cell_type": "code",
   "execution_count": 58,
   "metadata": {},
   "outputs": [],
   "source": [
    "def get_inv_ratios(fixation_count, total_labels):\n",
    "    inv_ratio_fix = 1 / (fixation_count / (total_labels - fixation_count))\n",
    "    inv_ratio_sacc = 1 / ((total_labels - fixation_count)/ fixation_count)\n",
    "    return inv_ratio_sacc, inv_ratio_fix"
   ]
  },
  {
   "cell_type": "code",
   "execution_count": 78,
   "metadata": {},
   "outputs": [
    {
     "data": {
      "text/plain": [
       "3.8618245366084953"
      ]
     },
     "execution_count": 78,
     "metadata": {},
     "output_type": "execute_result"
    }
   ],
   "source": [
    "1 / ((total_labels - fix_count)/ fix_count)"
   ]
  },
  {
   "cell_type": "code",
   "execution_count": 74,
   "metadata": {},
   "outputs": [
    {
     "data": {
      "text/plain": [
       "0.25894495995880046"
      ]
     },
     "execution_count": 74,
     "metadata": {},
     "output_type": "execute_result"
    }
   ],
   "source": [
    "1 / (fix_count/ (total_labels - fix_count))"
   ]
  },
  {
   "cell_type": "code",
   "execution_count": null,
   "metadata": {},
   "outputs": [],
   "source": []
  },
  {
   "cell_type": "code",
   "execution_count": 71,
   "metadata": {},
   "outputs": [
    {
     "data": {
      "text/plain": [
       "(3.8618245366084953, 0.25894495995880046)"
      ]
     },
     "execution_count": 71,
     "metadata": {},
     "output_type": "execute_result"
    }
   ],
   "source": [
    "get_inv_ratios(fix_count, total_labels)"
   ]
  },
  {
   "cell_type": "code",
   "execution_count": 59,
   "metadata": {},
   "outputs": [],
   "source": [
    "def fixation_label_counts(dl):\n",
    "    total_labels = 0\n",
    "    fixation_count = 0\n",
    "    for _, labels in dl:\n",
    "        fixation_count += labels.sum().numpy()\n",
    "        total_labels += torch.numel(labels)\n",
    "    return fixation_count, total_labels"
   ]
  },
  {
   "cell_type": "code",
   "execution_count": 81,
   "metadata": {},
   "outputs": [],
   "source": [
    "def get_class_weights(data_folder):\n",
    "    _,fixation_count, total_labels = count_fixation_percentage_folder(data_folder)\n",
    "    inv_ratio_sacc, inv_ratio_fix = get_inv_ratios(fixation_count, total_labels)\n",
    "    inv_ratios = np.array([inv_ratio_sacc, inv_ratio_fix])\n",
    "    print(inv_ratios)\n",
    "    class_weights = inv_ratios / inv_ratios.sum()\n",
    "    return class_weights\n",
    "\n",
    "\n",
    "def get_class_weights_from_dl(dl):\n",
    "    fixation_count, total_labels = fixation_label_counts(dl)\n",
    "    inv_ratio_sacc, inv_ratio_fix = get_inv_ratios(fixation_count, total_labels)\n",
    "    inv_ratios = np.array([inv_ratio_sacc, inv_ratio_fix])\n",
    "    print(inv_ratios)\n",
    "    class_weights = inv_ratios / inv_ratios.sum()\n",
    "    return class_weights\n"
   ]
  },
  {
   "cell_type": "code",
   "execution_count": 82,
   "metadata": {},
   "outputs": [
    {
     "name": "stdout",
     "output_type": "stream",
     "text": [
      "[3.86182454 0.25894496]\n"
     ]
    },
    {
     "data": {
      "text/plain": [
       "array([0.93716102, 0.06283898])"
      ]
     },
     "execution_count": 82,
     "metadata": {},
     "output_type": "execute_result"
    }
   ],
   "source": [
    "get_class_weights(data_folder)"
   ]
  },
  {
   "cell_type": "code",
   "execution_count": 86,
   "metadata": {},
   "outputs": [],
   "source": [
    "labels = labels(data_folder)"
   ]
  },
  {
   "cell_type": "code",
   "execution_count": 87,
   "metadata": {},
   "outputs": [
    {
     "data": {
      "text/plain": [
       "12232686"
      ]
     },
     "execution_count": 87,
     "metadata": {},
     "output_type": "execute_result"
    }
   ],
   "source": []
  },
  {
   "cell_type": "code",
   "execution_count": 90,
   "metadata": {},
   "outputs": [],
   "source": [
    "from sklearn.utils import class_weight\n",
    "\n",
    "class_weights=class_weight.compute_class_weight('balanced',classes=np.unique(labels),y=np.array(labels))\n"
   ]
  },
  {
   "cell_type": "code",
   "execution_count": 91,
   "metadata": {},
   "outputs": [
    {
     "data": {
      "text/plain": [
       "array([2.43091227, 0.62947248])"
      ]
     },
     "execution_count": 91,
     "metadata": {},
     "output_type": "execute_result"
    }
   ],
   "source": [
    "class_weights"
   ]
  },
  {
   "cell_type": "markdown",
   "metadata": {},
   "source": [
    "### Fixation Data Visualization"
   ]
  },
  {
   "cell_type": "code",
   "execution_count": 58,
   "metadata": {},
   "outputs": [],
   "source": [
    "import matplotlib\n",
    "def plot_fix_signal(signal, labels):\n",
    "    sl = signal.shape[0]\n",
    "    x = signal[:,0]\n",
    "    y = signal[:,1]\n",
    "    labels = labels.astype(int)\n",
    "    label_colors ={0: 'green', 1: 'red'}\n",
    "    for l in np.unique(labels):\n",
    "        ix = np.where(labels == l)\n",
    "        plt.plot(list(range(sl)), x[ix], c = label_colors[l], label=l)\n",
    "        plt.plot(list(range(sl)), y[ix], c = label_colors[l], label=l)\n",
    "    plt.legend()\n",
    "    plt.show()"
   ]
  },
  {
   "cell_type": "code",
   "execution_count": 59,
   "metadata": {},
   "outputs": [],
   "source": [
    "from eyemind.obf.utils.signal_visualization import xy_t_fix_signal\n",
    "\n",
    "def visualize_random_example(dl, plot_fn, scale_fix=1):\n",
    "    for signals, labels in dl:\n",
    "        signal = signals[0].numpy()\n",
    "        label = labels[0].numpy() * scale_fix\n",
    "        plot_fn(signal, label)\n",
    "        break\n",
    "    \n",
    "\n"
   ]
  },
  {
   "cell_type": "code",
   "execution_count": 60,
   "metadata": {},
   "outputs": [
    {
     "name": "stdout",
     "output_type": "stream",
     "text": [
      "29.771588490882394\n",
      "17.088726202979693\n"
     ]
    }
   ],
   "source": [
    "from eyemind.preprocessing.signal_normalizing import get_pixels_per_degree, get_screen_limits\n",
    "\n",
    "# Stats of setup\n",
    "screen_res = (1920,1080)\n",
    "screen_size = (525.78,297.18)\n",
    "subject_dist = 989\n",
    "screen_center = (screen_res[0]//2,screen_res[1]//2)\n",
    "\n",
    "pixels_per_deg = get_pixels_per_degree(screen_res, screen_size, subject_dist)\n",
    "x_lims, y_lims = get_screen_limits(screen_res, pixels_per_deg)\n",
    "print(x_lims)\n",
    "print(y_lims)"
   ]
  },
  {
   "cell_type": "code",
   "execution_count": 61,
   "metadata": {},
   "outputs": [],
   "source": [
    "def vizualize_fix_signal(inputs, fixations, lims=(-10,10), title=\"Fixation ID Signal\"):\n",
    "\n",
    "    n1 = inputs.shape[0]\n",
    "    max_val = inputs.max()\n",
    "\n",
    "    # The input sequence\n",
    "    plt.plot(list(range(n1)),\n",
    "            inputs[:, 0],\n",
    "            label=\"x\",\n",
    "            color=\"orange\",\n",
    "            alpha=0.8)\n",
    "    plt.plot(list(range(n1)),\n",
    "            inputs[:, 1],\n",
    "            label=\"y\",\n",
    "            color=\"blue\",\n",
    "            alpha=0.8)\n",
    "\n",
    "    # The Ground truth sequence\n",
    "    saccade_gt_time = np.where(fixations == 0)[0]\n",
    "    plt.scatter(saccade_gt_time,\n",
    "                saccade_gt_time * 0,\n",
    "                label=\"GT Sac\",\n",
    "                color=\"green\",\n",
    "                alpha=0.2)\n",
    "    fix_gt_time = np.where(fixations == 1)[0]\n",
    "    plt.scatter(fix_gt_time,\n",
    "                np.ones((len(fix_gt_time),)) * max_val,\n",
    "                label=\"GT Fix\",\n",
    "                color=\"red\",\n",
    "                alpha=0.2)\n",
    "    plt.ylim(*lims)\n",
    "    plt.title(title)\n",
    "    plt.legend()\n",
    "    plt.show()\n",
    "                "
   ]
  },
  {
   "cell_type": "code",
   "execution_count": 62,
   "metadata": {},
   "outputs": [
    {
     "ename": "NameError",
     "evalue": "name 'test_dl' is not defined",
     "output_type": "error",
     "traceback": [
      "\u001b[0;31m---------------------------------------------------------------------------\u001b[0m",
      "\u001b[0;31mNameError\u001b[0m                                 Traceback (most recent call last)",
      "Cell \u001b[0;32mIn[62], line 1\u001b[0m\n\u001b[0;32m----> 1\u001b[0m visualize_random_example(test_dl, vizualize_fix_signal)\n",
      "\u001b[0;31mNameError\u001b[0m: name 'test_dl' is not defined"
     ]
    }
   ],
   "source": [
    "visualize_random_example(test_dl, vizualize_fix_signal)"
   ]
  },
  {
   "cell_type": "code",
   "execution_count": 63,
   "metadata": {},
   "outputs": [],
   "source": [
    "def show_signal_on_screen_with_fixations(\n",
    "                signal, \n",
    "                labels,\n",
    "                screen_width=29.77,\n",
    "                screen_height=17.09,\n",
    "                resolution_magnifier=10,\n",
    "                scatter_size = 5,\n",
    "                off_screen_factor = 2,\n",
    "                title=\"\"):\n",
    "  \"\"\"\n",
    "  \n",
    "  \n",
    "  Args:\n",
    "    signal: 2D signal\n",
    "    labels: 0 or 1 for saccade or fixation\n",
    "    screen_width: unit is visual degrees\n",
    "    screen_height: unit is visual degrees\n",
    "    resolution_magnifier (int): magnify visualization \n",
    "    \n",
    "  \"\"\"\n",
    "\n",
    "  # background image: * 2 for off-screen gazes\n",
    "  img = np.zeros((int(screen_height * off_screen_factor * resolution_magnifier), int(screen_width * off_screen_factor * resolution_magnifier), 3),\n",
    "                 dtype=np.float32)\n",
    "\n",
    "  for i,(x, y) in enumerate(signal):\n",
    "    xi = int(x * resolution_magnifier + screen_width * resolution_magnifier)\n",
    "    yi = int(y * resolution_magnifier + screen_height * resolution_magnifier)\n",
    "\n",
    "    try:\n",
    "      label = labels[i]\n",
    "      if label == 0:\n",
    "        img[yi - scatter_size:yi + scatter_size+1, xi - scatter_size:xi + scatter_size+1, 1] += 0.9\n",
    "      elif label == 1:\n",
    "        img[yi - scatter_size:yi + scatter_size+1, xi - scatter_size:xi + scatter_size+1, 0] += 0.9\n",
    "      else:\n",
    "        raise Exception(\"Label was not 0 or 1\")\n",
    "    except Exception as e:\n",
    "      print(e)\n",
    "\n",
    "  img = np.clip(img, 0, 1)\n",
    "  plt.imshow(img)\n",
    "\n",
    "  plt.title(title)\n",
    "  plt.show()"
   ]
  },
  {
   "cell_type": "code",
   "execution_count": 64,
   "metadata": {},
   "outputs": [],
   "source": [
    "def get_random_example_from_dataloader(dl):\n",
    "    x_batch, y_batch = next(iter(dl))\n",
    "    x, y = x_batch[0], y_batch[0]\n",
    "    return x, y"
   ]
  },
  {
   "cell_type": "code",
   "execution_count": 65,
   "metadata": {},
   "outputs": [
    {
     "ename": "NameError",
     "evalue": "name 'test_dl' is not defined",
     "output_type": "error",
     "traceback": [
      "\u001b[0;31m---------------------------------------------------------------------------\u001b[0m",
      "\u001b[0;31mNameError\u001b[0m                                 Traceback (most recent call last)",
      "Cell \u001b[0;32mIn[65], line 1\u001b[0m\n\u001b[0;32m----> 1\u001b[0m signal, labels \u001b[39m=\u001b[39m get_random_example_from_dataloader(test_dl)\n\u001b[1;32m      2\u001b[0m show_signal_on_screen_with_fixations(signal, labels,resolution_magnifier\u001b[39m=\u001b[39m\u001b[39m1\u001b[39m,scatter_size\u001b[39m=\u001b[39m\u001b[39m0\u001b[39m, off_screen_factor\u001b[39m=\u001b[39m\u001b[39m2\u001b[39m)\n",
      "\u001b[0;31mNameError\u001b[0m: name 'test_dl' is not defined"
     ]
    }
   ],
   "source": [
    "signal, labels = get_random_example_from_dataloader(test_dl)\n",
    "show_signal_on_screen_with_fixations(signal, labels,resolution_magnifier=1,scatter_size=0, off_screen_factor=2)"
   ]
  },
  {
   "cell_type": "markdown",
   "metadata": {},
   "source": [
    "## Model"
   ]
  },
  {
   "cell_type": "code",
   "execution_count": 4,
   "metadata": {},
   "outputs": [],
   "source": [
    "OBF_RELPATH = \"../../OBF\"\n",
    "sys.path.append(str(Path(OBF_RELPATH).resolve()))\n",
    "from eyemind import obf\n",
    "\n",
    "pre_trained_weights_dir = Path(OBF_RELPATH + \"/pre_weights/sample_weights/\")"
   ]
  },
  {
   "cell_type": "code",
   "execution_count": 5,
   "metadata": {},
   "outputs": [
    {
     "name": "stdout",
     "output_type": "stream",
     "text": [
      "Loading:  /Users/roso8920/Dropbox (Emotive Computing)/EML Rosy/OBF/pre_weights/sample_weights/encoder_1633040995_gru.pt\n"
     ]
    }
   ],
   "source": [
    "encoder = creator.load_encoder(str(pre_trained_weights_dir.resolve()))"
   ]
  },
  {
   "cell_type": "code",
   "execution_count": 6,
   "metadata": {},
   "outputs": [
    {
     "name": "stdout",
     "output_type": "stream",
     "text": [
      "Sequential(\n",
      "  (0): CNNEncoder(\n",
      "    (cnn): Sequential(\n",
      "      (0): ConvBlock(\n",
      "        (conv): Conv1d(2, 14, kernel_size=(7,), stride=(1,), padding=(3,))\n",
      "        (pool_layer): AvgPool1d(kernel_size=(2,), stride=(2,), padding=(0,))\n",
      "        (bn): BatchNorm1d(14, eps=1e-05, momentum=0.1, affine=True, track_running_stats=True)\n",
      "        (activation): LeakyReLU(negative_slope=0.01)\n",
      "      )\n",
      "      (1): ConvBlock(\n",
      "        (conv): Conv1d(16, 16, kernel_size=(7,), stride=(1,), padding=(3,))\n",
      "        (bn): BatchNorm1d(16, eps=1e-05, momentum=0.1, affine=True, track_running_stats=True)\n",
      "        (activation): LeakyReLU(negative_slope=0.01)\n",
      "      )\n",
      "    )\n",
      "  )\n",
      "  (1): RNNEncoder(\n",
      "    (rnn): GRU(32, 128, num_layers=2, batch_first=True, dropout=0.1)\n",
      "  )\n",
      ")\n"
     ]
    }
   ],
   "source": [
    "print(encoder)"
   ]
  },
  {
   "cell_type": "code",
   "execution_count": 7,
   "metadata": {},
   "outputs": [],
   "source": [
    "fi_decoder = torch.load(str(Path(pre_trained_weights_dir, \"fi_1633040995_gru.pt\").resolve()),map_location=torch.device('cpu'))\n"
   ]
  },
  {
   "cell_type": "code",
   "execution_count": 9,
   "metadata": {},
   "outputs": [],
   "source": [
    "class FixationIdentifier(torch.nn.Module):\n",
    "    def __init__(self, encoder, decoder):\n",
    "        super().__init__()\n",
    "        self.encoder = encoder\n",
    "        self.decoder = decoder\n",
    "    \n",
    "    def forward(self, x):\n",
    "        embeddings = self.encoder(x)\n",
    "        output = self.decoder(embeddings)\n",
    "        return output\n",
    "        "
   ]
  },
  {
   "cell_type": "code",
   "execution_count": 10,
   "metadata": {},
   "outputs": [],
   "source": [
    "fid_model = FixationIdentifier(encoder, fi_decoder)"
   ]
  },
  {
   "cell_type": "code",
   "execution_count": 11,
   "metadata": {},
   "outputs": [
    {
     "name": "stdout",
     "output_type": "stream",
     "text": [
      "FixationIdentifier(\n",
      "  (encoder): Sequential(\n",
      "    (0): CNNEncoder(\n",
      "      (cnn): Sequential(\n",
      "        (0): ConvBlock(\n",
      "          (conv): Conv1d(2, 14, kernel_size=(7,), stride=(1,), padding=(3,))\n",
      "          (pool_layer): AvgPool1d(kernel_size=(2,), stride=(2,), padding=(0,))\n",
      "          (bn): BatchNorm1d(14, eps=1e-05, momentum=0.1, affine=True, track_running_stats=True)\n",
      "          (activation): LeakyReLU(negative_slope=0.01)\n",
      "        )\n",
      "        (1): ConvBlock(\n",
      "          (conv): Conv1d(16, 16, kernel_size=(7,), stride=(1,), padding=(3,))\n",
      "          (bn): BatchNorm1d(16, eps=1e-05, momentum=0.1, affine=True, track_running_stats=True)\n",
      "          (activation): LeakyReLU(negative_slope=0.01)\n",
      "        )\n",
      "      )\n",
      "    )\n",
      "    (1): RNNEncoder(\n",
      "      (rnn): GRU(32, 128, num_layers=2, batch_first=True, dropout=0.1)\n",
      "    )\n",
      "  )\n",
      "  (decoder): RNNDecoder(\n",
      "    (rnn): GRU(128, 128, num_layers=2, batch_first=True, dropout=0.1)\n",
      "    (bn): BatchNorm1d(128, eps=1e-05, momentum=0.1, affine=True, track_running_stats=True)\n",
      "    (out_fc): Linear(in_features=128, out_features=2, bias=True)\n",
      "  )\n",
      ")\n"
     ]
    }
   ],
   "source": [
    "print(fid_model)"
   ]
  },
  {
   "cell_type": "code",
   "execution_count": 12,
   "metadata": {},
   "outputs": [
    {
     "ename": "NameError",
     "evalue": "name 'test_dl' is not defined",
     "output_type": "error",
     "traceback": [
      "\u001b[0;31m---------------------------------------------------------------------------\u001b[0m",
      "\u001b[0;31mNameError\u001b[0m                                 Traceback (most recent call last)",
      "Cell \u001b[0;32mIn[12], line 1\u001b[0m\n\u001b[0;32m----> 1\u001b[0m batch \u001b[39m=\u001b[39m \u001b[39mnext\u001b[39m(\u001b[39miter\u001b[39m(test_dl))\n",
      "\u001b[0;31mNameError\u001b[0m: name 'test_dl' is not defined"
     ]
    }
   ],
   "source": [
    "batch = next(iter(test_dl))"
   ]
  },
  {
   "cell_type": "code",
   "execution_count": 39,
   "metadata": {},
   "outputs": [],
   "source": [
    "x,y = batch"
   ]
  },
  {
   "cell_type": "code",
   "execution_count": 58,
   "metadata": {},
   "outputs": [],
   "source": [
    "logits = fid_model(x)"
   ]
  },
  {
   "cell_type": "code",
   "execution_count": 60,
   "metadata": {},
   "outputs": [
    {
     "data": {
      "text/plain": [
       "torch.Size([8, 500, 2])"
      ]
     },
     "execution_count": 60,
     "metadata": {},
     "output_type": "execute_result"
    }
   ],
   "source": [
    "logits.softmax(dim=2).shape"
   ]
  },
  {
   "cell_type": "code",
   "execution_count": 45,
   "metadata": {},
   "outputs": [],
   "source": [
    "preds = logits.argmax(dim=2).detach().cpu().numpy().reshape(-1)"
   ]
  },
  {
   "cell_type": "code",
   "execution_count": 61,
   "metadata": {},
   "outputs": [],
   "source": [
    "probs = logits.softmax(dim=2)[:,:,1].detach().cpu().numpy().reshape(-1)"
   ]
  },
  {
   "cell_type": "code",
   "execution_count": 64,
   "metadata": {},
   "outputs": [],
   "source": [
    "y = y.cpu().numpy().reshape(-1)"
   ]
  },
  {
   "cell_type": "code",
   "execution_count": 66,
   "metadata": {},
   "outputs": [],
   "source": [
    "auc = metrics.roc_auc_score(y, probs)"
   ]
  },
  {
   "cell_type": "code",
   "execution_count": 67,
   "metadata": {},
   "outputs": [
    {
     "data": {
      "text/plain": [
       "0.6506709492371336"
      ]
     },
     "execution_count": 67,
     "metadata": {},
     "output_type": "execute_result"
    }
   ],
   "source": [
    "auc"
   ]
  },
  {
   "cell_type": "code",
   "execution_count": 68,
   "metadata": {},
   "outputs": [],
   "source": [
    "acc = metrics.accuracy_score(y, preds)\n"
   ]
  },
  {
   "cell_type": "code",
   "execution_count": 69,
   "metadata": {},
   "outputs": [
    {
     "data": {
      "text/plain": [
       "0.73525"
      ]
     },
     "execution_count": 69,
     "metadata": {},
     "output_type": "execute_result"
    }
   ],
   "source": [
    "acc"
   ]
  },
  {
   "cell_type": "code",
   "execution_count": 93,
   "metadata": {},
   "outputs": [],
   "source": [
    "import sklearn.metrics as metrics\n",
    "import tqdm\n",
    "\n",
    "def evaluate(dl, model):\n",
    "    model.eval()\n",
    "    all_preds = []\n",
    "    all_labels = []\n",
    "    all_probs = []\n",
    "    for x, y in tqdm.tqdm(dl):\n",
    "        logits = model(x)\n",
    "        preds = logits.argmax(dim=2).detach().cpu().numpy().reshape(-1)\n",
    "        probs = logits.softmax(dim=2)[:,:,1].detach().cpu().numpy().reshape(-1)\n",
    "        y = y.cpu().numpy().reshape(-1)\n",
    "        all_preds += preds.tolist()\n",
    "        all_labels += y.tolist()\n",
    "        all_probs += probs.tolist()\n",
    "    all_labels = np.array(all_labels)\n",
    "    all_probs = np.array(all_probs)\n",
    "    all_preds = np.array(all_preds)\n",
    "    masked_indices = all_labels == -1\n",
    "    acc = metrics.accuracy_score(all_labels[~masked_indices], all_preds[~masked_indices])\n",
    "    auc = metrics.roc_auc_score(all_labels[~masked_indices], all_probs[~masked_indices])\n",
    "    return acc, auc\n",
    "\n",
    "\n",
    "\n"
   ]
  },
  {
   "cell_type": "code",
   "execution_count": 72,
   "metadata": {},
   "outputs": [
    {
     "name": "stderr",
     "output_type": "stream",
     "text": [
      "100%|██████████| 784/784 [08:00<00:00,  1.63it/s]\n"
     ]
    }
   ],
   "source": [
    "preds, labels, probs = evaluate(test_dl, fid_model)"
   ]
  },
  {
   "cell_type": "code",
   "execution_count": 91,
   "metadata": {},
   "outputs": [],
   "source": [
    "preds = np.array(preds)\n",
    "acc = metrics.accuracy_score(labels[~indices_masked], preds[~indices_masked])\n"
   ]
  },
  {
   "cell_type": "code",
   "execution_count": 92,
   "metadata": {},
   "outputs": [
    {
     "data": {
      "text/plain": [
       "0.7467187887901037"
      ]
     },
     "execution_count": 92,
     "metadata": {},
     "output_type": "execute_result"
    }
   ],
   "source": [
    "acc"
   ]
  },
  {
   "cell_type": "code",
   "execution_count": 81,
   "metadata": {},
   "outputs": [],
   "source": [
    "labels = np.array(labels)"
   ]
  },
  {
   "cell_type": "code",
   "execution_count": 86,
   "metadata": {},
   "outputs": [],
   "source": [
    "probs = np.array(probs)"
   ]
  },
  {
   "cell_type": "code",
   "execution_count": 88,
   "metadata": {},
   "outputs": [],
   "source": [
    "auc = metrics.roc_auc_score(labels[~indices_masked], probs[~indices_masked])"
   ]
  },
  {
   "cell_type": "code",
   "execution_count": 89,
   "metadata": {},
   "outputs": [
    {
     "data": {
      "text/plain": [
       "0.6525304778413941"
      ]
     },
     "execution_count": 89,
     "metadata": {},
     "output_type": "execute_result"
    }
   ],
   "source": [
    "auc"
   ]
  },
  {
   "cell_type": "code",
   "execution_count": null,
   "metadata": {},
   "outputs": [],
   "source": []
  },
  {
   "cell_type": "markdown",
   "metadata": {},
   "source": [
    "### Fixation Analysis"
   ]
  },
  {
   "cell_type": "code",
   "execution_count": 1,
   "metadata": {},
   "outputs": [
    {
     "name": "stderr",
     "output_type": "stream",
     "text": [
      "/Users/rickgentry/miniforge3/envs/eyemind/lib/python3.9/site-packages/tqdm/auto.py:22: TqdmWarning: IProgress not found. Please update jupyter and ipywidgets. See https://ipywidgets.readthedocs.io/en/stable/user_install.html\n",
      "  from .autonotebook import tqdm as notebook_tqdm\n"
     ]
    }
   ],
   "source": [
    "import yaml\n",
    "from pathlib import Path\n",
    "from eyemind.dataloading.gaze_data import BaseSequenceToSequenceDataModule\n",
    "from eyemind.dataloading.informer_data import InformerDataModule\n",
    "import torch\n",
    "\n",
    "def load_model_from_checkpoint(model_cls, checkpoint_path):\n",
    "    return model_cls.load_from_checkpoint(checkpoint_path)\n",
    "\n",
    "def get_dataloader(dataloader_cls, config_path, data_base_dir=\"./data\", label_filepath=\"processed/EML1_pageLevel_with_filename_seq.csv\", data_dir=\"processed/fixation\"):\n",
    "    with open(config_path, \"r\") as f:\n",
    "        config = yaml.safe_load(f)\n",
    "    config[\"data\"][\"data_dir\"] = str(Path(data_base_dir, data_dir).resolve())\n",
    "    config[\"data\"][\"label_filepath\"] = str(Path(data_base_dir, label_filepath).resolve())\n",
    "    dm = dataloader_cls(**config['data'])\n",
    "    dm.setup()\n",
    "    return dm.predict_dataloader()\n",
    "\n",
    "def get_prediction_targets(model, dl, samples=1):\n",
    "    model.eval()\n",
    "    batch = next(iter(dl))\n",
    "    logits = model.forward(batch[0])\n",
    "    print(logits.shape)\n",
    "    fixation_preds = model._get_preds(logits)\n",
    "    print(fixation_preds.shape)\n",
    "    fixation_targets = batch[1]\n",
    "    rows = torch.randint(high=len(fixation_preds),size=(samples,))\n",
    "    return fixation_preds[rows].squeeze(), fixation_targets[rows].squeeze()"
   ]
  },
  {
   "cell_type": "code",
   "execution_count": 50,
   "metadata": {},
   "outputs": [],
   "source": [
    "from eyemind.models.encoder_decoder import VariableSequenceLengthEncoderDecoderModel\n",
    "model = load_model_from_checkpoint(VariableSequenceLengthEncoderDecoderModel, \"./lightning_logs/fixation_seq500_200epochs/checkpoints/epoch=199-step=3400.ckpt\")"
   ]
  },
  {
   "cell_type": "code",
   "execution_count": 51,
   "metadata": {},
   "outputs": [],
   "source": [
    "dl = get_dataloader(BaseSequenceToSequenceDataModule,\"./lightning_logs/fixation_seq500_200epochs/config.yaml\")"
   ]
  },
  {
   "cell_type": "code",
   "execution_count": 52,
   "metadata": {},
   "outputs": [
    {
     "name": "stdout",
     "output_type": "stream",
     "text": [
      "torch.Size([64, 500, 2])\n",
      "torch.Size([64, 500])\n"
     ]
    }
   ],
   "source": [
    "preds, targets = get_prediction_targets(model, dl,samples=4)"
   ]
  },
  {
   "cell_type": "code",
   "execution_count": 2,
   "metadata": {},
   "outputs": [
    {
     "name": "stderr",
     "output_type": "stream",
     "text": [
      "/Users/rickgentry/miniforge3/envs/eyemind/lib/python3.9/site-packages/torchmetrics/utilities/prints.py:36: UserWarning: Metric `AUROC` will save all targets and predictions in buffer. For large datasets this may lead to large memory footprint.\n",
      "  warnings.warn(*args, **kwargs)\n"
     ]
    }
   ],
   "source": [
    "from eyemind.models.transformers import InformerEncoderFixationModel\n",
    "informer_model = load_model_from_checkpoint(InformerEncoderFixationModel, \"./lightning_logs/fixation_informer_seq500_epochs120/checkpoints/epoch=120-step=2057.ckpt\")"
   ]
  },
  {
   "cell_type": "code",
   "execution_count": 3,
   "metadata": {},
   "outputs": [],
   "source": [
    "informer_dl = get_dataloader(InformerDataModule ,\"./lightning_logs/fixation_informer_seq500_epochs120/config.yaml\")"
   ]
  },
  {
   "cell_type": "code",
   "execution_count": 4,
   "metadata": {},
   "outputs": [
    {
     "name": "stdout",
     "output_type": "stream",
     "text": [
      "torch.Size([64, 500, 2])\n",
      "torch.Size([64, 500])\n"
     ]
    }
   ],
   "source": [
    "informer_preds, informer_targets = get_prediction_targets(informer_model, informer_dl, 4)"
   ]
  },
  {
   "cell_type": "code",
   "execution_count": 6,
   "metadata": {},
   "outputs": [
    {
     "data": {
      "text/plain": [
       "(torch.Size([4, 500]), torch.Size([4, 500]))"
      ]
     },
     "execution_count": 6,
     "metadata": {},
     "output_type": "execute_result"
    }
   ],
   "source": [
    "informer_preds.shape,informer_targets.shape"
   ]
  },
  {
   "cell_type": "code",
   "execution_count": 7,
   "metadata": {},
   "outputs": [],
   "source": [
    "import matplotlib.pyplot as plt\n",
    "import numpy as np\n",
    "def plot_figures(preds, targets):\n",
    "    num_plots = len(preds)\n",
    "    rows = (num_plots // 5) + 1\n",
    "    cols = 5\n",
    "    plt.figure(0)\n",
    "    for i in range(rows):\n",
    "        for j in range(cols):\n",
    "            ax = plt.subplot2grid((rows,cols), (i,j))\n",
    "            ax.step(np.arange(len(preds[0])),targets[j * i].numpy(), preds[j * i].numpy())\n",
    "    plt.show()"
   ]
  },
  {
   "cell_type": "code",
   "execution_count": 8,
   "metadata": {},
   "outputs": [
    {
     "ename": "NameError",
     "evalue": "name 'preds' is not defined",
     "output_type": "error",
     "traceback": [
      "\u001b[0;31m---------------------------------------------------------------------------\u001b[0m",
      "\u001b[0;31mNameError\u001b[0m                                 Traceback (most recent call last)",
      "\u001b[1;32m./notebooks/fixation_id.ipynb Cell 88\u001b[0m in \u001b[0;36m<cell line: 1>\u001b[0;34m()\u001b[0m\n\u001b[0;32m----> <a href='vscode-notebook-cell:./notebooks/fixation_id.ipynb#Y151sZmlsZQ%3D%3D?line=0'>1</a>\u001b[0m plot_figures(preds, targets)\n",
      "\u001b[0;31mNameError\u001b[0m: name 'preds' is not defined"
     ]
    }
   ],
   "source": [
    "plot_figures(preds, targets)"
   ]
  },
  {
   "cell_type": "code",
   "execution_count": 42,
   "metadata": {},
   "outputs": [],
   "source": [
    "import matplotlib.patches as mpatches\n",
    "\n",
    "\n",
    "\n",
    "def fixation_image(pred,target, title=\"Fixation Identification\"):\n",
    "    sl = len(pred)\n",
    "    fixation_labels = torch.cat((pred.expand(sl//2,sl),target.expand(sl//2,sl)))\n",
    "    plt.imshow(fixation_labels, extent=[0, len(fixation_labels[1]),0, 100], cmap='Greys')\n",
    "    # plt.xticks(np.arange(0, len(fixation_labels), 1), [])\n",
    "    plt.yticks([])\n",
    "    # plt.grid(True, axis='x', lw=1, c='black')\n",
    "    # plt.tick_params(axis='x', length=0)\n",
    "    plt.title(title)\n",
    "    black = mpatches.Patch(color='black', label='Fixation')\n",
    "    white = mpatches.Patch(color='white', label='Saccade')\n",
    "    plt.legend(handles=[black, white],bbox_to_anchor=(1.15, 1), loc='upper right')\n",
    "    plt.xlabel(\"Time Steps (100 steps ~ 1.7s)\")\n",
    "    plt.show()"
   ]
  },
  {
   "cell_type": "code",
   "execution_count": 45,
   "metadata": {},
   "outputs": [
    {
     "data": {
      "image/png": "[encoded data removed]",
      "text/plain": [
       "<Figure size 432x288 with 1 Axes>"
      ]
     },
     "metadata": {
      "needs_background": "light"
     },
     "output_type": "display_data"
    }
   ],
   "source": [
    "fixation_image(informer_preds[1], informer_targets[1], \"Fixation Identification - Informer\")"
   ]
  },
  {
   "cell_type": "code",
   "execution_count": 53,
   "metadata": {},
   "outputs": [
    {
     "data": {
      "image/png": "[encoded data removed]",
      "text/plain": [
       "<Figure size 432x288 with 1 Axes>"
      ]
     },
     "metadata": {
      "needs_background": "light"
     },
     "output_type": "display_data"
    }
   ],
   "source": [
    "fixation_image(preds[1], targets[1], \"Fixation Identification - RNN Encoder-Decoder\")"
   ]
  },
  {
   "cell_type": "code",
   "execution_count": 29,
   "metadata": {},
   "outputs": [
    {
     "data": {
      "text/plain": [
       "torch.Size([100])"
      ]
     },
     "execution_count": 29,
     "metadata": {},
     "output_type": "execute_result"
    }
   ],
   "source": [
    "preds.shape"
   ]
  },
  {
   "cell_type": "code",
   "execution_count": 96,
   "metadata": {},
   "outputs": [],
   "source": [
    "# Create datamodule\n",
    "import yaml\n",
    "from eyemind.dataloading.gaze_data import BaseSequenceToSequenceDataModule\n",
    "config_path = \"./lightning_logs/version_11471837/config.yaml\"\n",
    "local_data_dir = \"./data/processed/fixation\"\n",
    "local_label_filepath = \"./data/processed/EML1_pageLevel_with_filename_seq.csv\"\n",
    "with open(config_path, \"r\") as f:\n",
    "    config = yaml.safe_load(f)\n",
    "config[\"data\"][\"data_dir\"] = local_data_dir\n",
    "config[\"data\"][\"label_filepath\"] = local_label_filepath\n",
    "dm = BaseSequenceToSequenceDataModule(**config['data'])\n"
   ]
  },
  {
   "cell_type": "code",
   "execution_count": 62,
   "metadata": {},
   "outputs": [],
   "source": [
    "dm.setup()\n"
   ]
  },
  {
   "cell_type": "code",
   "execution_count": 5,
   "metadata": {},
   "outputs": [],
   "source": [
    "predict_dl = dm.predict_dataloader()"
   ]
  },
  {
   "cell_type": "code",
   "execution_count": null,
   "metadata": {},
   "outputs": [],
   "source": [
    "get_prediction_targets()"
   ]
  },
  {
   "cell_type": "code",
   "execution_count": 5,
   "metadata": {},
   "outputs": [
    {
     "name": "stderr",
     "output_type": "stream",
     "text": [
      "/Users/rickgentry/miniforge3/envs/eyemind/lib/python3.9/site-packages/pytorch_lightning/trainer/connectors/callback_connector.py:96: LightningDeprecationWarning: Setting `Trainer(progress_bar_refresh_rate=20)` is deprecated in v1.5 and will be removed in v1.7. Please pass `pytorch_lightning.callbacks.progress.TQDMProgressBar` with `refresh_rate` directly to the Trainer's `callbacks` argument instead. Or, to disable the progress bar pass `enable_progress_bar = False` to the Trainer.\n",
      "  rank_zero_deprecation(\n",
      "GPU available: False, used: False\n",
      "TPU available: False, using: 0 TPU cores\n",
      "IPU available: False, using: 0 IPUs\n",
      "HPU available: False, using: 0 HPUs\n"
     ]
    }
   ],
   "source": [
    "from pytorch_lightning import Trainer\n",
    "config[\"trainer\"][\"accelerator\"] = \"cpu\"\n",
    "trainer = Trainer(**config[\"trainer\"])"
   ]
  },
  {
   "cell_type": "code",
   "execution_count": 6,
   "metadata": {},
   "outputs": [],
   "source": [
    "batch = next(iter(predict_dl))\n",
    "preds = model.predict_step(batch, 0)\n",
    "fixation_preds = preds[\"fi\"]\n",
    "fixation_targets = batch[1]\n"
   ]
  },
  {
   "cell_type": "code",
   "execution_count": 18,
   "metadata": {},
   "outputs": [],
   "source": [
    "import numpy as np\n",
    "row = np.random.randint(0, len(fixation_preds))"
   ]
  },
  {
   "cell_type": "code",
   "execution_count": 20,
   "metadata": {},
   "outputs": [],
   "source": [
    "pred, target = fixation_preds[row], fixation_targets[row]"
   ]
  },
  {
   "cell_type": "code",
   "execution_count": null,
   "metadata": {},
   "outputs": [],
   "source": [
    "def vizualize_fix_signal(inputs, fixations, lims=(-10,10), title=\"Fixation ID Signal\"):\n",
    "\n",
    "    n1 = inputs.shape[0]\n",
    "    max_val = inputs.max()\n",
    "\n",
    "    # The input sequence\n",
    "    plt.plot(list(range(n1)),\n",
    "            inputs[:, 0],\n",
    "            label=\"x\",\n",
    "            color=\"orange\",\n",
    "            alpha=0.8)\n",
    "    plt.plot(list(range(n1)),\n",
    "            inputs[:, 1],\n",
    "            label=\"y\",\n",
    "            color=\"blue\",\n",
    "            alpha=0.8)\n",
    "\n",
    "    # The Ground truth sequence\n",
    "    saccade_gt_time = np.where(fixations == 0)[0]\n",
    "    plt.scatter(saccade_gt_time,\n",
    "                saccade_gt_time * 0,\n",
    "                label=\"GT Sac\",\n",
    "                color=\"green\",\n",
    "                alpha=0.2)\n",
    "    fix_gt_time = np.where(fixations == 1)[0]\n",
    "    plt.scatter(fix_gt_time,\n",
    "                np.ones((len(fix_gt_time),)) * max_val,\n",
    "                label=\"GT Fix\",\n",
    "                color=\"red\",\n",
    "                alpha=0.2)\n",
    "    plt.ylim(*lims)\n",
    "    plt.title(title)\n",
    "    plt.legend()\n",
    "    plt.show()\n",
    "                "
   ]
  },
  {
   "cell_type": "code",
   "execution_count": 24,
   "metadata": {},
   "outputs": [
    {
     "data": {
      "text/plain": [
       "[<matplotlib.lines.Line2D at 0x1738c19d0>]"
      ]
     },
     "execution_count": 24,
     "metadata": {},
     "output_type": "execute_result"
    },
    {
     "data": {
      "image/png": "[encoded data removed]",
      "text/plain": [
       "<Figure size 432x288 with 1 Axes>"
      ]
     },
     "metadata": {
      "needs_background": "light"
     },
     "output_type": "display_data"
    }
   ],
   "source": [
    "import matplotlib.pyplot as plt\n",
    "target.numpy()\n",
    "plt.step(np.arange(len(target)),target.numpy())    \n"
   ]
  },
  {
   "cell_type": "code",
   "execution_count": 54,
   "metadata": {},
   "outputs": [],
   "source": [
    "def avg_fixation_len(fixations):\n",
    "    i = 0\n",
    "    fix_lens = []\n",
    "    while i < len(fixations):\n",
    "        if fixations[i]:\n",
    "            j = i\n",
    "            while j < len(fixations) and fixations[j]:\n",
    "                j+=1\n",
    "            fix_lens.append(j - i)\n",
    "            i = j\n",
    "        else: \n",
    "            i+= 1\n",
    "    if len(fix_lens) == 0:\n",
    "        return 500, 0\n",
    "    return sum(fix_lens) / len(fix_lens), len(fix_lens)\n",
    "\n",
    "def avg_saccade_len(fixations):\n",
    "    i = 0\n",
    "    saccade_lens = []\n",
    "    while i < len(fixations):\n",
    "        if fixations[i] == 0:\n",
    "            j = i\n",
    "            while j < len(fixations) and fixations[j] == 0:\n",
    "                j+=1\n",
    "            saccade_lens.append(j - i)\n",
    "            i = j\n",
    "        else: \n",
    "            i+= 1\n",
    "    return sum(saccade_lens) / len(saccade_lens), len(saccade_lens)"
   ]
  },
  {
   "cell_type": "code",
   "execution_count": 41,
   "metadata": {},
   "outputs": [
    {
     "name": "stdout",
     "output_type": "stream",
     "text": [
      "[37.035714285714285, 30.161290322580644, 34.56666666666666, 57.31428571428572, 44.5, 62.33333333333333, 30.161290322580644, 136.0, 42.5, 68.48571428571428, 39.3125, 36.74193548387097, 35.94285714285714, 56.51351351351351, 91.47619047619048, 30.174999999999997, 38.371428571428574, 68.53125, 43.714285714285715, 35.36, 55.935483870967744, 29.363636363636363, 62.33333333333333, 32.62162162162162, 55.935483870967744, 221.0, 38.13513513513514, 39.5, 27.685714285714287, 34.54838709677419, 32.62162162162162, 36.91428571428571, 26.633333333333333, 33.56410256410257, 33.028571428571425, 43.27272727272727, 49.82758620689655, 39.84375, 28.609756097560975, 38.146341463414636, 65.65517241379311, 240.0, 30.161290322580644, 36.17948717948718, 56.230769230769226, 63.628571428571426, 43.714285714285715, 70.61538461538463, 72.25, 349.5625, 51.0, 45.769230769230774, 30.5, 44.766666666666666, 41.93333333333334, 51.58620689655172, 34.91891891891892, 42.282051282051285, 46.21875, 99.38461538461537, 102.65384615384615, 65.16666666666667, 29.87878787878788, 55.63636363636364]\n"
     ]
    }
   ],
   "source": [
    "saccade_lens = []\n",
    "for s in fixation_targets:\n",
    "    saccade_lens.append(avg_saccade_len(s)*17)\n",
    "print(saccade_lens)"
   ]
  },
  {
   "cell_type": "code",
   "execution_count": 56,
   "metadata": {},
   "outputs": [
    {
     "name": "stdout",
     "output_type": "stream",
     "text": [
      "[1, 1, 1, 6, 1, 1, 1, 0, 1, 0, 1, 1, 1, 2, 1, 1, 1, 1, 1, 1, 1, 1, 6, 1, 6, 1, 1, 1, 1, 1, 1, 1, 1, 1, 1, 1, 1, 1, 1, 1, 1, 1, 1, 1, 4, 1, 1, 1, 10, 1, 1, 5, 1, 1, 1, 6, 1, 1, 1, 0, 3, 28, 1, 2]\n"
     ]
    }
   ],
   "source": [
    "avg_fixations = []\n",
    "for s in fixation_preds:\n",
    "    avg_fixations.append(avg_fixation_len(s)[1])\n",
    "print(avg_fixations)"
   ]
  },
  {
   "cell_type": "code",
   "execution_count": 55,
   "metadata": {},
   "outputs": [
    {
     "name": "stdout",
     "output_type": "stream",
     "text": [
      "[28, 32, 31, 34, 34, 28, 32, 22, 34, 35, 33, 31, 36, 38, 22, 40, 35, 33, 29, 26, 32, 23, 27, 37, 32, 19, 38, 34, 36, 32, 38, 36, 30, 40, 36, 33, 30, 31, 41, 42, 30, 17, 32, 39, 39, 34, 29, 26, 29, 15, 30, 40, 34, 31, 31, 29, 38, 40, 33, 27, 27, 37, 33, 34]\n"
     ]
    }
   ],
   "source": [
    "num_fix = []\n",
    "for s in fixation_targets:\n",
    "    num_fix.append(avg_fixation_len(s)[1])\n",
    "print(num_fix)"
   ]
  },
  {
   "cell_type": "code",
   "execution_count": 46,
   "metadata": {},
   "outputs": [
    {
     "data": {
      "text/plain": [
       "500.0"
      ]
     },
     "execution_count": 46,
     "metadata": {},
     "output_type": "execute_result"
    }
   ],
   "source": [
    "avg_fixation_len(pred)"
   ]
  },
  {
   "cell_type": "code",
   "execution_count": null,
   "metadata": {},
   "outputs": [],
   "source": []
  },
  {
   "cell_type": "code",
   "execution_count": 42,
   "metadata": {},
   "outputs": [
    {
     "data": {
      "image/png": "[encoded data removed]",
      "text/plain": [
       "<Figure size 432x288 with 1 Axes>"
      ]
     },
     "metadata": {
      "needs_background": "light"
     },
     "output_type": "display_data"
    }
   ],
   "source": [
    "#target = target.numpy()\n",
    "plt.imshow(target.reshape(1, -1), extent=[0, len(target), 0, 1], cmap='Greys')\n",
    "plt.xticks(np.arange(0, len(target), 1), [])\n",
    "plt.yticks([])\n",
    "plt.grid(True, axis='x', lw=1, c='black')\n",
    "plt.tick_params(axis='x', length=0)\n",
    "\n",
    "plt.show()\n"
   ]
  },
  {
   "cell_type": "markdown",
   "metadata": {},
   "source": []
  },
  {
   "cell_type": "markdown",
   "metadata": {},
   "source": []
  }
 ],
 "metadata": {
  "kernelspec": {
   "display_name": "Python 3.9.12 ('eyemind')",
   "language": "python",
   "name": "python3"
  },
  "language_info": {
   "codemirror_mode": {
    "name": "ipython",
    "version": 3
   },
   "file_extension": ".py",
   "mimetype": "text/x-python",
   "name": "python",
   "nbconvert_exporter": "python",
   "pygments_lexer": "ipython3",
   "version": "3.10.9"
  },
  "orig_nbformat": 4,
  "vscode": {
   "interpreter": {
    "hash": "27febf39bfd259f69c2e36f15f94770a6426a2d8848f91fec23f21f64f7a227c"
   }
  }
 },
 "nbformat": 4,
 "nbformat_minor": 2
}
