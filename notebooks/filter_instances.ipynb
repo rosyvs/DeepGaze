{
 "cells": [
  {
   "cell_type": "code",
   "execution_count": null,
   "metadata": {},
   "outputs": [],
   "source": [
    "import pandas as pd\n",
    "import csv\n",
    "import os\n",
    "from eyemind.dataloading.load_dataset import load_file_folds\n"
   ]
  },
  {
   "cell_type": "code",
   "execution_count": null,
   "metadata": {},
   "outputs": [],
   "source": [
    "# RF data\n",
    "RFdf = \"/Users/roso8920/Dropbox (Emotive Computing)/EyeMindLink/Publications/EDM2022_accepted/edm_final_models/EDM_merged_gaze_features_stim.csv\"\n",
    "# DG data\n",
    "\n",
    "# filter for sequence length\n",
    "\n",
    "# get union\n",
    "\n",
    "# output files in each format"
   ]
  }
 ],
 "metadata": {
  "language_info": {
   "name": "python"
  },
  "orig_nbformat": 4
 },
 "nbformat": 4,
 "nbformat_minor": 2
}
