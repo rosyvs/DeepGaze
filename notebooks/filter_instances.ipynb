{
 "cells": [
  {
   "cell_type": "code",
   "execution_count": null,
   "metadata": {},
   "outputs": [],
   "source": [
    "import pandas as pd\n",
    "import csv\n",
    "import os\n",
    "from eyemind.dataloading.load_dataset import load_file_folds\n"
   ]
  },
  {
   "cell_type": "code",
   "execution_count": 30,
   "metadata": {},
   "outputs": [],
   "source": [
    "MIN_SEQ_LEN = 500 # samples\n",
    "\n",
    "# RF data\n",
    "RFdf = pd.read_csv(\"/Users/roso8920/Dropbox (Emotive Computing)/EyeMindLink/Publications/EDM2022_accepted/edm_final_models/EDM_merged_gaze_features_stim.csv\").drop([\"Unnamed: 0\",\"Unnamed: 0.1\"], axis=1).drop_duplicates()\n",
    "# DG data\n",
    "DGdf = pd.read_csv(\"/Users/roso8920/Dropbox (Emotive Computing)/EML Rosy/DeepGaze/data/processed/EML1_pageLevel_with_filename_seq.csv\").drop(\"Unnamed: 0\", axis=1).drop_duplicates()\n",
    "# filter for sequence length\n",
    "DGdf = DGdf[DGdf['sequence_length']>=MIN_SEQ_LEN]\n",
    "# get overlap\n",
    "intersection_df = DGdf.merge(RFdf, on=['ParticipantID', 'Text','PageNum'], how='inner')\n",
    "intersection_ix = intersection_df[['ParticipantID', 'Text','PageNum']]\n",
    "# output files in each format\n",
    "RFfilt = RFdf.merge(intersection_ix, how='right').drop_duplicates()\n",
    "DGfilt = DGdf.merge(intersection_ix, how='right').drop_duplicates()\n",
    "\n"
   ]
  },
  {
   "cell_type": "code",
   "execution_count": 32,
   "metadata": {},
   "outputs": [],
   "source": [
    "assert(len(DGfilt) == len(RFfilt))\n"
   ]
  },
  {
   "cell_type": "code",
   "execution_count": 37,
   "metadata": {},
   "outputs": [
    {
     "name": "stdout",
     "output_type": "stream",
     "text": [
      "Rote_X: DG:1206 , RF:1206\n",
      "Rote_Y: DG:1222 , RF:1222\n",
      "Rote_Z: DG:1260 , RF:1260\n",
      "Inference_X: DG:1206 , RF:1206\n",
      "Inference_Y: DG:1222 , RF:1222\n",
      "Inference_Z: DG:1260 , RF:1260\n",
      "Deep_X: DG:1206 , RF:1206\n",
      "Deep_Z: DG:1260 , RF:1260\n",
      "MW: DG:1206 , RF:1206\n"
     ]
    }
   ],
   "source": [
    "# count instances with each label\n",
    "labels = ['Rote_X', 'Rote_Y', \"Rote_Z\",\n",
    "          'Inference_X', \"Inference_Y\",\"Inference_Z\",\n",
    "          \"Deep_X\", \"Deep_Z\",\n",
    "          \"MW\"]\n",
    "for l in labels:\n",
    "    print(f'{l}: DG:{DGfilt[l].notna().sum()} , RF:{RFfilt[l].notna().sum()}')"
   ]
  },
  {
   "cell_type": "code",
   "execution_count": 34,
   "metadata": {},
   "outputs": [],
   "source": [
    "DGfilt.to_csv('../data/processed/EML1_pageLevel_500+_matchEDMinstances.csv',index=False)\n",
    "RFfilt.to_csv('../data/processed/EML1_pageLevel_500+_matchDeepGazeInstances.csv',index=False)"
   ]
  }
 ],
 "metadata": {
  "kernelspec": {
   "display_name": "dg",
   "language": "python",
   "name": "python3"
  },
  "language_info": {
   "codemirror_mode": {
    "name": "ipython",
    "version": 3
   },
   "file_extension": ".py",
   "mimetype": "text/x-python",
   "name": "python",
   "nbconvert_exporter": "python",
   "pygments_lexer": "ipython3",
   "version": "3.10.9"
  },
  "orig_nbformat": 4
 },
 "nbformat": 4,
 "nbformat_minor": 2
}
