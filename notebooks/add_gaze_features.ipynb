{
 "cells": [
  {
   "cell_type": "markdown",
   "metadata": {},
   "source": [
    "# Add additional features for new reading-focussed pretraining tasks\n",
    "## Reading rate\n",
    "predict reading rate at page-level? \n",
    "- easiest to do prior to data loading, we have this info at the page level already\n",
    "- but is this different from the fixation count generated from the present fixation code?\n",
    "Or at sequence-level?\n",
    "- do after data loading: use fixation/non-fixation labels to detect discrete fixations, then count, then divide by sequence duration\n",
    "\n",
    "## Regression\n",
    "- generate fixation events from fix/nonfix sample-level labels\n",
    "- identify regression fixations\n",
    "- classifier:\n",
    "  - binary (regression fixation vs all other sample types?)\n",
    "  - 3-class: fixation:non-regression, fixation:regression, saccade\n",
    "  - 3-class: **regression_fixation, other_fixation, other (incl sacc, blink, uncategorized/missing)**\n",
    "\n",
    "- Replaces FI pretraining task? "
   ]
  },
  {
   "cell_type": "code",
   "execution_count": null,
   "metadata": {},
   "outputs": [],
   "source": [
    "from pathlib import Path\n",
    "import pandas as pd\n",
    "import eyemind\n",
    "import os\n",
    "repodir = os.path.dirname(os.path.dirname(eyemind.__file__))\n",
    "%reload_ext autoreload\n",
    "%autoreload 2\n",
    "pd.options.mode.chained_assignment = None  # default='warn'\n",
    "\n"
   ]
  },
  {
   "cell_type": "markdown",
   "metadata": {},
   "source": [
    "# Load data as per preprocessing \n"
   ]
  },
  {
   "cell_type": "code",
   "execution_count": null,
   "metadata": {},
   "outputs": [],
   "source": [
    "data_path =  os.path.join(repodir,'data/processed/EML1_pageLevel_500+_matchEDMinstances.csv')\n",
    "gaze_path = os.path.join(repodir,'data/EML/gaze')\n",
    "instances = pd.read_csv(data_path)"
   ]
  },
  {
   "cell_type": "markdown",
   "metadata": {},
   "source": [
    "Read EML fixations and regressions DF and add a regression column  \n",
    "Compare the two, are regressions a strict subset of fixations?  \n",
    "Or do they apear to have been calculated independently?   "
   ]
  },
  {
   "cell_type": "code",
   "execution_count": null,
   "metadata": {},
   "outputs": [],
   "source": [
    "regressions_path = Path(\"../data/regressions_info/regressions_reading_pages.csv\")\n",
    "reg_df = pd.read_csv(regressions_path)\n"
   ]
  },
  {
   "cell_type": "code",
   "execution_count": null,
   "metadata": {},
   "outputs": [],
   "source": [
    "reg_df.columns\n",
    "\n",
    "reg_df['filename'] = reg_df['ParticipantID']+ '-' + reg_df['identifier']\n",
    "reg_df['filename'].head(10)\n",
    "\n"
   ]
  },
  {
   "cell_type": "code",
   "execution_count": null,
   "metadata": {},
   "outputs": [],
   "source": [
    "# functions for labelling at sample-evel based on fixations.py but more general\n",
    "def label_gaze_timeseries(gaze_df, label_df, label_name='fixation_label',onset_col='tStart',offset_col='tEnd',time_col='tSample'):\n",
    "    label_df = label_df[[onset_col, offset_col, label_name]]\n",
    "\n",
    "    label_df[time_col] = label_df.apply(lambda row: list(range(int(row[onset_col]), int(row[offset_col]))), axis=1)\n",
    "    label_df[label_name] = label_df.apply(lambda row: [row[label_name]]*(int(row[offset_col])-int(row[onset_col])), axis=1)\n",
    "\n",
    "    sample_label_df = label_df.explode([time_col, label_name])\n",
    "    sample_label_df = sample_label_df.drop([onset_col, offset_col], axis=1).reset_index(drop=True)\n",
    "    res_df = gaze_df.merge(sample_label_df , how='left', on=time_col)\n",
    "    return res_df\n"
   ]
  },
  {
   "cell_type": "code",
   "execution_count": null,
   "metadata": {},
   "outputs": [],
   "source": [
    "# FIXATION LABEL (uses regression df)\n",
    "labelled_folder = os.path.join(repodir,\"data/EML/gaze+fix\")\n",
    "os.makedirs(labelled_folder, exist_ok=True)\n",
    "# apply_label_df(regressions_path, gaze_path, labelled_folder, label_name='fixation_label', onset_col='CURRENT_FIX_START',offset_col='CURRENT_FIX_END', time_col='t' )\n",
    "label_name='fixation_label'\n",
    "onset_col='CURRENT_FIX_START'\n",
    "offset_col='CURRENT_FIX_END'\n",
    "time_col='t' \n",
    "label_file=regressions_path\n",
    "label_df = pd.read_csv(label_file)\n",
    "label_df[\"filename\"] = label_df.apply(lambda row: f\"{row['ParticipantID']}-{row['identifier']}.csv\",axis=1)\n",
    "label_df[label_name]=1\n",
    "grouped = label_df.groupby(\"filename\")\n",
    "fix_stats=[]\n",
    "for filename, df_group in grouped:\n",
    "    try:\n",
    "        gaze_df = pd.read_csv(os.path.join(gaze_path,filename))\n",
    "    except Exception as e:\n",
    "        # print(f\"Couldn't read file: {os.path.join(gaze_path,filename)} because of {e}\")\n",
    "        continue\n",
    "    labeled_df = label_gaze_timeseries( gaze_df, df_group,label_name,onset_col, offset_col,time_col)\n",
    "    if labeled_df is not None:\n",
    "        labeled_df[label_name] = labeled_df[label_name].fillna(0) # saccade if not fixation\n",
    "        labeled_df.to_csv(Path(labelled_folder, filename),index=False)\n",
    "        fix_stats.append(labeled_df[label_name].value_counts().sort_index().rename(filename.replace('.csv','')))\n",
    "\n",
    "\n",
    "fix_stats=pd.DataFrame(fix_stats)\n",
    "fix_stats.to_csv(Path(labelled_folder + '_counts.csv'))\n",
    "\n",
    "classes=list(fix_stats.columns)\n",
    "fix_stats['n']=fix_stats.sum(axis=1)\n",
    "print('fixation class %:')\n",
    "print('macroaverage:')\n",
    "print(100*fix_stats[classes].sum()/fix_stats['n'].sum())\n",
    "print('microaverage:')\n",
    "print(100*(fix_stats[classes]/fix_stats['n']).mean())"
   ]
  },
  {
   "cell_type": "code",
   "execution_count": null,
   "metadata": {},
   "outputs": [],
   "source": [
    "# 3-class label (regression, other fixation, not a fixation)\n",
    "labelled_folder = os.path.join(repodir,\"data/EML/gaze+fix+reg\")\n",
    "os.makedirs(labelled_folder, exist_ok=True)\n",
    "label_name='regression_label'\n",
    "onset_col='CURRENT_FIX_START'\n",
    "offset_col='CURRENT_FIX_END'\n",
    "time_col='t' \n",
    "\n",
    "label_file=regressions_path\n",
    "\n",
    "label_df = pd.read_csv(label_file)\n",
    "label_df[\"filename\"] = label_df.apply(lambda row: f\"{row['ParticipantID']}-{row['identifier']}.csv\",axis=1)\n",
    "label_df[label_name]=label_df['LOCAL_REGRESSION']# 1 if regression, 0 if on-text, NaN if fixation not in IA\n",
    "label_df[label_name]=label_df[label_name].fillna(0) # all non-regression fixations now have label 0\n",
    "grouped = label_df.groupby(\"filename\")\n",
    "reg_stats=[]\n",
    "for filename, df_group in grouped:\n",
    "    try:\n",
    "        gaze_df = pd.read_csv(os.path.join(gaze_path,filename))\n",
    "    except Exception as e:\n",
    "        # print(f\"Couldn't read file: {os.path.join(gaze_path,filename)} because of {e}\")\n",
    "        continue\n",
    "    labeled_df = label_gaze_timeseries( gaze_df, df_group, label_name,onset_col, offset_col,time_col)\n",
    "    if labeled_df is not None:\n",
    "        labeled_df[label_name] = labeled_df[label_name].fillna(2) # third category is non-fixations\n",
    "        # labeled_df[label_name] = labeled_df[label_name].replace({0:'fix_other',1:'fix_reg',2:'not_fix'})\n",
    "        labeled_df.to_csv(Path(labelled_folder, filename),index=False)\n",
    "        reg_stats.append(labeled_df[label_name].value_counts().sort_index().rename(filename.replace('.csv','')))\n",
    "\n",
    "print('regression class %')\n",
    "reg_stats=pd.DataFrame(reg_stats)\n",
    "reg_stats.to_csv(Path(labelled_folder + '_counts.csv'))\n",
    "\n",
    "classes=list(reg_stats.columns)\n",
    "reg_stats['n']=reg_stats.sum(axis=1)\n",
    "print('regerssion class %:')\n",
    "print('macroaverage:')\n",
    "print(100*reg_stats[classes].sum()/reg_stats['n'].sum())\n",
    "print('microaverage:')\n",
    "print(100*(reg_stats[classes]/reg_stats['n']).mean())\n"
   ]
  },
  {
   "cell_type": "markdown",
   "metadata": {},
   "source": []
  },
  {
   "cell_type": "code",
   "execution_count": null,
   "metadata": {},
   "outputs": [],
   "source": []
  }
 ],
 "metadata": {
  "kernelspec": {
   "display_name": "dg",
   "language": "python",
   "name": "python3"
  },
  "language_info": {
   "codemirror_mode": {
    "name": "ipython",
    "version": 3
   },
   "file_extension": ".py",
   "mimetype": "text/x-python",
   "name": "python",
   "nbconvert_exporter": "python",
   "pygments_lexer": "ipython3",
   "version": "3.10.9"
  },
  "orig_nbformat": 4
 },
 "nbformat": 4,
 "nbformat_minor": 2
}
