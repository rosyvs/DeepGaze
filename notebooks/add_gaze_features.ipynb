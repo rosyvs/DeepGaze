{
 "cells": [
  {
   "cell_type": "markdown",
   "metadata": {},
   "source": [
    "# Add additional features for new reading-focussed pretraining tasks\n",
    "## Reading rate\n",
    "predict reading rate at page-level? \n",
    "- easiest to do prior to data loading, we have this info at the page level already\n",
    "- but is this different from the fixation count generated from the present fixation code?\n",
    "Or at sequence-level?\n",
    "- do after data loading: use fixation/non-fixation labels to detect discrete fixations, then count, then divide by sequence duration\n",
    "\n",
    "## Regression\n",
    "- generate fixation events from fix/nonfix sample-level labels\n",
    "- identify regression fixations\n",
    "- classifier:\n",
    "  - binary (regression fixation vs all other sample types?)\n",
    "  - 3-class: fixation:non-regression, fixation:regression, saccade\n",
    "- Replaces FI pretraining task? "
   ]
  },
  {
   "cell_type": "markdown",
   "metadata": {},
   "source": [
    "# Load data as per preprocessing \n"
   ]
  },
  {
   "cell_type": "code",
   "execution_count": 1,
   "metadata": {},
   "outputs": [],
   "source": [
    "import pandas as pd\n",
    "data_path = '../data/processed/EML1_pageLevel_500+_matchEDMinstances.csv'\n",
    "gaze_path = '../data/processed/fixation'\n",
    "instances = pd.read_csv(data_path)"
   ]
  }
 ],
 "metadata": {
  "kernelspec": {
   "display_name": "dg",
   "language": "python",
   "name": "python3"
  },
  "language_info": {
   "codemirror_mode": {
    "name": "ipython",
    "version": 3
   },
   "file_extension": ".py",
   "mimetype": "text/x-python",
   "name": "python",
   "nbconvert_exporter": "python",
   "pygments_lexer": "ipython3",
   "version": "3.1.0"
  },
  "orig_nbformat": 4
 },
 "nbformat": 4,
 "nbformat_minor": 2
}
