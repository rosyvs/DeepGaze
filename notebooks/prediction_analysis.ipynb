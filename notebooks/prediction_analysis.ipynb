{
 "cells": [
  {
   "cell_type": "code",
   "execution_count": 15,
   "metadata": {},
   "outputs": [],
   "source": [
    "import pandas as pd\n",
    "import yaml\n",
    "import torch\n",
    "from pytorch_lightning import Trainer, seed_everything\n",
    "from eyemind.trainer.loops import KFoldLoop\n",
    "from eyemind.models.classifier import EncoderClassifierMultiSequenceModel, EncoderClassifierModel\n",
    "from eyemind.models.encoder_decoder import VariableSequenceLengthEncoderDecoderModel\n",
    "from eyemind.dataloading.gaze_data import SequenceToLabelDataModule, SequenceToSequenceDataModule"
   ]
  },
  {
   "cell_type": "code",
   "execution_count": 2,
   "metadata": {},
   "outputs": [],
   "source": [
    "config_path = \"/Users/rickgentry/emotive_lab/eyemind/experiment_configs/local/comprehension_nestedcv_test_config.yml\"\n",
    "with open(config_path, \"r\") as f:\n",
    "    config = yaml.safe_load(f)"
   ]
  },
  {
   "cell_type": "code",
   "execution_count": 3,
   "metadata": {},
   "outputs": [
    {
     "name": "stderr",
     "output_type": "stream",
     "text": [
      "Global seed set to 42\n"
     ]
    },
    {
     "data": {
      "text/plain": [
       "42"
      ]
     },
     "execution_count": 3,
     "metadata": {},
     "output_type": "execute_result"
    }
   ],
   "source": [
    "seed_everything(config[\"seed_everything\"], workers=True)"
   ]
  },
  {
   "cell_type": "markdown",
   "metadata": {},
   "source": [
    "## Load Model checkpoint"
   ]
  },
  {
   "cell_type": "code",
   "execution_count": 4,
   "metadata": {},
   "outputs": [
    {
     "name": "stdout",
     "output_type": "stream",
     "text": [
      "CNN Layers: [16, 32]\n",
      "16 2\n",
      "32 16\n"
     ]
    },
    {
     "name": "stderr",
     "output_type": "stream",
     "text": [
      "/Users/rickgentry/miniforge3/envs/eyemind/lib/python3.9/site-packages/torchmetrics/utilities/prints.py:36: UserWarning: Metric `AUROC` will save all targets and predictions in buffer. For large datasets this may lead to large memory footprint.\n",
      "  warnings.warn(*args, **kwargs)\n"
     ]
    }
   ],
   "source": [
    "ckpt_path = \"/Users/rickgentry/emotive_lab/eyemind/ray_results/comprehension-tune-sub/fold3_freeze_encoder=False/checkpoints/epoch=19-step=460.ckpt\"    \n",
    "model = EncoderClassifierModel.load_from_checkpoint(ckpt_path,encoder_weights_path=None)"
   ]
  },
  {
   "cell_type": "markdown",
   "metadata": {},
   "source": [
    "## Setup Data and Trainer"
   ]
  },
  {
   "cell_type": "code",
   "execution_count": 5,
   "metadata": {},
   "outputs": [],
   "source": [
    "datamodule = SequenceToLabelDataModule(**config[\"data\"])\n",
    "datamodule.setup()"
   ]
  },
  {
   "cell_type": "code",
   "execution_count": 6,
   "metadata": {},
   "outputs": [],
   "source": [
    "datamodule.setup_cv_folds(4,4)"
   ]
  },
  {
   "cell_type": "code",
   "execution_count": 7,
   "metadata": {},
   "outputs": [],
   "source": [
    "datamodule.setup_cv_fold_index(3,-1)"
   ]
  },
  {
   "cell_type": "code",
   "execution_count": 8,
   "metadata": {},
   "outputs": [
    {
     "name": "stderr",
     "output_type": "stream",
     "text": [
      "GPU available: False, used: False\n",
      "TPU available: False, using: 0 TPU cores\n",
      "IPU available: False, using: 0 IPUs\n",
      "HPU available: False, using: 0 HPUs\n"
     ]
    }
   ],
   "source": [
    "trainer = Trainer(**config[\"trainer\"])"
   ]
  },
  {
   "cell_type": "markdown",
   "metadata": {},
   "source": [
    "## Predictions"
   ]
  },
  {
   "cell_type": "code",
   "execution_count": 9,
   "metadata": {},
   "outputs": [],
   "source": [
    "train_dl = datamodule.get_dataloader(datamodule.train_fold)\n",
    "val_dl = datamodule.get_dataloader(datamodule.val_fold)\n",
    "test_dl = datamodule.test_dataloader()"
   ]
  },
  {
   "cell_type": "code",
   "execution_count": 12,
   "metadata": {},
   "outputs": [
    {
     "name": "stderr",
     "output_type": "stream",
     "text": [
      "/Users/rickgentry/miniforge3/envs/eyemind/lib/python3.9/site-packages/pytorch_lightning/trainer/connectors/data_connector.py:240: PossibleUserWarning: The dataloader, predict_dataloader 0, does not have many workers which may be a bottleneck. Consider increasing the value of the `num_workers` argument` (try 10 which is the number of cpus on this machine) in the `DataLoader` init to improve performance.\n",
      "  rank_zero_warn(\n"
     ]
    },
    {
     "name": "stdout",
     "output_type": "stream",
     "text": [
      "Predicting DataLoader 0: 100%|██████████| 48/48 [00:13<00:00,  3.68it/s]\n",
      "Predicting DataLoader 0: 100%|██████████| 17/17 [00:11<00:00,  1.48it/s]\n",
      "Predicting DataLoader 0: 100%|██████████| 12/12 [00:11<00:00,  1.06it/s]\n"
     ]
    }
   ],
   "source": [
    "train_preds = trainer.predict(model, train_dl)\n",
    "val_preds = trainer.predict(model, val_dl)\n",
    "test_preds = trainer.predict(model, test_dl)"
   ]
  },
  {
   "cell_type": "code",
   "execution_count": 16,
   "metadata": {},
   "outputs": [],
   "source": [
    "def get_fraction_of_comprehension(preds):\n",
    "    return torch.cat(preds).mean()"
   ]
  },
  {
   "cell_type": "code",
   "execution_count": 19,
   "metadata": {},
   "outputs": [
    {
     "name": "stdout",
     "output_type": "stream",
     "text": [
      "train:0.6068152189254761, val: 0.580152690410614, test: 0.591160237789154\n"
     ]
    }
   ],
   "source": [
    "print(f\"train:{get_fraction_of_comprehension(train_preds)}, val: {get_fraction_of_comprehension(val_preds)}, test: {get_fraction_of_comprehension(test_preds)}\")"
   ]
  },
  {
   "cell_type": "code",
   "execution_count": null,
   "metadata": {},
   "outputs": [],
   "source": []
  }
 ],
 "metadata": {
  "interpreter": {
   "hash": "27febf39bfd259f69c2e36f15f94770a6426a2d8848f91fec23f21f64f7a227c"
  },
  "kernelspec": {
   "display_name": "Python 3.9.12 ('eyemind')",
   "language": "python",
   "name": "python3"
  },
  "language_info": {
   "codemirror_mode": {
    "name": "ipython",
    "version": 3
   },
   "file_extension": ".py",
   "mimetype": "text/x-python",
   "name": "python",
   "nbconvert_exporter": "python",
   "pygments_lexer": "ipython3",
   "version": "3.9.12"
  },
  "orig_nbformat": 4
 },
 "nbformat": 4,
 "nbformat_minor": 2
}
