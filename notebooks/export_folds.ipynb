{
 "cells": [
  {
   "cell_type": "code",
   "execution_count": 1,
   "metadata": {},
   "outputs": [
    {
     "name": "stderr",
     "output_type": "stream",
     "text": [
      "/usr/local/Caskroom/miniconda/base/envs/dg/lib/python3.10/site-packages/tqdm/auto.py:22: TqdmWarning: IProgress not found. Please update jupyter and ipywidgets. See https://ipywidgets.readthedocs.io/en/stable/user_install.html\n",
      "  from .autonotebook import tqdm as notebook_tqdm\n"
     ]
    }
   ],
   "source": [
    "import pandas as pd\n",
    "import csv\n",
    "import os\n",
    "from eyemind.dataloading.load_dataset import load_file_folds\n"
   ]
  },
  {
   "cell_type": "code",
   "execution_count": 2,
   "metadata": {},
   "outputs": [],
   "source": [
    "split_path = '../data_splits/4fold_participant/seed21.yml'\n",
    "split_name=os.path.basename(split_path).replace('.yml','')\n",
    "split_dir=os.path.dirname(split_path)\n",
    "train_out=os.path.join(split_dir,f'pIDs_train_{split_name}.csv')\n",
    "test_out=os.path.join(split_dir,f'pIDs_test_{split_name}.csv')\n",
    "with open(train_out,'w') as f:\n",
    "    f.write('fold,participants')\n",
    "    f.write('\\n')\n",
    "with open(test_out,'w') as f: \n",
    "    f.write('fold,participants')\n",
    "    f.write('\\n')\n",
    "\n",
    "\n",
    "res=load_file_folds(split_path)"
   ]
  },
  {
   "cell_type": "code",
   "execution_count": 3,
   "metadata": {},
   "outputs": [],
   "source": [
    "def instance_to_pID(ilist):\n",
    "    pIDs=set()\n",
    "    for i in ilist:\n",
    "        pID=i.split('-')[0]\n",
    "        pIDs.add(pID)\n",
    "    return(list(pIDs))"
   ]
  },
  {
   "cell_type": "code",
   "execution_count": 5,
   "metadata": {},
   "outputs": [
    {
     "name": "stdout",
     "output_type": "stream",
     "text": [
      "Fold 0 has no overlapping IDs.\n",
      "Fold 1 has no overlapping IDs.\n",
      "Fold 2 has no overlapping IDs.\n",
      "Fold 3 has no overlapping IDs.\n"
     ]
    }
   ],
   "source": [
    "# Check that train and validation sets do not contain the same IDs\n",
    "for i, f in enumerate(res):\n",
    "    train_pIDs = set(instance_to_pID(f[0]))\n",
    "    val_pIDs = set(instance_to_pID(f[1]))\n",
    "    \n",
    "    intersection = train_pIDs.intersection(val_pIDs)\n",
    "    if intersection:\n",
    "        print(f\"Fold {i} has overlapping IDs: {intersection}\")\n",
    "    else:\n",
    "        print(f\"Fold {i} has no overlapping IDs.\")"
   ]
  },
  {
   "cell_type": "code",
   "execution_count": 4,
   "metadata": {},
   "outputs": [
    {
     "ename": "NameError",
     "evalue": "name 'train_pIDs' is not defined",
     "output_type": "error",
     "traceback": [
      "\u001b[0;31m---------------------------------------------------------------------------\u001b[0m",
      "\u001b[0;31mNameError\u001b[0m                                 Traceback (most recent call last)",
      "Cell \u001b[0;32mIn[4], line 1\u001b[0m\n\u001b[0;32m----> 1\u001b[0m \u001b[38;5;28mrepr\u001b[39m(\u001b[43mtrain_pIDs\u001b[49m)\u001b[38;5;241m.\u001b[39mreplace(\u001b[38;5;124m\"\u001b[39m\u001b[38;5;124m'\u001b[39m\u001b[38;5;124m\"\u001b[39m,\u001b[38;5;124m\"\u001b[39m\u001b[38;5;124m\"\u001b[39m)\n",
      "\u001b[0;31mNameError\u001b[0m: name 'train_pIDs' is not defined"
     ]
    }
   ],
   "source": [
    "repr(train_pIDs).replace(\"'\",\"\")"
   ]
  },
  {
   "cell_type": "code",
   "execution_count": 42,
   "metadata": {},
   "outputs": [],
   "source": [
    "# convert to subj level\n",
    "for i,f in enumerate(res):\n",
    "    train=f[0]\n",
    "    train_pIDs=instance_to_pID(train)\n",
    "    train_pIDs_str=repr(train_pIDs).replace(\"'\",\"\")\n",
    "    test=f[1]\n",
    "    test_pIDs=instance_to_pID(test)\n",
    "    test_pIDs_str=repr(test_pIDs).replace(\"'\",\"\")\n",
    "\n",
    "    # write to file\n",
    "    with open(train_out,'a') as w:\n",
    "        writer = csv.writer(w)\n",
    "        writer.writerow([i,train_pIDs_str])\n",
    "        # writer.writerow(f\"{i}, {train_pIDs_str}\")\n",
    "\n",
    "    with open(test_out,'a') as w:\n",
    "        writer = csv.writer(w)\n",
    "        writer.writerow([i,test_pIDs_str])\n"
   ]
  }
 ],
 "metadata": {
  "kernelspec": {
   "display_name": "dg",
   "language": "python",
   "name": "python3"
  },
  "language_info": {
   "codemirror_mode": {
    "name": "ipython",
    "version": 3
   },
   "file_extension": ".py",
   "mimetype": "text/x-python",
   "name": "python",
   "nbconvert_exporter": "python",
   "pygments_lexer": "ipython3",
   "version": "3.10.9"
  },
  "orig_nbformat": 4
 },
 "nbformat": 4,
 "nbformat_minor": 2
}
