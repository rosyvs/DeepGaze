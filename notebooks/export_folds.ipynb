{
 "cells": [
  {
   "cell_type": "code",
   "execution_count": 38,
   "metadata": {},
   "outputs": [],
   "source": [
    "import pandas as pd\n",
    "import csv\n",
    "import os\n",
    "from eyemind.dataloading.load_dataset import load_file_folds\n"
   ]
  },
  {
   "cell_type": "code",
   "execution_count": 39,
   "metadata": {},
   "outputs": [],
   "source": [
    "split_path = '../data_splits/4fold_participant/seed21.yml'\n",
    "split_name=os.path.basename(split_path).replace('.yml','')\n",
    "split_dir=os.path.dirname(split_path)\n",
    "train_out=os.path.join(split_dir,f'pIDs_train_{split_name}.csv')\n",
    "test_out=os.path.join(split_dir,f'pIDs_test_{split_name}.csv')\n",
    "with open(train_out,'w') as f:\n",
    "    f.write('fold,participants')\n",
    "    f.write('\\n')\n",
    "with open(test_out,'w') as f: \n",
    "    f.write('fold,participants')\n",
    "    f.write('\\n')\n",
    "\n",
    "\n",
    "res=load_file_folds(split_path)"
   ]
  },
  {
   "cell_type": "code",
   "execution_count": 40,
   "metadata": {},
   "outputs": [],
   "source": [
    "def instance_to_pID(ilist):\n",
    "    pIDs=set()\n",
    "    for i in ilist:\n",
    "        pID=i.split('-')[0]\n",
    "        pIDs.add(pID)\n",
    "    return(list(pIDs))"
   ]
  },
  {
   "cell_type": "code",
   "execution_count": 41,
   "metadata": {},
   "outputs": [
    {
     "data": {
      "text/plain": [
       "'[EML1_071, EML1_042, EML1_100, EML1_086, EML1_157, EML1_045, EML1_020, EML1_132, EML1_128, EML1_109, EML1_039, EML1_156, EML1_060, EML1_033, EML1_037, EML1_064, EML1_141, EML1_059, EML1_053, EML1_038, EML1_113, EML1_007, EML1_149, EML1_036, EML1_068, EML1_136, EML1_005, EML1_124, EML1_063, EML1_098, EML1_082, EML1_145, EML1_139, EML1_030, EML1_092, EML1_024, EML1_065, EML1_079, EML1_017, EML1_016, EML1_110, EML1_050, EML1_117, EML1_155, EML1_012, EML1_118, EML1_026, EML1_104, EML1_089, EML1_143, EML1_072, EML1_067, EML1_158, EML1_069, EML1_148, EML1_140, EML1_101, EML1_070, EML1_135, EML1_090, EML1_105, EML1_028, EML1_048, EML1_035, EML1_043, EML1_019, EML1_034, EML1_032, EML1_051, EML1_137, EML1_010, EML1_011, EML1_106, EML1_115, EML1_074, EML1_014, EML1_096, EML1_056, EML1_130, EML1_123, EML1_150, EML1_084, EML1_122, EML1_114, EML1_049, EML1_022, EML1_076, EML1_112, EML1_125, EML1_015, EML1_021, EML1_093, EML1_003, EML1_046, EML1_144, EML1_062, EML1_146, EML1_107, EML1_075, EML1_087, EML1_044, EML1_099, EML1_151, EML1_121, EML1_095, EML1_085, EML1_031, EML1_058, EML1_127, EML1_102]'"
      ]
     },
     "execution_count": 41,
     "metadata": {},
     "output_type": "execute_result"
    }
   ],
   "source": [
    "repr(train_pIDs).replace(\"'\",\"\")"
   ]
  },
  {
   "cell_type": "code",
   "execution_count": 42,
   "metadata": {},
   "outputs": [],
   "source": [
    "# convert to subj level\n",
    "for i,f in enumerate(res):\n",
    "    train=f[0]\n",
    "    train_pIDs=instance_to_pID(train)\n",
    "    train_pIDs_str=repr(train_pIDs).replace(\"'\",\"\")\n",
    "    test=f[1]\n",
    "    test_pIDs=instance_to_pID(test)\n",
    "    test_pIDs_str=repr(test_pIDs).replace(\"'\",\"\")\n",
    "\n",
    "    # write to file\n",
    "    with open(train_out,'a') as w:\n",
    "        writer = csv.writer(w)\n",
    "        writer.writerow([i,train_pIDs_str])\n",
    "        # writer.writerow(f\"{i}, {train_pIDs_str}\")\n",
    "\n",
    "    with open(test_out,'a') as w:\n",
    "        writer = csv.writer(w)\n",
    "        writer.writerow([i,test_pIDs_str])\n"
   ]
  }
 ],
 "metadata": {
  "kernelspec": {
   "display_name": "dg",
   "language": "python",
   "name": "python3"
  },
  "language_info": {
   "codemirror_mode": {
    "name": "ipython",
    "version": 3
   },
   "file_extension": ".py",
   "mimetype": "text/x-python",
   "name": "python",
   "nbconvert_exporter": "python",
   "pygments_lexer": "ipython3",
   "version": "3.10.9"
  },
  "orig_nbformat": 4
 },
 "nbformat": 4,
 "nbformat_minor": 2
}
