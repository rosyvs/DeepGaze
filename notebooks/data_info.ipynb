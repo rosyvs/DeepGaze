{
 "cells": [
  {
   "attachments": {},
   "cell_type": "markdown",
   "metadata": {},
   "source": [
    "# Get counts for paper\n",
    "- n subjects\n",
    "- mean and SD reading time\n",
    "- "
   ]
  },
  {
   "cell_type": "code",
   "execution_count": 1,
   "metadata": {},
   "outputs": [],
   "source": [
    "import pandas as pd"
   ]
  },
  {
   "cell_type": "code",
   "execution_count": 2,
   "metadata": {},
   "outputs": [],
   "source": [
    "data_path = '../data/processed/EML1_pageLevel_500+_matchEDMinstances.csv'\n",
    "demog_path='/Users/roso8920/Dropbox (Emotive Computing)/EyeMindLink/Processed/Behaviour/EML1_QtxParticipantLevel.csv'\n",
    "instances = pd.read_csv(data_path)\n",
    "demog=pd.read_csv(demog_path)"
   ]
  },
  {
   "cell_type": "code",
   "execution_count": 16,
   "metadata": {},
   "outputs": [
    {
     "name": "stdout",
     "output_type": "stream",
     "text": [
      "n subjects: 147\n",
      "mean age 23.122448979591837 (sd 6.4848590347937565)\n",
      "female: 65.3061224489796% male: 34.01360544217687% other:0.6802721088435374\n"
     ]
    },
    {
     "data": {
      "text/plain": [
       "White                        75.510204\n",
       "Asian                         9.523810\n",
       "Hispanic                      6.802721\n",
       "Other                         5.442177\n",
       "Prefer not to say             2.040816\n",
       "Black or African American     0.680272\n",
       "Name: demog_eth, dtype: float64"
      ]
     },
     "execution_count": 16,
     "metadata": {},
     "output_type": "execute_result"
    }
   ],
   "source": [
    "# get subj from instances\n",
    "subjects = instances['ParticipantID'].unique()\n",
    "print(f'n subjects: {len(subjects)}')\n",
    "# merge w demog and drop unused\n",
    "demog_filt=demog.join(pd.Series(subjects, name='ParticipantID'), how='right')\n",
    "# summarise demog\n",
    "print(f\"mean age {demog_filt['demog_age'].mean()} (sd {demog_filt['demog_age'].std()})\")\n",
    "print(f\"female: {100*sum(demog_filt['demog_gen']=='Female')/len(subjects)}% male: {100*sum(demog_filt['demog_gen']=='Male')/len(subjects)}% other:{100*sum(demog_filt['demog_gen']=='Other')/len(subjects)}\")\n",
    "100*demog_filt['demog_eth'].value_counts()/len(subjects)"
   ]
  },
  {
   "cell_type": "code",
   "execution_count": 18,
   "metadata": {},
   "outputs": [
    {
     "name": "stdout",
     "output_type": "stream",
     "text": [
      "mean RT: 33.448744639999994, sd RT: 15.077393491974439 seconds\n"
     ]
    }
   ],
   "source": [
    "meanRT=instances['readtime'].mean()\n",
    "sdRT=instances['readtime'].std()\n",
    "print(f\"mean RT: {meanRT}, sd RT: {sdRT} seconds\")"
   ]
  }
 ],
 "metadata": {
  "kernelspec": {
   "display_name": "dg",
   "language": "python",
   "name": "python3"
  },
  "language_info": {
   "codemirror_mode": {
    "name": "ipython",
    "version": 3
   },
   "file_extension": ".py",
   "mimetype": "text/x-python",
   "name": "python",
   "nbconvert_exporter": "python",
   "pygments_lexer": "ipython3",
   "version": "3.10.9"
  },
  "orig_nbformat": 4
 },
 "nbformat": 4,
 "nbformat_minor": 2
}
